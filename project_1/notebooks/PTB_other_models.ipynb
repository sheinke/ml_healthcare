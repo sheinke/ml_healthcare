{
 "cells": [
  {
   "cell_type": "markdown",
   "metadata": {
    "colab_type": "text",
    "id": "SNllL2rb30gV"
   },
   "source": [
    "# Various models for PTB Dataset\n",
    "The goal of this notebook is to compare different non-RNN architectures for the PTB Diagnostic ECG Database: https://www.physionet.org/content/ptbdb/1.0.0/  \n",
    "The data was downloaded from kaggle: https://www.kaggle.com/shayanfazeli/heartbeat\n",
    "\n",
    "We compare the results obtained with different trained networks with the CNN baseline."
   ]
  },
  {
   "cell_type": "code",
   "execution_count": 1,
   "metadata": {
    "colab": {
     "base_uri": "https://localhost:8080/",
     "height": 34
    },
    "colab_type": "code",
    "id": "Bpg94tVq8Z_J",
    "outputId": "ba1e68f3-ff25-43d7-b710-d6c3d2e9fad8"
   },
   "outputs": [
    {
     "name": "stderr",
     "output_type": "stream",
     "text": [
      "Using TensorFlow backend.\n"
     ]
    }
   ],
   "source": [
    "import pandas as pd\n",
    "import numpy as np\n",
    "import seaborn as sns\n",
    "import matplotlib.pyplot as plt\n",
    "from keras.engine.saving import load_model\n",
    "from sklearn.metrics import accuracy_score, f1_score, roc_curve, precision_recall_curve, \\\n",
    "roc_auc_score, average_precision_score\n",
    "from sklearn.model_selection import train_test_split\n",
    "from sklearn.model_selection import StratifiedKFold"
   ]
  },
  {
   "cell_type": "markdown",
   "metadata": {
    "colab_type": "text",
    "id": "llzSM8Y601fw"
   },
   "source": [
    "# Read data"
   ]
  },
  {
   "cell_type": "code",
   "execution_count": 2,
   "metadata": {
    "colab": {},
    "colab_type": "code",
    "id": "sCfKdMQC8XpS"
   },
   "outputs": [],
   "source": [
    "data_path_normal =  \"../input/ptbdb_normal.csv\"\n",
    "data_path_abnormal = \"../input/ptbdb_abnormal.csv\""
   ]
  },
  {
   "cell_type": "code",
   "execution_count": 3,
   "metadata": {
    "colab": {},
    "colab_type": "code",
    "id": "YrXQlCYNs8qH"
   },
   "outputs": [],
   "source": [
    "df_1 = pd.read_csv(data_path_normal, header=None)\n",
    "df_2 = pd.read_csv(data_path_abnormal, header=None)\n",
    "df = pd.concat([df_1, df_2])\n",
    "\n",
    "df_train, df_test = train_test_split(df, test_size=0.2, random_state=1337, stratify=df[187])\n",
    "\n",
    "Y = np.array(df_train[187].values).astype(np.int8)\n",
    "X = np.array(df_train[list(range(187))].values)[..., np.newaxis]\n",
    "\n",
    "Y_test = np.array(df_test[187].values).astype(np.int8)\n",
    "X_test = np.array(df_test[list(range(187))].values)[..., np.newaxis]"
   ]
  },
  {
   "cell_type": "markdown",
   "metadata": {
    "colab_type": "text",
    "id": "nDNxnWzD0-XT"
   },
   "source": [
    "# Baseline results"
   ]
  },
  {
   "cell_type": "code",
   "execution_count": 4,
   "metadata": {
    "colab": {},
    "colab_type": "code",
    "id": "Qgtk47AE8Gc7"
   },
   "outputs": [],
   "source": [
    "def get_baseline_resuts():\n",
    "    Y = np.array(df_train[187].values).astype(np.int8)\n",
    "    X = np.array(df_train[list(range(187))].values)[..., np.newaxis]\n",
    "\n",
    "    Y_test = np.array(df_test[187].values).astype(np.int8)\n",
    "    X_test = np.array(df_test[list(range(187))].values)[..., np.newaxis]\n",
    "\n",
    "    file_path = \"../saved_trained_models/baseline_cnn_ptb.h5\"\n",
    "\n",
    "    model = load_model(file_path)\n",
    "\n",
    "    pred_test_prob = model.predict(X_test)\n",
    "    pred_test = (pred_test_prob>0.5).astype(np.int8)\n",
    "\n",
    "    f1 = f1_score(Y_test, pred_test)\n",
    "    acc = accuracy_score(Y_test, pred_test)\n",
    "\n",
    "    return pred_test_prob, pred_test, f1, acc"
   ]
  },
  {
   "cell_type": "markdown",
   "metadata": {
    "colab_type": "text",
    "id": "K38-in6u1FnX"
   },
   "source": [
    "# Compare new CNN with baseline\n",
    "The following compares the results of the baseline CNN and our CNN implementation."
   ]
  },
  {
   "cell_type": "code",
   "execution_count": 5,
   "metadata": {
    "colab": {},
    "colab_type": "code",
    "id": "fyz5VanDqKd_"
   },
   "outputs": [],
   "source": [
    "num_classes = 2\n",
    "timepoints_per_sample = 187\n",
    "\n",
    "# normalize without taking the zero-padding at the end into account:\n",
    "for sample_idx in range(X.shape[0]):\n",
    "    first_zero_sample = timepoints_per_sample\n",
    "    while X[sample_idx, first_zero_sample - 1, 0] == 0:\n",
    "        first_zero_sample -= 1\n",
    "    X[sample_idx, 0: first_zero_sample, 0] -= np.mean(X[sample_idx, 0: first_zero_sample, 0])\n",
    "    X[sample_idx, 0: first_zero_sample, 0] /= np.std(X[sample_idx, 0: first_zero_sample, 0])\n",
    "\n",
    "for sample_idx in range(X_test.shape[0]):\n",
    "    first_zero_sample = timepoints_per_sample\n",
    "    while X_test[sample_idx, first_zero_sample - 1, 0] == 0:\n",
    "        first_zero_sample -= 1\n",
    "    X_test[sample_idx, 0: first_zero_sample, 0] -= np.mean(X_test[sample_idx, 0: first_zero_sample, 0])\n",
    "    X_test[sample_idx, 0: first_zero_sample, 0] /= np.std(X_test[sample_idx, 0: first_zero_sample, 0])"
   ]
  },
  {
   "cell_type": "code",
   "execution_count": 6,
   "metadata": {
    "colab": {},
    "colab_type": "code",
    "id": "oGeX3FB9x5jv"
   },
   "outputs": [],
   "source": [
    "# final evaluation on test set\n",
    "file_path = \"../saved_trained_models/own_cnn_ptb.h5\"\n",
    "model = load_model(file_path)\n",
    "cnn_pred_test_prob = model.predict(X_test)\n",
    "cnn_pred_test = (cnn_pred_test_prob > 0.5).astype(np.int8)\n",
    "\n",
    "cnn_f1 = f1_score(Y_test, cnn_pred_test)\n",
    "cnn_acc = accuracy_score(Y_test, cnn_pred_test)"
   ]
  },
  {
   "cell_type": "code",
   "execution_count": 7,
   "metadata": {
    "colab": {},
    "colab_type": "code",
    "id": "eShSPTSXyOcy"
   },
   "outputs": [],
   "source": [
    "base_pred_test_prob, base_pred_test, base_f1, base_acc = get_baseline_resuts()"
   ]
  },
  {
   "cell_type": "code",
   "execution_count": 8,
   "metadata": {
    "colab": {},
    "colab_type": "code",
    "id": "XB8sf5md_M_m"
   },
   "outputs": [],
   "source": [
    "stats = pd.DataFrame({\"model\":[ \"baseline\",\"new CNN\"], \n",
    "                      \"accuracy\":[base_acc, cnn_acc], \n",
    "                      \"f1_score\":[base_f1, cnn_f1]})"
   ]
  },
  {
   "cell_type": "code",
   "execution_count": 9,
   "metadata": {
    "colab": {
     "base_uri": "https://localhost:8080/",
     "height": 350
    },
    "colab_type": "code",
    "id": "do230WHA_ymX",
    "outputId": "009bb27e-3e9a-4ab1-8e7d-c26cb716ffec"
   },
   "outputs": [
    {
     "data": {
      "image/png": "[encoded data removed]",
      "text/plain": [
       "<Figure size 288x360 with 1 Axes>"
      ]
     },
     "metadata": {
      "needs_background": "light"
     },
     "output_type": "display_data"
    }
   ],
   "source": [
    "plt.figure(figsize=(4, 5))\n",
    "splot = sns.barplot(x=\"model\", y=\"accuracy\", data=stats, palette=\"Spectral\")\n",
    "plt.title(\"Accuracy comparison\")\n",
    "for p in splot.patches:\n",
    "    splot.annotate(format(p.get_height(), '.3f'), (p.get_x() + p.get_width() / 2., p.get_height()), \n",
    "                   ha = 'center', va = 'center', xytext = (0, 5), textcoords = 'offset points')\n",
    "plt.show()"
   ]
  },
  {
   "cell_type": "code",
   "execution_count": 10,
   "metadata": {
    "colab": {
     "base_uri": "https://localhost:8080/",
     "height": 350
    },
    "colab_type": "code",
    "id": "HnUzmef6AVM5",
    "outputId": "481d890b-5a93-4e4c-890a-9797d3c119d0"
   },
   "outputs": [
    {
     "data": {
      "image/png": "[encoded data removed]",
      "text/plain": [
       "<Figure size 288x360 with 1 Axes>"
      ]
     },
     "metadata": {
      "needs_background": "light"
     },
     "output_type": "display_data"
    }
   ],
   "source": [
    "plt.figure(figsize=(4, 5))\n",
    "splot = sns.barplot(x=\"model\", y=\"f1_score\", data=stats, palette=\"Spectral\")\n",
    "plt.title(\"f1 score comparison\")\n",
    "for p in splot.patches:\n",
    "    splot.annotate(format(p.get_height(), '.3f'), (p.get_x() + p.get_width() / 2., p.get_height()), \n",
    "                   ha = 'center', va = 'center', xytext = (0, 5), textcoords = 'offset points')\n",
    "plt.show()"
   ]
  },
  {
   "cell_type": "markdown",
   "metadata": {},
   "source": [
    "The results of the basline CNN and the new CNN are very similar."
   ]
  },
  {
   "cell_type": "code",
   "execution_count": 11,
   "metadata": {
    "colab": {},
    "colab_type": "code",
    "id": "gfvt90JcvFIo"
   },
   "outputs": [],
   "source": [
    "def plot_roc_curve(labels, predictions, new_predictions, model):\n",
    "    fp, tp, _ = roc_curve(labels, predictions)\n",
    "    new_fp, new_tp, _ = roc_curve(labels, new_predictions)\n",
    "\n",
    "    sns.lineplot(100*fp, 100*tp, label=\"baseline, AUC = {0:.3f}\".\\\n",
    "               format(roc_auc_score(labels, predictions)))\n",
    "    sns.lineplot(100*new_fp, 100*new_tp, label=model+\", AUC = {0:.3f}\".\\\n",
    "               format(roc_auc_score(labels, new_predictions)))\n",
    "    plt.title(\"ROC curve\")\n",
    "    plt.xlabel('False positives [%]')\n",
    "    plt.ylabel('True positives [%]')\n",
    "    plt.show()\n",
    "\n",
    "def plot_precision_recall_curve(labels, predictions, new_predictions, model):\n",
    "    precision, recall, _ = precision_recall_curve(labels, predictions)\n",
    "    new_precision, new_recall, _ = precision_recall_curve(labels, new_predictions)\n",
    "\n",
    "    sns.lineplot(recall, precision, label=\"baseline, AP = {0:.3f}\".\\\n",
    "               format(average_precision_score(labels, predictions)))\n",
    "    sns.lineplot(new_recall, new_precision, label=model+\", AP = {0:.3f}\".\\\n",
    "               format(average_precision_score(labels, new_predictions)))\n",
    "    plt.title(\"Precision-recall curve\")\n",
    "    plt.xlabel('Recall')\n",
    "    plt.ylabel('Precision')\n",
    "    plt.show()\n"
   ]
  },
  {
   "cell_type": "code",
   "execution_count": 12,
   "metadata": {
    "colab": {
     "base_uri": "https://localhost:8080/",
     "height": 295
    },
    "colab_type": "code",
    "id": "iOvH1rhFAi16",
    "outputId": "d7918c99-3515-41e8-da25-5b1c36f12e78"
   },
   "outputs": [
    {
     "data": {
      "image/png": "[encoded data removed]",
      "text/plain": [
       "<Figure size 432x288 with 1 Axes>"
      ]
     },
     "metadata": {
      "needs_background": "light"
     },
     "output_type": "display_data"
    }
   ],
   "source": [
    "plot_roc_curve(Y_test, base_pred_test_prob, cnn_pred_test_prob, \"new CNN\")"
   ]
  },
  {
   "cell_type": "code",
   "execution_count": 13,
   "metadata": {
    "colab": {
     "base_uri": "https://localhost:8080/",
     "height": 295
    },
    "colab_type": "code",
    "id": "qZrEAiM0BPAu",
    "outputId": "a9cfc7d1-d4ef-4516-8352-2bb43c3dd129"
   },
   "outputs": [
    {
     "data": {
      "image/png": "[encoded data removed]",
      "text/plain": [
       "<Figure size 432x288 with 1 Axes>"
      ]
     },
     "metadata": {
      "needs_background": "light"
     },
     "output_type": "display_data"
    }
   ],
   "source": [
    "plot_precision_recall_curve(Y_test, base_pred_test_prob, cnn_pred_test_prob, \"new CNN\")"
   ]
  },
  {
   "cell_type": "markdown",
   "metadata": {},
   "source": [
    "Both CNNs have nearly perfect ROC and AP statistics."
   ]
  },
  {
   "cell_type": "markdown",
   "metadata": {
    "colab_type": "text",
    "id": "_RnInPVG4-tE"
   },
   "source": [
    "# Compare ResNet with baseline\n",
    "\n",
    "The following compares the results of the baseline CNN and the ResNet used in: ECG Heartbeat Classification: A Deep TransferableRepresentation (with final layer adapted to PTB dataset).\n"
   ]
  },
  {
   "cell_type": "code",
   "execution_count": 14,
   "metadata": {
    "colab": {},
    "colab_type": "code",
    "id": "gXguiCrs4t0U"
   },
   "outputs": [],
   "source": [
    "# final evaluation on test set\n",
    "file_path = \"../saved_trained_models/paper_resnet_ptb.h5\"\n",
    "model = load_model(file_path)\n",
    "cnn_pred_test_prob = model.predict(X_test)\n",
    "cnn_pred_test = (cnn_pred_test_prob > 0.5).astype(np.int8)\n",
    "\n",
    "cnn_f1 = f1_score(Y_test, cnn_pred_test)\n",
    "cnn_acc = accuracy_score(Y_test, cnn_pred_test)"
   ]
  },
  {
   "cell_type": "code",
   "execution_count": 15,
   "metadata": {
    "colab": {},
    "colab_type": "code",
    "id": "c7GNb2hk4uXG"
   },
   "outputs": [],
   "source": [
    "stats = pd.DataFrame({\"model\":[ \"baseline\",\"residual CNN\"],\n",
    "                      \"accuracy\":[base_acc, cnn_acc],\n",
    "                      \"f1_score\":[base_f1, cnn_f1]})"
   ]
  },
  {
   "cell_type": "code",
   "execution_count": 16,
   "metadata": {
    "colab": {
     "base_uri": "https://localhost:8080/",
     "height": 350
    },
    "colab_type": "code",
    "id": "wExIXa4340ji",
    "outputId": "c59329b7-6803-4808-c4ba-0d4ff7e3b87b"
   },
   "outputs": [
    {
     "data": {
      "image/png": "[encoded data removed]",
      "text/plain": [
       "<Figure size 288x360 with 1 Axes>"
      ]
     },
     "metadata": {
      "needs_background": "light"
     },
     "output_type": "display_data"
    }
   ],
   "source": [
    "plt.figure(figsize=(4, 5))\n",
    "splot = sns.barplot(x=\"model\", y=\"accuracy\", data=stats, palette=\"Spectral\")\n",
    "plt.title(\"Accuracy comparison\")\n",
    "for p in splot.patches:\n",
    "    splot.annotate(format(p.get_height(), '.3f'), (p.get_x() + p.get_width() / 2., p.get_height()), \n",
    "                   ha = 'center', va = 'center', xytext = (0, 5), textcoords = 'offset points')\n",
    "plt.show()"
   ]
  },
  {
   "cell_type": "code",
   "execution_count": 17,
   "metadata": {
    "colab": {
     "base_uri": "https://localhost:8080/",
     "height": 350
    },
    "colab_type": "code",
    "id": "NSjAwqop42i8",
    "outputId": "a704628a-6904-4ce2-d857-cd897c701036"
   },
   "outputs": [
    {
     "data": {
      "image/png": "[encoded data removed]",
      "text/plain": [
       "<Figure size 288x360 with 1 Axes>"
      ]
     },
     "metadata": {
      "needs_background": "light"
     },
     "output_type": "display_data"
    }
   ],
   "source": [
    "plt.figure(figsize=(4, 5))\n",
    "splot = sns.barplot(x=\"model\", y=\"f1_score\", data=stats, palette=\"Spectral\")\n",
    "plt.title(\"f1 score comparison\")\n",
    "for p in splot.patches:\n",
    "    splot.annotate(format(p.get_height(), '.3f'), (p.get_x() + p.get_width() / 2., p.get_height()), \n",
    "                   ha = 'center', va = 'center', xytext = (0, 5), textcoords = 'offset points')\n",
    "plt.show()"
   ]
  },
  {
   "cell_type": "code",
   "execution_count": 18,
   "metadata": {
    "colab": {
     "base_uri": "https://localhost:8080/",
     "height": 295
    },
    "colab_type": "code",
    "id": "kIg8If1p44Ho",
    "outputId": "563e471a-0f8b-4faf-e47c-bc823f00a68a"
   },
   "outputs": [
    {
     "data": {
      "image/png": "[encoded data removed]",
      "text/plain": [
       "<Figure size 432x288 with 1 Axes>"
      ]
     },
     "metadata": {
      "needs_background": "light"
     },
     "output_type": "display_data"
    }
   ],
   "source": [
    "plot_roc_curve(Y_test, base_pred_test_prob, cnn_pred_test_prob, \"residual CNN\")"
   ]
  },
  {
   "cell_type": "code",
   "execution_count": 19,
   "metadata": {
    "colab": {
     "base_uri": "https://localhost:8080/",
     "height": 295
    },
    "colab_type": "code",
    "id": "wAmNoIH0450t",
    "outputId": "cd7a142c-3c69-4e58-c16b-17eff176ce17"
   },
   "outputs": [
    {
     "data": {
      "image/png": "[encoded data removed]",
      "text/plain": [
       "<Figure size 432x288 with 1 Axes>"
      ]
     },
     "metadata": {
      "needs_background": "light"
     },
     "output_type": "display_data"
    }
   ],
   "source": [
    "plot_precision_recall_curve(Y_test, base_pred_test_prob, cnn_pred_test_prob, \"residual CNN\")"
   ]
  },
  {
   "cell_type": "markdown",
   "metadata": {},
   "source": [
    "Residual CNN performs slightly better in all checked statistics measures than the baseline CNN."
   ]
  }
 ],
 "metadata": {
  "accelerator": "GPU",
  "colab": {
   "collapsed_sections": [],
   "name": "PTB_other_models.ipynb",
   "provenance": []
  },
  "kernelspec": {
   "display_name": "Python 3",
   "language": "python",
   "name": "python3"
  },
  "language_info": {
   "codemirror_mode": {
    "name": "ipython",
    "version": 3
   },
   "file_extension": ".py",
   "mimetype": "text/x-python",
   "name": "python",
   "nbconvert_exporter": "python",
   "pygments_lexer": "ipython3",
   "version": "3.7.6"
  }
 },
 "nbformat": 4,
 "nbformat_minor": 1
}
