{
 "cells": [
  {
   "cell_type": "markdown",
   "metadata": {
    "colab_type": "text",
    "id": "HIqRr0BeDiej"
   },
   "source": [
    "# Ensembles for MIT BIH Dataset\n",
    "The goal of this notebook is to evaluate the potential benefits of an ensemble model for MIT-BIH Arrhythmia Database: https://physionet.org/physiobank/database/mitdb/  \n",
    "The data was downloaded from kaggle: https://www.kaggle.com/shayanfazeli/heartbeat  \n"
   ]
  },
  {
   "cell_type": "code",
   "execution_count": 1,
   "metadata": {
    "colab": {
     "base_uri": "https://localhost:8080/",
     "height": 34
    },
    "colab_type": "code",
    "id": "GggbZgL0Diem",
    "outputId": "0e5bb6b8-8e1b-4fcf-a630-fedb6e62fa5d",
    "scrolled": true
   },
   "outputs": [
    {
     "name": "stderr",
     "output_type": "stream",
     "text": [
      "Using TensorFlow backend.\n"
     ]
    }
   ],
   "source": [
    "import pandas as pd\n",
    "import numpy as np\n",
    "import matplotlib.pyplot as plt\n",
    "from keras.engine.saving import load_model\n",
    "from sklearn.metrics import accuracy_score, f1_score, roc_curve, auc\n",
    "from sklearn.model_selection import train_test_split\n",
    "from sklearn.linear_model import LogisticRegression"
   ]
  },
  {
   "cell_type": "markdown",
   "metadata": {
    "colab_type": "text",
    "id": "PEaixsE5Dieq"
   },
   "source": [
    "### Read the data and normalize"
   ]
  },
  {
   "cell_type": "code",
   "execution_count": 2,
   "metadata": {
    "colab": {},
    "colab_type": "code",
    "id": "YyaiKzKMDies"
   },
   "outputs": [],
   "source": [
    "timepoints_per_sample = 187\n",
    "train_path = \"../input/mitbih_train.csv\"\n",
    "test_path = \"../input/mitbih_test.csv\"\n",
    "df_train = pd.read_csv(train_path, header=None)\n",
    "df_train = df_train.sample(frac=1)\n",
    "df_test = pd.read_csv(test_path, header=None)\n",
    "\n",
    "Y = np.array(df_train[187].values).astype(np.int8)\n",
    "X = np.array(df_train[list(range(187))].values)[..., np.newaxis]\n",
    "\n",
    "Y_test = np.array(df_test[187].values).astype(np.int8)\n",
    "X_test = np.array(df_test[list(range(187))].values)[..., np.newaxis]\n",
    "\n",
    "# normalize without taking the zero-padding at the end into account:\n",
    "for sample_idx in range(X.shape[0]):\n",
    "    first_zero_sample = timepoints_per_sample\n",
    "    while X[sample_idx, first_zero_sample - 1, 0] == 0:\n",
    "        first_zero_sample -= 1\n",
    "    X[sample_idx, 0: first_zero_sample, 0] -= np.mean(X[sample_idx, 0: first_zero_sample, 0])\n",
    "    X[sample_idx, 0: first_zero_sample, 0] /= np.std(X[sample_idx, 0: first_zero_sample, 0])\n",
    "\n",
    "for sample_idx in range(X_test.shape[0]):\n",
    "    first_zero_sample = timepoints_per_sample\n",
    "    while X_test[sample_idx, first_zero_sample - 1, 0] == 0:\n",
    "        first_zero_sample -= 1\n",
    "    X_test[sample_idx, 0: first_zero_sample, 0] -= np.mean(X_test[sample_idx, 0: first_zero_sample, 0])\n",
    "    X_test[sample_idx, 0: first_zero_sample, 0] /= np.std(X_test[sample_idx, 0: first_zero_sample, 0])"
   ]
  },
  {
   "cell_type": "markdown",
   "metadata": {},
   "source": [
    "## Model Averaging\n",
    "\n",
    "The following is a simple approach to aggregate the results from several classification models."
   ]
  },
  {
   "cell_type": "code",
   "execution_count": 3,
   "metadata": {},
   "outputs": [],
   "source": [
    "MODEL_NUM = 3\n",
    "\n",
    "resnet_mitbih = load_model(\"../saved_trained_models/paper_resnet_mitbih.h5\")\n",
    "own_cnn_mitbih = load_model(\"../saved_trained_models/own_cnn_mitbih.h5\")\n",
    "own_lstm_mitbih = load_model(\"../saved_trained_models/own_lstm_mitbih.h5\")\n",
    "\n",
    "model_ensemble = [resnet_mitbih, own_cnn_mitbih, own_lstm_mitbih]"
   ]
  },
  {
   "cell_type": "markdown",
   "metadata": {},
   "source": [
    "Average the outputs of the sigmoid layer and classify based on them."
   ]
  },
  {
   "cell_type": "code",
   "execution_count": 4,
   "metadata": {},
   "outputs": [],
   "source": [
    "ensemble_output_1 = (resnet_mitbih.predict(X_test) + own_cnn_mitbih.predict(X_test) + \n",
    "                     own_lstm_mitbih.predict(X_test))/MODEL_NUM\n",
    "\n",
    "prediction_1 = np.argmax(ensemble_output_1, axis=-1)"
   ]
  },
  {
   "cell_type": "code",
   "execution_count": 5,
   "metadata": {},
   "outputs": [
    {
     "name": "stdout",
     "output_type": "stream",
     "text": [
      "Accuracy: 0.988\n",
      "F1 score: 0.927\n"
     ]
    }
   ],
   "source": [
    "print(\"Accuracy: {0:.3f}\".format(accuracy_score(Y_test, prediction_1)))\n",
    "print(\"F1 score: {0:.3f}\".format(f1_score(Y_test, prediction_1, average=\"macro\")))"
   ]
  },
  {
   "cell_type": "markdown",
   "metadata": {},
   "source": [
    "The performance of the created ensemble is slightly better than the baseline."
   ]
  }
 ],
 "metadata": {
  "colab": {
   "name": "MITBIH_ensemble.ipynb",
   "provenance": []
  },
  "kernelspec": {
   "display_name": "Python 3",
   "language": "python",
   "name": "python3"
  },
  "language_info": {
   "codemirror_mode": {
    "name": "ipython",
    "version": 3
   },
   "file_extension": ".py",
   "mimetype": "text/x-python",
   "name": "python",
   "nbconvert_exporter": "python",
   "pygments_lexer": "ipython3",
   "version": "3.7.6"
  }
 },
 "nbformat": 4,
 "nbformat_minor": 1
}
