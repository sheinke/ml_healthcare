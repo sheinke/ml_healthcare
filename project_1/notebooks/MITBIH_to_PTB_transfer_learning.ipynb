{
 "cells": [
  {
   "cell_type": "markdown",
   "metadata": {
    "colab_type": "text",
    "id": "Qr6EnlqfAN8-"
   },
   "source": [
    "# Transfer Learning for stacked unidirectional LSTMs\n",
    "In order to evaluate the potential benefits of transfer learning with RNN networks, we take our stacked unidirectional LSTM network that was pretrained on the MITBIH dataset (https://physionet.org/physiobank/database/mitdb/), copy the weights from the LSTM layers and add two new fully connected layers with 50 neurons each together with the new output layer.  \n",
    "\n",
    "In the first experiment we then freeze the copied layers (i.e. the LSTM layers) and train the new FC layers on the PTB dataset (https://www.physionet.org/content/ptbdb/1.0.0/).\n",
    "\n",
    "In the second experiment we leave the transferred layers trainable.  \n",
    "In the thid experiment we first freeze the copied layers and later train the whole model.\n",
    "\n",
    "The data was downloaded from kaggle: https://www.kaggle.com/shayanfazeli/heartbeat "
   ]
  },
  {
   "cell_type": "markdown",
   "metadata": {
    "colab_type": "text",
    "id": "stsS-tsWAN9A"
   },
   "source": [
    "### Import libraries, read the data and normalize"
   ]
  },
  {
   "cell_type": "code",
   "execution_count": 1,
   "metadata": {
    "colab": {
     "base_uri": "https://localhost:8080/",
     "height": 34
    },
    "colab_type": "code",
    "id": "f6bjkZIhAN9B",
    "outputId": "b2dbf819-e20d-42c2-92dd-e478c0ced6de"
   },
   "outputs": [
    {
     "name": "stderr",
     "output_type": "stream",
     "text": [
      "Using TensorFlow backend.\n"
     ]
    }
   ],
   "source": [
    "import pandas as pd\n",
    "import numpy as np\n",
    "import matplotlib.pyplot as plt\n",
    "import seaborn as sns\n",
    "from keras import optimizers, losses, Model\n",
    "from keras.callbacks import ModelCheckpoint, EarlyStopping, ReduceLROnPlateau\n",
    "from keras.layers import Dense\n",
    "from keras.engine.saving import load_model\n",
    "from sklearn.metrics import accuracy_score, f1_score, roc_curve, precision_recall_curve, \\\n",
    "roc_auc_score, average_precision_score\n",
    "from sklearn.model_selection import train_test_split"
   ]
  },
  {
   "cell_type": "code",
   "execution_count": 2,
   "metadata": {
    "colab": {},
    "colab_type": "code",
    "id": "DWAYW63uAoFD"
   },
   "outputs": [],
   "source": [
    "timepoints_per_sample = 187\n",
    "data_path_normal = \"../input/ptbdb_normal.csv\"\n",
    "data_path_abnormal = \"../input/ptbdb_abnormal.csv\"\n",
    "\n",
    "df_1 = pd.read_csv(data_path_normal, header=None)\n",
    "df_2 = pd.read_csv(data_path_abnormal, header=None)\n",
    "df = pd.concat([df_1, df_2])\n",
    "\n",
    "df_train, df_test = train_test_split(df, test_size=0.2, random_state=1337, stratify=df[187])\n",
    "\n",
    "Y = np.array(df_train[187].values).astype(np.int8)\n",
    "X = np.array(df_train[list(range(187))].values)[..., np.newaxis]\n",
    "\n",
    "Y_test = np.array(df_test[187].values).astype(np.int8)\n",
    "X_test = np.array(df_test[list(range(187))].values)[..., np.newaxis]"
   ]
  },
  {
   "cell_type": "code",
   "execution_count": 3,
   "metadata": {
    "colab": {},
    "colab_type": "code",
    "id": "SzzyC5WqAp1B"
   },
   "outputs": [],
   "source": [
    "# normalize without taking the zero-padding at the end into account:\n",
    "for sample_idx in range(X.shape[0]):\n",
    "    first_zero_sample = timepoints_per_sample\n",
    "    while X[sample_idx, first_zero_sample - 1, 0] == 0:\n",
    "        first_zero_sample -= 1\n",
    "    X[sample_idx, 0: first_zero_sample, 0] -= np.mean(X[sample_idx, 0: first_zero_sample, 0])\n",
    "    X[sample_idx, 0: first_zero_sample, 0] /= np.std(X[sample_idx, 0: first_zero_sample, 0])\n",
    "\n",
    "for sample_idx in range(X_test.shape[0]):\n",
    "    first_zero_sample = timepoints_per_sample\n",
    "    while X_test[sample_idx, first_zero_sample - 1, 0] == 0:\n",
    "        first_zero_sample -= 1\n",
    "    X_test[sample_idx, 0: first_zero_sample, 0] -= np.mean(X_test[sample_idx, 0: first_zero_sample, 0])\n",
    "    X_test[sample_idx, 0: first_zero_sample, 0] /= np.std(X_test[sample_idx, 0: first_zero_sample, 0])"
   ]
  },
  {
   "cell_type": "markdown",
   "metadata": {
    "colab_type": "text",
    "id": "vWpjZvd-AN9G"
   },
   "source": [
    "## Frozen LSTM layers"
   ]
  },
  {
   "cell_type": "code",
   "execution_count": 4,
   "metadata": {
    "colab": {},
    "colab_type": "code",
    "id": "QVZuNXskAN9H"
   },
   "outputs": [],
   "source": [
    "# if you want to redo transfer learning set to True\n",
    "perform_training = False\n",
    "file_path = \"../saved_trained_models/own_lstm_ptb_transfer_frozen.h5\"\n",
    "if perform_training:\n",
    "    # load pretrained MIT model:\n",
    "    old_model = load_model(\"../saved_trained_models/own_lstm_mitbih.h5\")\n",
    "    # freeze the complete old model:\n",
    "    for layer in old_model.layers:\n",
    "        layer.trainable = False\n",
    "    # create new model with the pretrained frozen LSTM layers from the old model:\n",
    "    # CAUTION: the layer name lstm_2 is hardcoded and autogenerated (not a good combination...)\n",
    "    new_dense = Dense(50, activation=\"relu\")(old_model.get_layer(\"lstm_2\").output)\n",
    "    new_dense = Dense(50, activation=\"relu\")(new_dense)\n",
    "    new_out = Dense(1, activation=\"sigmoid\")(new_dense)\n",
    "\n",
    "    model = Model(inputs=old_model.input, outputs=new_out)\n",
    "    model.compile(loss=losses.binary_crossentropy, optimizer=optimizers.Adam(lr=0.0008), metrics=['acc'])\n",
    "    model.summary()\n",
    "\n",
    "# train the model\n",
    "    checkpoint = ModelCheckpoint(file_path, monitor='val_acc', verbose=1, save_best_only=True, mode='max')\n",
    "    early = EarlyStopping(monitor=\"val_acc\", mode=\"max\", patience=8, verbose=1)\n",
    "    redonplat = ReduceLROnPlateau(monitor=\"val_acc\", mode=\"max\", patience=3, factor=0.3, verbose=2)\n",
    "    callbacks_list = [checkpoint, early, redonplat]\n",
    "\n",
    "    model.fit(X, Y, epochs=150, batch_size=160, verbose=2, callbacks=callbacks_list, validation_split=0.1)"
   ]
  },
  {
   "cell_type": "code",
   "execution_count": 5,
   "metadata": {
    "colab": {
     "base_uri": "https://localhost:8080/",
     "height": 51
    },
    "colab_type": "code",
    "id": "bdoX2xMcBGAX",
    "outputId": "cc23560a-d41e-4fac-fbe0-6d7720ff0de2"
   },
   "outputs": [
    {
     "name": "stdout",
     "output_type": "stream",
     "text": [
      "Test accuracy score :  0.7997251803503951\n",
      "Test f1 score :  0.7299105071821994\n"
     ]
    }
   ],
   "source": [
    "# final evaluation on test data\n",
    "model = load_model(file_path)\n",
    "pred_test = model.predict(X_test)\n",
    "freeze_prob = pred_test.copy()\n",
    "pred_test[pred_test >= 0.5] = 1\n",
    "pred_test[pred_test < 0.5] = 0\n",
    "\n",
    "frozen_acc = accuracy_score(Y_test, pred_test)\n",
    "print(\"Test accuracy score : \", frozen_acc)\n",
    "frozen_f1 = f1_score(Y_test, pred_test, average=\"macro\")\n",
    "print(\"Test f1 score : \", frozen_f1)"
   ]
  },
  {
   "cell_type": "markdown",
   "metadata": {
    "colab_type": "text",
    "id": "X90hybWjAN9L"
   },
   "source": [
    "## Trainable LSTM layers"
   ]
  },
  {
   "cell_type": "code",
   "execution_count": 6,
   "metadata": {
    "colab": {},
    "colab_type": "code",
    "id": "YGbXntgHAN9M",
    "scrolled": true
   },
   "outputs": [],
   "source": [
    "# if you want to redo transfer learning set to True\n",
    "perform_training = False\n",
    "file_path = \"../saved_trained_models/own_lstm_ptb_transfer_trainable.h5\"\n",
    "if perform_training:\n",
    "    # load pretrained MIT model:\n",
    "    old_model = load_model(\"../saved_trained_models/own_lstm_mitbih.h5\")\n",
    "    # create new model with the pretrained frozen LSTM layers from the old model:\n",
    "    # CAUTION: the layer name lstm_2 is hardcoded and autogenerated (not a good combination...)\n",
    "    new_dense = Dense(50, activation=\"relu\")(old_model.get_layer(\"lstm_2\").output)\n",
    "    new_dense = Dense(50, activation=\"relu\")(new_dense)\n",
    "    new_out = Dense(1, activation=\"sigmoid\")(new_dense)\n",
    "\n",
    "    model = Model(inputs=old_model.input, outputs=new_out)\n",
    "    model.compile(loss=losses.binary_crossentropy, optimizer=optimizers.Adam(lr=0.0008), metrics=['acc'])\n",
    "    model.summary()\n",
    "\n",
    "    # train the model\n",
    "    checkpoint = ModelCheckpoint(file_path, monitor='val_acc', verbose=1, save_best_only=True, mode='max')\n",
    "    early = EarlyStopping(monitor=\"val_acc\", mode=\"max\", patience=8, verbose=1)\n",
    "    redonplat = ReduceLROnPlateau(monitor=\"val_acc\", mode=\"max\", patience=3, factor=0.3, verbose=2)\n",
    "    callbacks_list = [checkpoint, early, redonplat]\n",
    "\n",
    "    model.fit(X, Y, epochs=150, batch_size=160, verbose=2, callbacks=callbacks_list, validation_split=0.1)"
   ]
  },
  {
   "cell_type": "code",
   "execution_count": 7,
   "metadata": {
    "colab": {
     "base_uri": "https://localhost:8080/",
     "height": 51
    },
    "colab_type": "code",
    "id": "zzJA6pLCBzMY",
    "outputId": "1ca3da68-c520-4ae1-f676-20a0fe9be62f"
   },
   "outputs": [
    {
     "name": "stdout",
     "output_type": "stream",
     "text": [
      "Test accuracy score :  0.9762968052215734\n",
      "Test f1 score :  0.9704821271667332\n"
     ]
    }
   ],
   "source": [
    "# final evaluation on test data\n",
    "model = load_model(file_path)\n",
    "pred_test = model.predict(X_test)\n",
    "trainable_prob = pred_test.copy()\n",
    "pred_test[pred_test >= 0.5] = 1\n",
    "pred_test[pred_test < 0.5] = 0\n",
    "\n",
    "trainable_acc = accuracy_score(Y_test, pred_test)\n",
    "print(\"Test accuracy score : \", trainable_acc)\n",
    "trainable_f1 = f1_score(Y_test, pred_test, average=\"macro\")\n",
    "print(\"Test f1 score : \", trainable_f1)"
   ]
  },
  {
   "cell_type": "markdown",
   "metadata": {
    "colab_type": "text",
    "id": "rWOQSe_BFFMd"
   },
   "source": [
    "## Frozen and then trainable LSTM layers"
   ]
  },
  {
   "cell_type": "code",
   "execution_count": 8,
   "metadata": {
    "colab": {},
    "colab_type": "code",
    "id": "8lI4UxxTFFcq"
   },
   "outputs": [],
   "source": [
    "# if you want to redo transfer learning set to True\n",
    "perform_training = False\n",
    "file_path = \"../saved_trained_models/own_lstm_ptb_transfer_frozen_then_trainable.h5\"\n",
    "if perform_training:\n",
    "    # load pretrained MIT model:\n",
    "    old_model = load_model(\"../saved_trained_models/own_lstm_ptb_transfer_frozen.h5\")\n",
    "    # make all layers trainable\n",
    "    for layer in old_model.layers:\n",
    "        layer.trainable = True\n",
    "    # train the model\n",
    "    checkpoint = ModelCheckpoint(file_path, monitor='val_acc', verbose=1, save_best_only=True, mode='max')\n",
    "    early = EarlyStopping(monitor=\"val_acc\", mode=\"max\", patience=8, verbose=1)\n",
    "    redonplat = ReduceLROnPlateau(monitor=\"val_acc\", mode=\"max\", patience=3, factor=0.3, verbose=2)\n",
    "    callbacks_list = [checkpoint, early, redonplat]\n",
    "\n",
    "    model.fit(X, Y, epochs=150, batch_size=160, verbose=2, callbacks=callbacks_list, validation_split=0.1)"
   ]
  },
  {
   "cell_type": "code",
   "execution_count": 9,
   "metadata": {
    "colab": {
     "base_uri": "https://localhost:8080/",
     "height": 51
    },
    "colab_type": "code",
    "id": "kOG4YTcwFFi-",
    "outputId": "b9dc811f-369e-4a37-f93c-47a929cabeca"
   },
   "outputs": [
    {
     "name": "stdout",
     "output_type": "stream",
     "text": [
      "Test accuracy score :  0.9783579525936105\n",
      "Test f1 score :  0.9730078352384828\n"
     ]
    }
   ],
   "source": [
    "# final evaluation on test data\n",
    "model = load_model(file_path)\n",
    "pred_test = model.predict(X_test)\n",
    "freeze_then_trainable_prob = pred_test.copy()\n",
    "pred_test[pred_test >= 0.5] = 1\n",
    "pred_test[pred_test < 0.5] = 0\n",
    "\n",
    "frozen_then_trainable_acc = accuracy_score(Y_test, pred_test)\n",
    "print(\"Test accuracy score : \", frozen_then_trainable_acc)\n",
    "frozen_then_trainable_f1 = f1_score(Y_test, pred_test, average=\"macro\")\n",
    "print(\"Test f1 score : \", frozen_then_trainable_f1)"
   ]
  },
  {
   "cell_type": "code",
   "execution_count": 10,
   "metadata": {
    "colab": {},
    "colab_type": "code",
    "id": "S8BKY40BOivY"
   },
   "outputs": [],
   "source": [
    "stats = pd.DataFrame({\"transfer learning type\":[ \"freeze\",\"train whole\", \"freeze then train\"], \\\n",
    "                      \"accuracy\":[frozen_acc, trainable_acc, frozen_then_trainable_acc], \\\n",
    "                      \"f1_score\":[frozen_f1, trainable_f1, frozen_then_trainable_f1]})"
   ]
  },
  {
   "cell_type": "markdown",
   "metadata": {
    "colab_type": "text",
    "id": "tCjBZ6SWAN9Q"
   },
   "source": [
    "## Results\n",
    "Interestingly enough, freezing the LSTM layers results in a worse accuracy (80.06%) than the original stacked LSTM achieved for the PTB dataset (86.95%). On the other hand, copying the weights for the LSTM layers, freezing them and then training results in the best accuracy that we were able to get with a unidirectional LSTM (97.8%)."
   ]
  },
  {
   "cell_type": "code",
   "execution_count": 11,
   "metadata": {
    "colab": {
     "base_uri": "https://localhost:8080/",
     "height": 350
    },
    "colab_type": "code",
    "id": "i1QrMiA2PZQF",
    "outputId": "738873e5-53e6-4658-cad6-1a6d0ff3d9bd"
   },
   "outputs": [
    {
     "data": {
      "image/png": "[encoded data removed]",
      "text/plain": [
       "<Figure size 288x360 with 1 Axes>"
      ]
     },
     "metadata": {
      "needs_background": "light"
     },
     "output_type": "display_data"
    }
   ],
   "source": [
    "plt.figure(figsize=(4, 5))\n",
    "splot = sns.barplot(x=\"transfer learning type\", y=\"accuracy\", data=stats, palette=\"Spectral\")\n",
    "plt.title(\"Accuracy comparison\")\n",
    "for p in splot.patches:\n",
    "    splot.annotate(format(p.get_height(), '.3f'), (p.get_x() + p.get_width() / 2., p.get_height()), \n",
    "                   ha = 'center', va = 'center', xytext = (0, 5), textcoords = 'offset points')\n",
    "plt.show()"
   ]
  },
  {
   "cell_type": "code",
   "execution_count": 12,
   "metadata": {
    "colab": {
     "base_uri": "https://localhost:8080/",
     "height": 350
    },
    "colab_type": "code",
    "id": "TaA8QFeZOgA6",
    "outputId": "ca0fc772-0e20-4839-9afb-a221c0fe5346"
   },
   "outputs": [
    {
     "data": {
      "image/png": "[encoded data removed]",
      "text/plain": [
       "<Figure size 288x360 with 1 Axes>"
      ]
     },
     "metadata": {
      "needs_background": "light"
     },
     "output_type": "display_data"
    }
   ],
   "source": [
    "plt.figure(figsize=(4, 5))\n",
    "splot = sns.barplot(x=\"transfer learning type\", y=\"f1_score\", data=stats, palette=\"Spectral\")\n",
    "plt.title(\"f1 score comparison\")\n",
    "for p in splot.patches:\n",
    "    splot.annotate(format(p.get_height(), '.3f'), (p.get_x() + p.get_width() / 2., p.get_height()), \n",
    "                   ha = 'center', va = 'center', xytext = (0, 5), textcoords = 'offset points')\n",
    "plt.show()"
   ]
  },
  {
   "cell_type": "code",
   "execution_count": 13,
   "metadata": {},
   "outputs": [],
   "source": [
    "def get_baseline_resuts():\n",
    "    Y = np.array(df_train[187].values).astype(np.int8)\n",
    "    X = np.array(df_train[list(range(187))].values)[..., np.newaxis]\n",
    "\n",
    "    Y_test = np.array(df_test[187].values).astype(np.int8)\n",
    "    X_test = np.array(df_test[list(range(187))].values)[..., np.newaxis]\n",
    "\n",
    "    file_path = \"../saved_trained_models/baseline_cnn_ptb.h5\"\n",
    "\n",
    "    model = load_model(file_path)\n",
    "\n",
    "    pred_test_prob = model.predict(X_test)\n",
    "    pred_test = (pred_test_prob>0.5).astype(np.int8)\n",
    "\n",
    "    f1 = f1_score(Y_test, pred_test)\n",
    "    acc = accuracy_score(Y_test, pred_test)\n",
    "\n",
    "    return pred_test_prob"
   ]
  },
  {
   "cell_type": "code",
   "execution_count": 14,
   "metadata": {},
   "outputs": [
    {
     "data": {
      "image/png": "[encoded data removed]",
      "text/plain": [
       "<Figure size 864x504 with 1 Axes>"
      ]
     },
     "metadata": {
      "needs_background": "light"
     },
     "output_type": "display_data"
    }
   ],
   "source": [
    "plt.figure(figsize=(12,7))\n",
    "labels = Y_test\n",
    "fp = [[],[],[],[]]\n",
    "tp = [[],[],[],[]]\n",
    "baseline_results = get_baseline_resuts()\n",
    "fp[0], tp[0], _ = roc_curve(labels, baseline_results)\n",
    "fp[1], tp[1], _ = roc_curve(labels, freeze_prob)\n",
    "fp[2], tp[2], _ = roc_curve(labels, trainable_prob)\n",
    "fp[3], tp[3], _ = roc_curve(labels, freeze_then_trainable_prob)\n",
    "\n",
    "sns.lineplot(100*fp[0], 100*tp[0], label=\"baseline CNN, AUC = {0:.3f}\".\\\n",
    "           format(roc_auc_score(labels, baseline_results)))\n",
    "sns.lineplot(100*fp[1], 100*tp[1], label=\"freeze\"+\", AUC = {0:.3f}\".\\\n",
    "           format(roc_auc_score(labels, freeze_prob)))\n",
    "sns.lineplot(100*fp[2], 100*tp[2], label=\"train whole\"+\", AUC = {0:.3f}\".\\\n",
    "           format(roc_auc_score(labels, trainable_prob)))\n",
    "sns.lineplot(100*fp[3], 100*tp[3], label=\"freeze then train\"+\", AUC = {0:.3f}\".\\\n",
    "           format(roc_auc_score(labels, freeze_then_trainable_prob)))\n",
    "plt.title(\"ROC curve\")\n",
    "plt.xlabel('False positives [%]')\n",
    "plt.ylabel('True positives [%]')\n",
    "plt.show()"
   ]
  },
  {
   "cell_type": "markdown",
   "metadata": {},
   "source": [
    "The best performing of the transfer learning methods is when the extra layers are first frozen and then made trainable again. This approach achieves worse accuracy than the baseline by about 0.01."
   ]
  }
 ],
 "metadata": {
  "colab": {
   "collapsed_sections": [],
   "name": "MITBIH_to_PTB_transfer_learning.ipynb",
   "provenance": []
  },
  "kernelspec": {
   "display_name": "Python 3",
   "language": "python",
   "name": "python3"
  },
  "language_info": {
   "codemirror_mode": {
    "name": "ipython",
    "version": 3
   },
   "file_extension": ".py",
   "mimetype": "text/x-python",
   "name": "python",
   "nbconvert_exporter": "python",
   "pygments_lexer": "ipython3",
   "version": "3.7.4"
  }
 },
 "nbformat": 4,
 "nbformat_minor": 1
}
