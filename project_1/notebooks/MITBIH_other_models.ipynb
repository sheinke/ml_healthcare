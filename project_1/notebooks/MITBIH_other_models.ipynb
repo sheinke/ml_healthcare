{
 "cells": [
  {
   "cell_type": "markdown",
   "metadata": {
    "colab_type": "text",
    "id": "itqQ2g_WTyqo"
   },
   "source": [
    "# Various models for MIT BIH Dataset\n",
    "The goal of this notebook is to compare different non-RNN architectures for MIT-BIH Arrhythmia Database: https://physionet.org/physiobank/database/mitdb/  \n",
    "The data was downloaded from kaggle: https://www.kaggle.com/shayanfazeli/heartbeat  \n",
    "\n",
    "We compare the results obtained with different trained networks with the CNN baseline."
   ]
  },
  {
   "cell_type": "code",
   "execution_count": 1,
   "metadata": {
    "colab": {
     "base_uri": "https://localhost:8080/",
     "height": 34
    },
    "colab_type": "code",
    "id": "Bpg94tVq8Z_J",
    "outputId": "2335d135-de89-4bbc-a928-63ae07e4a3c9"
   },
   "outputs": [
    {
     "name": "stderr",
     "output_type": "stream",
     "text": [
      "Using TensorFlow backend.\n"
     ]
    }
   ],
   "source": [
    "import pandas as pd\n",
    "import numpy as np\n",
    "import seaborn as sns\n",
    "from keras.engine.saving import load_model\n",
    "import matplotlib.pyplot as plt\n",
    "from sklearn.metrics import accuracy_score, f1_score, roc_curve, precision_recall_curve\n",
    "from sklearn.model_selection import train_test_split\n",
    "from sklearn.model_selection import StratifiedKFold"
   ]
  },
  {
   "cell_type": "markdown",
   "metadata": {
    "colab_type": "text",
    "id": "llzSM8Y601fw"
   },
   "source": [
    "# Read data"
   ]
  },
  {
   "cell_type": "code",
   "execution_count": 2,
   "metadata": {
    "colab": {},
    "colab_type": "code",
    "id": "sCfKdMQC8XpS"
   },
   "outputs": [],
   "source": [
    "train_path = \"../input/mitbih_train.csv\"\n",
    "test_path = \"../input/mitbih_test.csv\"\n",
    "\n",
    "timepoints_per_sample = 187\n",
    "df_train = pd.read_csv(train_path, header=None)\n",
    "df_train = df_train.sample(frac=1)\n",
    "df_test = pd.read_csv(test_path, header=None)\n",
    "\n",
    "Y = np.array(df_train[timepoints_per_sample].values).astype(np.int8)\n",
    "X = np.array(df_train[list(range(timepoints_per_sample))].values)[..., np.newaxis]\n",
    "\n",
    "Y_test = np.array(df_test[timepoints_per_sample].values).astype(np.int8)\n",
    "X_test = np.array(df_test[list(range(timepoints_per_sample))].values)[..., np.newaxis]"
   ]
  },
  {
   "cell_type": "markdown",
   "metadata": {
    "colab_type": "text",
    "id": "nDNxnWzD0-XT"
   },
   "source": [
    "# Baseline results"
   ]
  },
  {
   "cell_type": "markdown",
   "metadata": {
    "colab_type": "text",
    "id": "eqbgkRf-dI3G"
   },
   "source": [
    "Baseline model can be found at: https://github.com/CVxTz/ECG_Heartbeat_Classification/blob/master/code/baseline_mitbih.py"
   ]
  },
  {
   "cell_type": "code",
   "execution_count": 3,
   "metadata": {
    "colab": {},
    "colab_type": "code",
    "id": "Qgtk47AE8Gc7"
   },
   "outputs": [],
   "source": [
    "def get_baseline_resuts():\n",
    "\n",
    "    Y = np.array(df_train[timepoints_per_sample].values).astype(np.int8)\n",
    "    X = np.array(df_train[list(range(timepoints_per_sample))].values)[..., np.newaxis]\n",
    "\n",
    "    Y_test = np.array(df_test[timepoints_per_sample].values).astype(np.int8)\n",
    "    X_test = np.array(df_test[list(range(timepoints_per_sample))].values)[..., np.newaxis]\n",
    "\n",
    "    file_path = \"../saved_trained_models/baseline_cnn_mitbih.h5\"\n",
    "\n",
    "    model = load_model(file_path)\n",
    "\n",
    "    pred_test = model.predict(X_test)\n",
    "    pred_test = np.argmax(pred_test, axis=-1)\n",
    "\n",
    "    f1 = f1_score(Y_test, pred_test, average=\"macro\")\n",
    "    acc = accuracy_score(Y_test, pred_test)\n",
    "\n",
    "    return pred_test, f1, acc"
   ]
  },
  {
   "cell_type": "markdown",
   "metadata": {
    "colab_type": "text",
    "id": "K38-in6u1FnX"
   },
   "source": [
    "# Compare new CNN with baseline\n",
    "The following compares the results of the baseline CNN and our CNN implementation."
   ]
  },
  {
   "cell_type": "code",
   "execution_count": 4,
   "metadata": {
    "colab": {},
    "colab_type": "code",
    "id": "CKomrYx9U4kq"
   },
   "outputs": [],
   "source": [
    "num_classes = 5\n",
    "timepoints_per_sample = 187\n",
    "\n",
    "# normalize without taking the zero-padding at the end into account:\n",
    "for sample_idx in range(X.shape[0]):\n",
    "    first_zero_sample = timepoints_per_sample\n",
    "    while X[sample_idx, first_zero_sample - 1, 0] == 0:\n",
    "        first_zero_sample -= 1\n",
    "    X[sample_idx, 0: first_zero_sample, 0] -= np.mean(X[sample_idx, 0: first_zero_sample, 0])\n",
    "    X[sample_idx, 0: first_zero_sample, 0] /= np.std(X[sample_idx, 0: first_zero_sample, 0])\n",
    "\n",
    "for sample_idx in range(X_test.shape[0]):\n",
    "    first_zero_sample = timepoints_per_sample\n",
    "    while X_test[sample_idx, first_zero_sample - 1, 0] == 0:\n",
    "        first_zero_sample -= 1\n",
    "    X_test[sample_idx, 0: first_zero_sample, 0] -= np.mean(X_test[sample_idx, 0: first_zero_sample, 0])\n",
    "    X_test[sample_idx, 0: first_zero_sample, 0] /= np.std(X_test[sample_idx, 0: first_zero_sample, 0])"
   ]
  },
  {
   "cell_type": "code",
   "execution_count": 5,
   "metadata": {
    "colab": {},
    "colab_type": "code",
    "id": "NsEU4e43duiu"
   },
   "outputs": [],
   "source": [
    "# final evaluation on test set\n",
    "file_path = \"../saved_trained_models/own_cnn_mitbih.h5\"\n",
    "model = load_model(file_path)\n",
    "cnn_pred_test = model.predict(X_test)\n",
    "cnn_pred_test = np.argmax(cnn_pred_test, axis=-1)\n",
    "\n",
    "cnn_f1 = f1_score(Y_test, cnn_pred_test, average=\"macro\")\n",
    "cnn_acc = accuracy_score(Y_test, cnn_pred_test)"
   ]
  },
  {
   "cell_type": "code",
   "execution_count": 6,
   "metadata": {
    "colab": {},
    "colab_type": "code",
    "id": "IqeJifViyK9M"
   },
   "outputs": [],
   "source": [
    "base_pred_test, base_f1, base_acc = get_baseline_resuts()"
   ]
  },
  {
   "cell_type": "code",
   "execution_count": 7,
   "metadata": {
    "colab": {},
    "colab_type": "code",
    "id": "XB8sf5md_M_m"
   },
   "outputs": [],
   "source": [
    "stats = pd.DataFrame({\"model\":[ \"baseline\",\"new CNN\"], \n",
    "                      \"accuracy\":[base_acc, cnn_acc], \n",
    "                      \"f1_score\":[base_f1, cnn_f1]})"
   ]
  },
  {
   "cell_type": "code",
   "execution_count": 8,
   "metadata": {
    "colab": {
     "base_uri": "https://localhost:8080/",
     "height": 350
    },
    "colab_type": "code",
    "id": "do230WHA_ymX",
    "outputId": "e9e3bf49-f6d3-4100-ffef-4def50db68f9"
   },
   "outputs": [
    {
     "data": {
      "image/png": "[encoded data removed]",
      "text/plain": [
       "<Figure size 288x360 with 1 Axes>"
      ]
     },
     "metadata": {
      "needs_background": "light"
     },
     "output_type": "display_data"
    }
   ],
   "source": [
    "plt.figure(figsize=(4, 5))\n",
    "splot = sns.barplot(x=\"model\", y=\"accuracy\", data=stats, palette=\"Spectral\")\n",
    "plt.title(\"Accuracy comparison\")\n",
    "for p in splot.patches:\n",
    "    splot.annotate(format(p.get_height(), '.3f'), (p.get_x() + p.get_width() / 2., p.get_height()), \n",
    "                   ha = 'center', va = 'center', xytext = (0, 5), textcoords = 'offset points')\n",
    "plt.show()"
   ]
  },
  {
   "cell_type": "code",
   "execution_count": 9,
   "metadata": {
    "colab": {
     "base_uri": "https://localhost:8080/",
     "height": 350
    },
    "colab_type": "code",
    "id": "HnUzmef6AVM5",
    "outputId": "c069bea7-1c30-4b13-cc0d-02f296686b94"
   },
   "outputs": [
    {
     "data": {
      "image/png": "[encoded data removed]",
      "text/plain": [
       "<Figure size 288x360 with 1 Axes>"
      ]
     },
     "metadata": {
      "needs_background": "light"
     },
     "output_type": "display_data"
    }
   ],
   "source": [
    "plt.figure(figsize=(4, 5))\n",
    "splot = sns.barplot(x=\"model\", y=\"f1_score\", data=stats, palette=\"Spectral\")\n",
    "plt.title(\"f1 score comparison\")\n",
    "for p in splot.patches:\n",
    "    splot.annotate(format(p.get_height(), '.2f'), (p.get_x() + p.get_width() / 2., p.get_height()), \n",
    "                   ha = 'center', va = 'center', xytext = (0, 5), textcoords = 'offset points')\n",
    "plt.show()"
   ]
  },
  {
   "cell_type": "markdown",
   "metadata": {},
   "source": [
    "The scores are very similar for the baseline and the new CNN."
   ]
  },
  {
   "cell_type": "markdown",
   "metadata": {
    "colab_type": "text",
    "id": "1NZjQ2Uumva7"
   },
   "source": [
    "# Compare ResNet with baseline\n",
    "The following compares the results of the baseline CNN and the ResNet used in:  [ECG Heartbeat Classification: A Deep TransferableRepresentation](https://arxiv.org/pdf/1805.00794.pdf). "
   ]
  },
  {
   "cell_type": "code",
   "execution_count": 10,
   "metadata": {
    "colab": {},
    "colab_type": "code",
    "id": "P-HNRZxJygDG"
   },
   "outputs": [],
   "source": [
    "# final evaluation on test set\n",
    "file_path = \"../saved_trained_models/paper_resnet_mitbih.h5\"\n",
    "model = load_model(file_path)\n",
    "cnn_pred_test = model.predict(X_test)\n",
    "cnn_pred_test = np.argmax(cnn_pred_test, axis=-1)\n",
    "\n",
    "cnn_f1 = f1_score(Y_test, cnn_pred_test, average=\"macro\")\n",
    "cnn_acc = accuracy_score(Y_test, cnn_pred_test)"
   ]
  },
  {
   "cell_type": "code",
   "execution_count": 11,
   "metadata": {
    "colab": {},
    "colab_type": "code",
    "id": "wM4JUb9qyjLr"
   },
   "outputs": [],
   "source": [
    "stats = pd.DataFrame({\"model\":[ \"baseline\",\"residual CNN\"], \n",
    "                      \"accuracy\":[base_acc, cnn_acc], \n",
    "                      \"f1_score\":[base_f1, cnn_f1]})"
   ]
  },
  {
   "cell_type": "code",
   "execution_count": 12,
   "metadata": {
    "colab": {
     "base_uri": "https://localhost:8080/",
     "height": 350
    },
    "colab_type": "code",
    "id": "2nfx-AFjyqSY",
    "outputId": "74d93f44-5bbc-45ad-ae28-ba9f2f6d26e2"
   },
   "outputs": [
    {
     "data": {
      "image/png": "[encoded data removed]",
      "text/plain": [
       "<Figure size 288x360 with 1 Axes>"
      ]
     },
     "metadata": {
      "needs_background": "light"
     },
     "output_type": "display_data"
    }
   ],
   "source": [
    "plt.figure(figsize=(4, 5))\n",
    "splot = sns.barplot(x=\"model\", y=\"accuracy\", data=stats, palette=\"Spectral\")\n",
    "plt.title(\"Accuracy comparison\")\n",
    "for p in splot.patches:\n",
    "    splot.annotate(format(p.get_height(), '.3f'), (p.get_x() + p.get_width() / 2., p.get_height()), \n",
    "                   ha = 'center', va = 'center', xytext = (0, 5), textcoords = 'offset points')\n",
    "plt.show()"
   ]
  },
  {
   "cell_type": "code",
   "execution_count": 13,
   "metadata": {
    "colab": {
     "base_uri": "https://localhost:8080/",
     "height": 350
    },
    "colab_type": "code",
    "id": "HXscYmTcysVU",
    "outputId": "ec63c6f0-e01e-46b2-bda0-551bc9404e61"
   },
   "outputs": [
    {
     "data": {
      "image/png": "[encoded data removed]",
      "text/plain": [
       "<Figure size 288x360 with 1 Axes>"
      ]
     },
     "metadata": {
      "needs_background": "light"
     },
     "output_type": "display_data"
    }
   ],
   "source": [
    "plt.figure(figsize=(4, 5))\n",
    "splot = sns.barplot(x=\"model\", y=\"f1_score\", data=stats, palette=\"Spectral\")\n",
    "plt.title(\"f1 score comparison\")\n",
    "for p in splot.patches:\n",
    "    splot.annotate(format(p.get_height(), '.2f'), (p.get_x() + p.get_width() / 2., p.get_height()), \n",
    "                   ha = 'center', va = 'center', xytext = (0, 5), textcoords = 'offset points')\n",
    "plt.show()"
   ]
  },
  {
   "cell_type": "markdown",
   "metadata": {},
   "source": [
    "The residual CNN performs slightly better than the baseline."
   ]
  }
 ],
 "metadata": {
  "accelerator": "GPU",
  "colab": {
   "collapsed_sections": [],
   "name": "MITBIH_other_models.ipynb",
   "provenance": []
  },
  "kernelspec": {
   "display_name": "Python 3",
   "language": "python",
   "name": "python3"
  },
  "language_info": {
   "codemirror_mode": {
    "name": "ipython",
    "version": 3
   },
   "file_extension": ".py",
   "mimetype": "text/x-python",
   "name": "python",
   "nbconvert_exporter": "python",
   "pygments_lexer": "ipython3",
   "version": "3.7.6"
  }
 },
 "nbformat": 4,
 "nbformat_minor": 1
}
