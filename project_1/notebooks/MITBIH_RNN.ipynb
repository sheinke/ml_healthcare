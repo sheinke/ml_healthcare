{
 "cells": [
  {
   "cell_type": "markdown",
   "metadata": {
    "colab_type": "text",
    "id": "itqQ2g_WTyqo"
   },
   "source": [
    "# RNN for MIT BIH Dataset\n",
    "The goal of this notebook is to create a RNN architecture for MIT-BIH Arrhythmia Database: https://physionet.org/physiobank/database/mitdb/  \n",
    "The data was downloaded from kaggle: https://www.kaggle.com/shayanfazeli/heartbeat  \n",
    "\n",
    "We compare the results obtained with the trained RNN network (with only LSTM and dense layers) with the CNN baseline."
   ]
  },
  {
   "cell_type": "code",
   "execution_count": 1,
   "metadata": {
    "colab": {
     "base_uri": "https://localhost:8080/",
     "height": 34
    },
    "colab_type": "code",
    "id": "Bpg94tVq8Z_J",
    "outputId": "ff834cea-7a42-4db7-f018-a66ed29f7b3c"
   },
   "outputs": [
    {
     "name": "stderr",
     "output_type": "stream",
     "text": [
      "Using TensorFlow backend.\n"
     ]
    }
   ],
   "source": [
    "import pandas as pd\n",
    "import numpy as np\n",
    "import seaborn as sns\n",
    "from keras.engine.saving import load_model\n",
    "import matplotlib.pyplot as plt\n",
    "from sklearn.metrics import accuracy_score, f1_score, roc_curve, precision_recall_curve\n",
    "from sklearn.model_selection import train_test_split\n",
    "from sklearn.model_selection import StratifiedKFold"
   ]
  },
  {
   "cell_type": "markdown",
   "metadata": {
    "colab_type": "text",
    "id": "llzSM8Y601fw"
   },
   "source": [
    "# Read data"
   ]
  },
  {
   "cell_type": "code",
   "execution_count": 0,
   "metadata": {
    "colab": {},
    "colab_type": "code",
    "id": "sCfKdMQC8XpS"
   },
   "outputs": [],
   "source": [
    "train_path = \"../input/mitbih_train.csv\"\n",
    "test_path = \"../input/mitbih_test.csv\"\n",
    "\n",
    "timepoints_per_sample = 187\n",
    "df_train = pd.read_csv(train_path, header=None)\n",
    "df_train = df_train.sample(frac=1)\n",
    "df_test = pd.read_csv(test_path, header=None)\n",
    "\n",
    "Y = np.array(df_train[timepoints_per_sample].values).astype(np.int8)\n",
    "X = np.array(df_train[list(range(timepoints_per_sample))].values)[..., np.newaxis]\n",
    "\n",
    "Y_test = np.array(df_test[timepoints_per_sample].values).astype(np.int8)\n",
    "X_test = np.array(df_test[list(range(timepoints_per_sample))].values)[..., np.newaxis]"
   ]
  },
  {
   "cell_type": "markdown",
   "metadata": {
    "colab_type": "text",
    "id": "nDNxnWzD0-XT"
   },
   "source": [
    "# Baseline results"
   ]
  },
  {
   "cell_type": "markdown",
   "metadata": {
    "colab_type": "text",
    "id": "eqbgkRf-dI3G"
   },
   "source": [
    "Baseline model can be found at: https://github.com/CVxTz/ECG_Heartbeat_Classification/blob/master/code/baseline_mitbih.py"
   ]
  },
  {
   "cell_type": "code",
   "execution_count": 0,
   "metadata": {
    "colab": {},
    "colab_type": "code",
    "id": "Qgtk47AE8Gc7"
   },
   "outputs": [],
   "source": [
    "def get_baseline_resuts():\n",
    "\n",
    "    Y = np.array(df_train[timepoints_per_sample].values).astype(np.int8)\n",
    "    X = np.array(df_train[list(range(timepoints_per_sample))].values)[..., np.newaxis]\n",
    "\n",
    "    Y_test = np.array(df_test[timepoints_per_sample].values).astype(np.int8)\n",
    "    X_test = np.array(df_test[list(range(timepoints_per_sample))].values)[..., np.newaxis]\n",
    "\n",
    "    file_path = \"../saved_trained_models/baseline_cnn_mitbih.h5\"\n",
    "\n",
    "    model = load_model(file_path)\n",
    "\n",
    "    pred_test = model.predict(X_test)\n",
    "    pred_test = np.argmax(pred_test, axis=-1)\n",
    "\n",
    "    f1 = f1_score(Y_test, pred_test, average=\"macro\")\n",
    "    acc = accuracy_score(Y_test, pred_test)\n",
    "\n",
    "    return pred_test, f1, acc"
   ]
  },
  {
   "cell_type": "markdown",
   "metadata": {
    "colab_type": "text",
    "id": "K38-in6u1FnX"
   },
   "source": [
    "# Compare RNN with baseline\n",
    "The architecture was supposed to be a base for the comparison between CNN and RNN approach. Therefore the only layers used in the model are LSTM and dense layers."
   ]
  },
  {
   "cell_type": "code",
   "execution_count": 0,
   "metadata": {
    "colab": {},
    "colab_type": "code",
    "id": "CKomrYx9U4kq"
   },
   "outputs": [],
   "source": [
    "num_classes = 5\n",
    "timepoints_per_sample = 187\n",
    "\n",
    "# normalize without taking the zero-padding at the end into account:\n",
    "for sample_idx in range(X.shape[0]):\n",
    "    first_zero_sample = timepoints_per_sample\n",
    "    while X[sample_idx, first_zero_sample - 1, 0] == 0:\n",
    "        first_zero_sample -= 1\n",
    "    X[sample_idx, 0: first_zero_sample, 0] -= np.mean(X[sample_idx, 0: first_zero_sample, 0])\n",
    "    X[sample_idx, 0: first_zero_sample, 0] /= np.std(X[sample_idx, 0: first_zero_sample, 0])\n",
    "\n",
    "for sample_idx in range(X_test.shape[0]):\n",
    "    first_zero_sample = timepoints_per_sample\n",
    "    while X_test[sample_idx, first_zero_sample - 1, 0] == 0:\n",
    "        first_zero_sample -= 1\n",
    "    X_test[sample_idx, 0: first_zero_sample, 0] -= np.mean(X_test[sample_idx, 0: first_zero_sample, 0])\n",
    "    X_test[sample_idx, 0: first_zero_sample, 0] /= np.std(X_test[sample_idx, 0: first_zero_sample, 0])"
   ]
  },
  {
   "cell_type": "code",
   "execution_count": 0,
   "metadata": {
    "colab": {},
    "colab_type": "code",
    "id": "NsEU4e43duiu"
   },
   "outputs": [],
   "source": [
    "# final evaluation on test set\n",
    "file_path = \"../saved_trained_models/own_lstm_mitbih.h5\"\n",
    "model = load_model(file_path)\n",
    "rnn_pred_test = model.predict(X_test)\n",
    "rnn_pred_test = np.argmax(rnn_pred_test, axis=-1)\n",
    "\n",
    "rnn_f1 = f1_score(Y_test, rnn_pred_test, average=\"macro\")\n",
    "rnn_acc = accuracy_score(Y_test, rnn_pred_test)"
   ]
  },
  {
   "cell_type": "code",
   "execution_count": 0,
   "metadata": {
    "colab": {},
    "colab_type": "code",
    "id": "IqeJifViyK9M"
   },
   "outputs": [],
   "source": [
    "base_pred_test, base_f1, base_acc = get_baseline_resuts()"
   ]
  },
  {
   "cell_type": "code",
   "execution_count": 0,
   "metadata": {
    "colab": {},
    "colab_type": "code",
    "id": "XB8sf5md_M_m"
   },
   "outputs": [],
   "source": [
    "stats = pd.DataFrame({\"model\":[ \"baseline\",\"RNN\"], \"accuracy\":[base_acc, rnn_acc], \"f1_score\":[base_f1, rnn_f1]})"
   ]
  },
  {
   "cell_type": "code",
   "execution_count": 8,
   "metadata": {
    "colab": {
     "base_uri": "https://localhost:8080/",
     "height": 350
    },
    "colab_type": "code",
    "id": "do230WHA_ymX",
    "outputId": "f57b703c-dc86-4bdf-9f39-e90d6a1b326a"
   },
   "outputs": [
    {
     "data": {
      "image/png": "[encoded data removed]",
      "text/plain": [
       "<Figure size 288x360 with 1 Axes>"
      ]
     },
     "metadata": {
      "needs_background": "light",
      "tags": []
     },
     "output_type": "display_data"
    }
   ],
   "source": [
    "plt.figure(figsize=(4, 5))\n",
    "splot = sns.barplot(x=\"model\", y=\"accuracy\", data=stats, palette=\"Spectral\")\n",
    "plt.title(\"Accuracy comparison\")\n",
    "for p in splot.patches:\n",
    "    splot.annotate(format(p.get_height(), '.2f'), (p.get_x() + p.get_width() / 2., p.get_height()), \n",
    "                   ha = 'center', va = 'center', xytext = (0, 5), textcoords = 'offset points')\n",
    "plt.show()"
   ]
  },
  {
   "cell_type": "markdown",
   "metadata": {},
   "source": [
    "RNN achieves accuracy of 0.98 but that is still worse than the baseline performance."
   ]
  },
  {
   "cell_type": "code",
   "execution_count": 9,
   "metadata": {
    "colab": {
     "base_uri": "https://localhost:8080/",
     "height": 350
    },
    "colab_type": "code",
    "id": "HnUzmef6AVM5",
    "outputId": "39ded4d6-880f-46e0-ffa9-ed830425935a"
   },
   "outputs": [
    {
     "data": {
      "image/png": "[encoded data removed]",
      "text/plain": [
       "<Figure size 288x360 with 1 Axes>"
      ]
     },
     "metadata": {
      "needs_background": "light",
      "tags": []
     },
     "output_type": "display_data"
    }
   ],
   "source": [
    "plt.figure(figsize=(4, 5))\n",
    "splot = sns.barplot(x=\"model\", y=\"f1_score\", data=stats, palette=\"Spectral\")\n",
    "plt.title(\"f1 score comparison\")\n",
    "for p in splot.patches:\n",
    "    splot.annotate(format(p.get_height(), '.2f'), (p.get_x() + p.get_width() / 2., p.get_height()), \n",
    "                   ha = 'center', va = 'center', xytext = (0, 5), textcoords = 'offset points')\n",
    "plt.show()"
   ]
  },
  {
   "cell_type": "markdown",
   "metadata": {},
   "source": [
    "F1 score is by 0.04 worse for the RNN network."
   ]
  },
  {
   "cell_type": "markdown",
   "metadata": {},
   "source": [
    "The implemented network with LSTM layers achieves good accuracy but to reach the baseline results a richer architecture is needed or additional training fine-tuning."
   ]
  }
 ],
 "metadata": {
  "accelerator": "GPU",
  "colab": {
   "collapsed_sections": [],
   "name": "MITBIH_RNN_model.ipynb",
   "provenance": []
  },
  "kernelspec": {
   "display_name": "Python 3",
   "language": "python",
   "name": "python3"
  },
  "language_info": {
   "codemirror_mode": {
    "name": "ipython",
    "version": 3
   },
   "file_extension": ".py",
   "mimetype": "text/x-python",
   "name": "python",
   "nbconvert_exporter": "python",
   "pygments_lexer": "ipython3",
   "version": "3.7.6"
  }
 },
 "nbformat": 4,
 "nbformat_minor": 1
}
