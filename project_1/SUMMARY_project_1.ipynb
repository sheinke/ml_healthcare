{
 "cells": [
  {
   "cell_type": "markdown",
   "metadata": {
    "colab_type": "text",
    "id": "ZSLHf3_UiK3y"
   },
   "source": [
    "# **ML4h Project #1**\n",
    "The project involves multiple experiments with the two ECG dataset:  \n",
    "*   MIT-BIH Arrhythmia Database: https://physionet.org/physiobank/database/mitdb/\n",
    "*   PTB Diagnostic ECG Database: https://www.physionet.org/content/ptbdb/1.0.0/  \n",
    "\n",
    "The direct data source is kaggle: https://www.kaggle.com/shayanfazeli/heartbeat\n",
    "\n",
    "\n"
   ]
  },
  {
   "cell_type": "markdown",
   "metadata": {
    "colab_type": "text",
    "id": "PrMdLdI5jhvF"
   },
   "source": [
    "## Project organization\n",
    "The project addresses 5 predefined tasks:\n",
    "\n",
    "1.   **Visualize and cluster samples:**  \n",
    "` MITBIH_visualize.ipynb`  \n",
    "`PTB_visualize.ipynb`\n",
    "2.   **Solve both datasets with RNNs and compare with baseline:**  \n",
    "`MITBIH_RNN.ipynb`  \n",
    "`PTB_RNN.ipynb`  \n",
    "`PTB_rnn_experiments.ipynb`\n",
    "3.   **Solve both datasets with other models and compare:**  \n",
    "`MITBIH_other_models.ipynb`  \n",
    "`PTB_other_models.ipynb`\n",
    "4.   **Create ensemble of models:**  \n",
    "`MITBIH_ensemble.ipynb`  \n",
    "`PTB_ensemble.ipynb`\n",
    "5.   **Perform transfer learning:**  \n",
    "`MITBIH_to_PTB_transfer_learning.ipynb`  \n"
   ]
  },
  {
   "cell_type": "markdown",
   "metadata": {
    "colab_type": "text",
    "id": "S-hIasw2mcHc"
   },
   "source": [
    "The above jupyter notebooks solve each of the tasks for the two datasets. They can found in **notebooks** folder.\n",
    "They use models defined in **models_definitions** folder, trained and saved in **saved_trained_models**.\n",
    "The notebooks therefore load the models and report the results on test data for each model. For more detailed information on the model architectures, see the model definitions. We have used the functional API of Keras, so the code should be very descriptive and easy to read. \n",
    "It is possible to retrain the models using the provided `train_model()` procedures in model definition files and also to re-perform transfer learning by setting `perform_training = True` in the corresponding notebook."
   ]
  },
  {
   "cell_type": "markdown",
   "metadata": {
    "colab_type": "text",
    "id": "HT0yx3gTpAuP"
   },
   "source": [
    "Each notebook solves its task separately.  \n",
    "The overall summary and big picture comparison can be found in:  ***REPORT_project_1.pdf***   \n",
    "The report shows results of multiple runs of training to account for training randomness. The results of individual training runs can be found at the bottom of each \\*.py model definition files. "
   ]
  },
  {
   "cell_type": "markdown",
   "metadata": {
    "colab_type": "text",
    "id": "jg1pyfBW00aR"
   },
   "source": [
    "## Summary visualisations\n",
    "\n",
    "The summary plot of all models can be found below (transfer learning and experimental RNN network not included).\n",
    "We use hardcoded results to show scores of multiple runs.   \n",
    "Due to time contraints we are unable to generate them all from scratch here.  \n",
    "\n",
    "Note: We want to report results of several runs. However, we did not have enough resources to repeat the trainings many times, especially for computationally expensive models. The error bars therefore are not available for models and we decided to report the results of individual runs in the plots below."
   ]
  },
  {
   "cell_type": "code",
   "execution_count": 2,
   "metadata": {
    "colab": {},
    "colab_type": "code",
    "id": "Yxk2tlB1t_Uf"
   },
   "outputs": [],
   "source": [
    "import seaborn as sns\n",
    "import pandas as pd\n",
    "import numpy as np\n",
    "import matplotlib.pyplot as plt"
   ]
  },
  {
   "cell_type": "markdown",
   "metadata": {
    "colab_type": "text",
    "id": "jlj8FlHh2bnq"
   },
   "source": [
    "### MITBIH results"
   ]
  },
  {
   "cell_type": "markdown",
   "metadata": {
    "colab_type": "text",
    "id": "2aWncK_Z5Cpq"
   },
   "source": [
    "#### Accuracy"
   ]
  },
  {
   "cell_type": "code",
   "execution_count": 2,
   "metadata": {
    "colab": {},
    "colab_type": "code",
    "id": "9DC4wKOIuK7Z"
   },
   "outputs": [],
   "source": [
    "model = []\n",
    "baseline_cnn = [0.9838753882696876, 0.9840581034167732, 0.9861593276082588, 0.9862506851818016]\n",
    "for res in baseline_cnn:\n",
    "  model.append(\"baseline\")\n",
    "own_cnn = [0.9857482185273159, 0.9849716791522017, 0.9853827882331445, 0.984469212497716]\n",
    "for res in own_cnn:\n",
    "  model.append(\"own CNN\")\n",
    "own_lstm = [0.9769322126804312,  0.9767038187465741]\n",
    "for res in own_lstm:\n",
    "  model.append(\"own LSTM\")\n",
    "resnet = [0.9879864790791156, 0.9877580851452585, 0.9873469760643158, 0.9878951215055728]\n",
    "for res in resnet:\n",
    "  model.append(\"residual CNN\")\n",
    "ensemble = [0.988]\n",
    "for res in ensemble:\n",
    "  model.append(\"ensemble\")"
   ]
  },
  {
   "cell_type": "code",
   "execution_count": 3,
   "metadata": {
    "colab": {
     "base_uri": "https://localhost:8080/",
     "height": 322
    },
    "colab_type": "code",
    "id": "wmWZjAWlwFZL",
    "outputId": "18ebf344-3b37-4d2a-b83a-327a52a4ab8e"
   },
   "outputs": [
    {
     "data": {
      "image/png": "[encoded data removed]",
      "text/plain": [
       "<Figure size 360x360 with 1 Axes>"
      ]
     },
     "metadata": {
      "needs_background": "light"
     },
     "output_type": "display_data"
    }
   ],
   "source": [
    "combined = baseline_cnn+own_cnn+own_lstm+resnet+ensemble\n",
    "empty=[\"\"]*len(combined)\n",
    "data = pd.DataFrame({\"model\":model, \"accuracy\":combined})\n",
    "plt.figure(figsize=(5,5)) \n",
    "sns.swarmplot(x=empty, y=\"accuracy\",hue=\"model\", data=data)\n",
    "plt.ylim((0.975, 0.990))\n",
    "plt.title(\"MIT BIH accuracy results\")\n",
    "plt.show()"
   ]
  },
  {
   "cell_type": "markdown",
   "metadata": {
    "colab_type": "text",
    "id": "t5eoGJsT5MEo"
   },
   "source": [
    "#### F1 score"
   ]
  },
  {
   "cell_type": "code",
   "execution_count": 4,
   "metadata": {
    "colab": {},
    "colab_type": "code",
    "id": "qKMQadli5G-W"
   },
   "outputs": [],
   "source": [
    "model = []\n",
    "baseline_cnn = [0.9126154212667184, 0.9099084650261435, 0.9201012250720056, 0.9200130491637702]\n",
    "for res in baseline_cnn:\n",
    "  model.append(\"baseline\")\n",
    "own_cnn = [0.9211047310741562, 0.9143257550306652, 0.9177145939921465, 0.91357287708207]\n",
    "for res in own_cnn:\n",
    "  model.append(\"own CNN\")\n",
    "own_lstm = [0.8830768599106025, 0.8744647536245468]\n",
    "for res in own_lstm:\n",
    "  model.append(\"own LSTM\")\n",
    "resnet = [0.9316661944547674, 0.9330248327810884, 0.9272341944723722, 0.9270037924287191]\n",
    "for res in resnet:\n",
    "  model.append(\"residual CNN\")\n",
    "ensemble = [0.927]\n",
    "for res in ensemble:\n",
    "  model.append(\"ensemble\")"
   ]
  },
  {
   "cell_type": "code",
   "execution_count": 5,
   "metadata": {
    "colab": {
     "base_uri": "https://localhost:8080/",
     "height": 322
    },
    "colab_type": "code",
    "id": "BH_NW6ly5IdT",
    "outputId": "700cf59f-2669-41b1-d91b-92ea8a03e58f"
   },
   "outputs": [
    {
     "data": {
      "image/png": "[encoded data removed]",
      "text/plain": [
       "<Figure size 360x360 with 1 Axes>"
      ]
     },
     "metadata": {
      "needs_background": "light"
     },
     "output_type": "display_data"
    }
   ],
   "source": [
    "combined = baseline_cnn+own_cnn+own_lstm+resnet+ensemble\n",
    "empty=[\"\"]*len(combined)\n",
    "data = pd.DataFrame({\"model\":model, \"f1 score\":combined})\n",
    "plt.figure(figsize=(5,5)) \n",
    "sns.swarmplot(x=empty, y=\"f1 score\",hue=\"model\", data=data)\n",
    "plt.title(\"MIT BIH f1 score results\")\n",
    "plt.show()"
   ]
  },
  {
   "cell_type": "markdown",
   "metadata": {
    "colab_type": "text",
    "id": "HsMZB9Vp2rc4"
   },
   "source": [
    "## PTB results"
   ]
  },
  {
   "cell_type": "markdown",
   "metadata": {
    "colab_type": "text",
    "id": "fz4sEf1D6FuU"
   },
   "source": [
    "#### Accuracy"
   ]
  },
  {
   "cell_type": "code",
   "execution_count": 3,
   "metadata": {
    "colab": {},
    "colab_type": "code",
    "id": "1al9nUex2u-e"
   },
   "outputs": [],
   "source": [
    "model = []\n",
    "baseline_cnn = [0.9811061490896599,  0.9903813122638269, 0.9855719683957403,  0.9859154929577465]\n",
    "for res in baseline_cnn:\n",
    "  model.append(\"baseline\")\n",
    "own_cnn = [0.9866025420817588, 0.9879766403297836, 0.9883201648917898, 0.9872895912057712]\n",
    "for res in own_cnn:\n",
    "  model.append(\"own CNN\")\n",
    "own_lstm = [0.8704912401236689, 0.8684300927516317]\n",
    "for res in own_lstm:\n",
    "  model.append(\"own LSTM\")\n",
    "resnet = [0.9934730333218825, 0.9945036070079011, 0.9931295087598764, 0.9927859841978701]\n",
    "for res in resnet:\n",
    "  model.append(\"residual CNN\")\n",
    "ensemble = [0.9938]\n",
    "for res in ensemble:\n",
    "  model.append(\"log. regr. ensemble\")"
   ]
  },
  {
   "cell_type": "code",
   "execution_count": 4,
   "metadata": {
    "colab": {
     "base_uri": "https://localhost:8080/",
     "height": 322
    },
    "colab_type": "code",
    "id": "DOkVgGff4ufY",
    "outputId": "63f10cc6-b6de-45b2-bee2-33bbd67eecf7"
   },
   "outputs": [
    {
     "data": {
      "image/png": "[encoded data removed]",
      "text/plain": [
       "<Figure size 360x360 with 1 Axes>"
      ]
     },
     "metadata": {
      "needs_background": "light"
     },
     "output_type": "display_data"
    }
   ],
   "source": [
    "combined = baseline_cnn+own_cnn+own_lstm+resnet+ensemble\n",
    "empty=[\"\"]*len(combined)\n",
    "data = pd.DataFrame({\"model\":model, \"accuracy\":combined})\n",
    "plt.figure(figsize=(5,5)) \n",
    "sns.swarmplot(x=empty, y=\"accuracy\",hue=\"model\", data=data)\n",
    "plt.title(\"PTB accuracy results\")\n",
    "plt.show()"
   ]
  },
  {
   "cell_type": "markdown",
   "metadata": {
    "colab_type": "text",
    "id": "NAZF0IDB6Ifv"
   },
   "source": [
    "#### F1 score"
   ]
  },
  {
   "cell_type": "code",
   "execution_count": 7,
   "metadata": {
    "colab": {},
    "colab_type": "code",
    "id": "LeHeOfUl6PCn"
   },
   "outputs": [],
   "source": [
    "model = []\n",
    "baseline_cnn = [0.9869884078542702, 0.9933460076045628, 0.9900332225913622, 0.9902357704215289]\n",
    "for res in baseline_cnn:\n",
    "  model.append(\"baseline\")\n",
    "own_cnn = [0.990729736154029, 0.9917198959072627, 0.9919278252611586, 0.9912009512485137]\n",
    "for res in own_cnn:\n",
    "  model.append(\"own CNN\")\n",
    "own_lstm = [0.9127516778523491, 0.9123770304278197]\n",
    "for res in own_lstm:\n",
    "  model.append(\"own LSTM\")\n",
    "resnet = [0.9918345081313146, 0.993152674655605, 0.9914146508349406, 0.9909540368115699]\n",
    "for res in resnet:\n",
    "  model.append(\"residual CNN\")\n",
    "ensemble = [0.9957]\n",
    "for res in ensemble:\n",
    "  model.append(\"log. regr. ensemble\")"
   ]
  },
  {
   "cell_type": "code",
   "execution_count": 8,
   "metadata": {
    "colab": {
     "base_uri": "https://localhost:8080/",
     "height": 322
    },
    "colab_type": "code",
    "id": "QpGWaU846EeX",
    "outputId": "51fede04-d974-45b3-ca1f-d7df4a5bcd75"
   },
   "outputs": [
    {
     "data": {
      "image/png": "[encoded data removed]",
      "text/plain": [
       "<Figure size 360x360 with 1 Axes>"
      ]
     },
     "metadata": {
      "needs_background": "light"
     },
     "output_type": "display_data"
    }
   ],
   "source": [
    "combined = baseline_cnn+own_cnn+own_lstm+resnet+ensemble\n",
    "empty=[\"\"]*len(combined)\n",
    "data = pd.DataFrame({\"model\":model, \"f1 score\":combined})\n",
    "plt.figure(figsize=(5,5)) \n",
    "sns.swarmplot(x=empty, y=\"f1 score\",hue=\"model\", data=data)\n",
    "plt.title(\"PTB f1 score results\")\n",
    "plt.show()"
   ]
  },
  {
   "cell_type": "markdown",
   "metadata": {
    "colab_type": "text",
    "id": "Ixh6-oq57Wyp"
   },
   "source": [
    "### Transfer learning\n",
    "Compare transfer learning types with each other and also with the best performing model (residual CNN)."
   ]
  },
  {
   "cell_type": "markdown",
   "metadata": {
    "colab_type": "text",
    "id": "JkXbYsvd94hV"
   },
   "source": [
    "##### Accuracy"
   ]
  },
  {
   "cell_type": "code",
   "execution_count": 10,
   "metadata": {
    "colab": {},
    "colab_type": "code",
    "id": "NS0wAiho7WFa"
   },
   "outputs": [],
   "source": [
    "model = []\n",
    "frozen = [0.7993816557883888, 0.8028169014084507, 0.7997251803503951]\n",
    "for res in frozen:\n",
    "  model.append(\"freeze\")\n",
    "trainable = [0.9653040192373755, 0.9708004122294744, 0.9762968052215734]\n",
    "for res in trainable:\n",
    "  model.append(\"train whole\")\n",
    "freeze_train_train = [ 0.9783579525936105, 0.9780144280316042, 0.9776709034695981]\n",
    "for res in freeze_train_train:\n",
    "  model.append(\"freeze then train\")\n",
    "resnet = [0.9934730333218825, 0.9945036070079011, 0.9931295087598764, 0.9927859841978701]\n",
    "for res in resnet:\n",
    "  model.append(\"residual CNN\")"
   ]
  },
  {
   "cell_type": "code",
   "execution_count": 11,
   "metadata": {
    "colab": {
     "base_uri": "https://localhost:8080/",
     "height": 322
    },
    "colab_type": "code",
    "id": "VH5OpVc99RPr",
    "outputId": "82bc12dd-0527-43ac-c908-c323a8c6caa1"
   },
   "outputs": [
    {
     "data": {
      "image/png": "[encoded data removed]",
      "text/plain": [
       "<Figure size 360x360 with 1 Axes>"
      ]
     },
     "metadata": {
      "needs_background": "light"
     },
     "output_type": "display_data"
    }
   ],
   "source": [
    "combined = frozen+trainable+freeze_train_train+resnet\n",
    "empty=[\"\"]*len(combined)\n",
    "data = pd.DataFrame({\"model\":model, \"accuracy\":combined})\n",
    "plt.figure(figsize=(5,5)) \n",
    "sns.swarmplot(x=empty, y=\"accuracy\",hue=\"model\", data=data)\n",
    "plt.title(\"PTB transfer learning accuracy\")\n",
    "plt.show()"
   ]
  },
  {
   "cell_type": "markdown",
   "metadata": {
    "colab_type": "text",
    "id": "ouYotdK8-4LK"
   },
   "source": [
    "##### F1 score"
   ]
  },
  {
   "cell_type": "code",
   "execution_count": 12,
   "metadata": {
    "colab": {},
    "colab_type": "code",
    "id": "xPO9DPno9-vl"
   },
   "outputs": [],
   "source": [
    "model = []\n",
    "frozen = [0.7234967216932953, 0.73243422763509,  0.7299105071821994]\n",
    "for res in frozen:\n",
    "  model.append(\"freeze\")\n",
    "trainable = [0.956425546420248, 0.9632134579854976, 0.9704821271667332]\n",
    "for res in trainable:\n",
    "  model.append(\"train whole\")\n",
    "freeze_train_train = [0.9730078352384828, 0.9725689192945755, 0.9721296598659295]\n",
    "for res in freeze_train_train:\n",
    "  model.append(\"freeze then train\")\n",
    "resnet = [0.9918345081313146, 0.993152674655605, 0.9914146508349406, 0.9909540368115699]\n",
    "for res in resnet:\n",
    "  model.append(\"residual CNN\")"
   ]
  },
  {
   "cell_type": "code",
   "execution_count": 13,
   "metadata": {
    "colab": {
     "base_uri": "https://localhost:8080/",
     "height": 325
    },
    "colab_type": "code",
    "id": "S7suJ0qD9_2P",
    "outputId": "eb693dca-1112-49ed-bdcb-e7311772cf52"
   },
   "outputs": [
    {
     "data": {
      "image/png": "[encoded data removed]",
      "text/plain": [
       "<Figure size 360x360 with 1 Axes>"
      ]
     },
     "metadata": {
      "needs_background": "light"
     },
     "output_type": "display_data"
    }
   ],
   "source": [
    "combined = frozen+trainable+freeze_train_train+resnet\n",
    "empty=[\"\"]*len(combined)\n",
    "data = pd.DataFrame({\"model\":model, \"f1 score\":combined})\n",
    "plt.figure(figsize=(5,5)) \n",
    "sns.swarmplot(x=empty, y=\"f1 score\",hue=\"model\", data=data)\n",
    "plt.title(\"PTB transfer learning f1 score\")\n",
    "plt.show()"
   ]
  }
 ],
 "metadata": {
  "colab": {
   "authorship_tag": "ABX9TyPM0jteL4D7yHqfuSLKo7rx",
   "name": "SUMMARY_project_1.ipynb",
   "provenance": []
  },
  "kernelspec": {
   "display_name": "Python 3",
   "language": "python",
   "name": "python3"
  },
  "language_info": {
   "codemirror_mode": {
    "name": "ipython",
    "version": 3
   },
   "file_extension": ".py",
   "mimetype": "text/x-python",
   "name": "python",
   "nbconvert_exporter": "python",
   "pygments_lexer": "ipython3",
   "version": "3.7.4"
  }
 },
 "nbformat": 4,
 "nbformat_minor": 1
}
