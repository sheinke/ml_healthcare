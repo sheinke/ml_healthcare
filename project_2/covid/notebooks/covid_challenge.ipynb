{
 "cells": [
  {
   "cell_type": "markdown",
   "metadata": {},
   "source": [
    "# COVID-19 Challenge\n",
    "\n",
    "![alt text](../images/covid_wordcloud_full.png \"wordcloud\")\n",
    "\n",
    "The goal of this notebook is to analyse data from the [COVID-19 Open Research Dataset Challenge (CORD-19)](https://www.kaggle.com/allen-institute-for-ai/CORD-19-research-challenge).\n",
    "\n",
    "There are various questions asked about the current state of our knowledge about the covid-19 virus and there are also many ways in which the published papers can be useful. We have decided to implement a few simple tools that can make it faster to find answers and which can be helpful in versatile use cases.  \n",
    "\n",
    "The tools can be used to help with any of the questions, but for demonstrative purposes, we try do address the questions *What do we know about COVID-19 risk factors?* and *What do we know about virus genetics, origin, and evolution?*\n"
   ]
  },
  {
   "cell_type": "code",
   "execution_count": null,
   "metadata": {},
   "outputs": [],
   "source": [
    "import pandas as pd\n",
    "import matplotlib.pyplot as plt\n",
    "import numpy as np\n",
    "import string\n",
    "from sklearn.base import BaseEstimator, TransformerMixin\n",
    "from sklearn.pipeline import Pipeline\n",
    "from sklearn.feature_extraction.text import TfidfVectorizer\n",
    "from sklearn.metrics.pairwise import cosine_similarity  \n",
    "from nltk.stem import PorterStemmer\n",
    "from gensim.models import Word2Vec\n",
    "from nltk.corpus import stopwords\n",
    "from nltk import word_tokenize\n",
    "from gensim import corpora, models\n",
    "import seaborn as sns\n",
    "import nltk\n",
    "from itertools import  combinations\n",
    "import networkx as nx\n",
    "from networkx.algorithms.centrality import degree_centrality, eigenvector_centrality, closeness_centrality, betweenness_centrality\n",
    "from networkx.algorithms.components import connected_components, number_connected_components\n",
    "from itertools import  combinations\n",
    "from string import digits\n",
    "nltk.download('stopwords')\n",
    "nltk.download('punkt')\n",
    "import os\n",
    "import json\n",
    "from pprint import pprint\n",
    "from copy import deepcopy\n",
    "from tqdm.notebook import tqdm\n",
    "from wordcloud import WordCloud\n",
    "from nltk import FreqDist\n",
    "import pyLDAvis\n",
    "import pyLDAvis.gensim\n",
    "import umap\n",
    "from sklearn.manifold import TSNE"
   ]
  },
  {
   "cell_type": "markdown",
   "metadata": {},
   "source": [
    "## Read data\n",
    " @xhlulu provided a great notebook for data reading, the loading functions are taken from it: https://www.kaggle.com/xhlulu/cord-19-eda-parse-json-and-generate-clean-csv, thanks to @xhlulu."
   ]
  },
  {
   "cell_type": "code",
   "execution_count": 2,
   "metadata": {},
   "outputs": [],
   "source": [
    "def format_name(author):\n",
    "    middle_name = \" \".join(author['middle'])\n",
    "    \n",
    "    if author['middle']:\n",
    "        return \" \".join([author['first'], middle_name, author['last']])\n",
    "    else:\n",
    "        return \" \".join([author['first'], author['last']])\n",
    "\n",
    "\n",
    "def format_affiliation(affiliation):\n",
    "    text = []\n",
    "    location = affiliation.get('location')\n",
    "    if location:\n",
    "        text.extend(list(affiliation['location'].values()))\n",
    "    \n",
    "    institution = affiliation.get('institution')\n",
    "    if institution:\n",
    "        text = [institution] + text\n",
    "    return \", \".join(text)\n",
    "\n",
    "def format_authors(authors, with_affiliation=False):\n",
    "    name_ls = []\n",
    "    \n",
    "    for author in authors:\n",
    "        name = format_name(author)\n",
    "        if with_affiliation:\n",
    "            affiliation = format_affiliation(author['affiliation'])\n",
    "            if affiliation:\n",
    "                name_ls.append(f\"{name} ({affiliation})\")\n",
    "            else:\n",
    "                name_ls.append(name)\n",
    "        else:\n",
    "            name_ls.append(name)\n",
    "    \n",
    "    return \", \".join(name_ls)\n",
    "\n",
    "def format_body(body_text):\n",
    "    texts = [(di['section'], di['text']) for di in body_text]\n",
    "    texts_di = {di['section']: \"\" for di in body_text}\n",
    "    \n",
    "    for section, text in texts:\n",
    "        texts_di[section] += text\n",
    "\n",
    "    body = \"\"\n",
    "\n",
    "    for section, text in texts_di.items():\n",
    "        body += section\n",
    "        body += \"\\n\\n\"\n",
    "        body += text\n",
    "        body += \"\\n\\n\"\n",
    "    \n",
    "    return body\n",
    "\n",
    "def format_bib(bibs):\n",
    "    if type(bibs) == dict:\n",
    "        bibs = list(bibs.values())\n",
    "    bibs = deepcopy(bibs)\n",
    "    formatted = []\n",
    "    \n",
    "    for bib in bibs:\n",
    "        bib['authors'] = format_authors(\n",
    "            bib['authors'], \n",
    "            with_affiliation=False\n",
    "        )\n",
    "        formatted_ls = [str(bib[k]) for k in ['title', 'authors', 'venue', 'year']]\n",
    "        formatted.append(\", \".join(formatted_ls))\n",
    "\n",
    "    return \"; \".join(formatted)\n",
    "\n",
    "def load_files(dirname):\n",
    "    filenames = os.listdir(dirname)\n",
    "    raw_files = []\n",
    "\n",
    "    for filename in tqdm(filenames):\n",
    "        filename = dirname + filename\n",
    "        file = json.load(open(filename, 'rb'))\n",
    "        raw_files.append(file)\n",
    "    \n",
    "    return raw_files\n",
    "\n",
    "def generate_clean_df(all_files):\n",
    "    cleaned_files = []\n",
    "    \n",
    "    for file in tqdm(all_files):\n",
    "        features = [\n",
    "            file['paper_id'],\n",
    "            file['metadata']['title'],\n",
    "            format_authors(file['metadata']['authors']),\n",
    "            format_authors(file['metadata']['authors'], \n",
    "                           with_affiliation=True),\n",
    "            format_body(file['abstract']),\n",
    "            format_body(file['body_text']),\n",
    "            format_bib(file['bib_entries']),\n",
    "            file['metadata']['authors'],\n",
    "            file['bib_entries']\n",
    "        ]\n",
    "\n",
    "        cleaned_files.append(features)\n",
    "\n",
    "    col_names = ['paper_id', 'title', 'authors',\n",
    "                 'affiliations', 'abstract', 'text', \n",
    "                 'bibliography','raw_authors','raw_bibliography']\n",
    "\n",
    "    clean_df = pd.DataFrame(cleaned_files, columns=col_names)\n",
    "    clean_df.head()\n",
    "    \n",
    "    return clean_df"
   ]
  },
  {
   "cell_type": "code",
   "execution_count": 3,
   "metadata": {},
   "outputs": [
    {
     "data": {
      "application/vnd.jupyter.widget-view+json": {
       "model_id": "a21a122b3d40401c86d6258505cc284e",
       "version_major": 2,
       "version_minor": 0
      },
      "text/plain": [
       "HBox(children=(FloatProgress(value=0.0, max=1342.0), HTML(value='')))"
      ]
     },
     "metadata": {},
     "output_type": "display_data"
    },
    {
     "name": "stdout",
     "output_type": "stream",
     "text": [
      "\n"
     ]
    },
    {
     "data": {
      "application/vnd.jupyter.widget-view+json": {
       "model_id": "58a49fde82c444b28f3b08553f89ab3e",
       "version_major": 2,
       "version_minor": 0
      },
      "text/plain": [
       "HBox(children=(FloatProgress(value=0.0, max=1342.0), HTML(value='')))"
      ]
     },
     "metadata": {},
     "output_type": "display_data"
    },
    {
     "name": "stdout",
     "output_type": "stream",
     "text": [
      "\n"
     ]
    },
    {
     "data": {
      "application/vnd.jupyter.widget-view+json": {
       "model_id": "cbed8b9dbe82495682648a26be87ae78",
       "version_major": 2,
       "version_minor": 0
      },
      "text/plain": [
       "HBox(children=(FloatProgress(value=0.0, max=23152.0), HTML(value='')))"
      ]
     },
     "metadata": {},
     "output_type": "display_data"
    },
    {
     "name": "stdout",
     "output_type": "stream",
     "text": [
      "\n"
     ]
    },
    {
     "data": {
      "application/vnd.jupyter.widget-view+json": {
       "model_id": "33d5e5df7fec492e8b647431634433ef",
       "version_major": 2,
       "version_minor": 0
      },
      "text/plain": [
       "HBox(children=(FloatProgress(value=0.0, max=23152.0), HTML(value='')))"
      ]
     },
     "metadata": {},
     "output_type": "display_data"
    },
    {
     "name": "stdout",
     "output_type": "stream",
     "text": [
      "\n"
     ]
    },
    {
     "data": {
      "application/vnd.jupyter.widget-view+json": {
       "model_id": "477aea9032c8410aa9988d49a7b00bcb",
       "version_major": 2,
       "version_minor": 0
      },
      "text/plain": [
       "HBox(children=(FloatProgress(value=0.0, max=9365.0), HTML(value='')))"
      ]
     },
     "metadata": {},
     "output_type": "display_data"
    },
    {
     "name": "stdout",
     "output_type": "stream",
     "text": [
      "\n"
     ]
    },
    {
     "data": {
      "application/vnd.jupyter.widget-view+json": {
       "model_id": "1b378229dce448a98e3e8744b97df2f2",
       "version_major": 2,
       "version_minor": 0
      },
      "text/plain": [
       "HBox(children=(FloatProgress(value=0.0, max=9365.0), HTML(value='')))"
      ]
     },
     "metadata": {},
     "output_type": "display_data"
    },
    {
     "name": "stdout",
     "output_type": "stream",
     "text": [
      "\n"
     ]
    },
    {
     "data": {
      "application/vnd.jupyter.widget-view+json": {
       "model_id": "5117edfb10644e19a6f059873835c633",
       "version_major": 2,
       "version_minor": 0
      },
      "text/plain": [
       "HBox(children=(FloatProgress(value=0.0, max=2377.0), HTML(value='')))"
      ]
     },
     "metadata": {},
     "output_type": "display_data"
    },
    {
     "name": "stdout",
     "output_type": "stream",
     "text": [
      "\n"
     ]
    },
    {
     "data": {
      "application/vnd.jupyter.widget-view+json": {
       "model_id": "9685634ecb5645f4851b783b2289ed77",
       "version_major": 2,
       "version_minor": 0
      },
      "text/plain": [
       "HBox(children=(FloatProgress(value=0.0, max=2377.0), HTML(value='')))"
      ]
     },
     "metadata": {},
     "output_type": "display_data"
    },
    {
     "name": "stdout",
     "output_type": "stream",
     "text": [
      "\n"
     ]
    }
   ],
   "source": [
    "biorxiv_dir = '../input/CORD-19-research-challenge/biorxiv_medrxiv/biorxiv_medrxiv/pdf_json/'\n",
    "biorxiv_files = load_files(biorxiv_dir)\n",
    "biorxiv_df = generate_clean_df(biorxiv_files)\n",
    "biorxiv_df['subset'] = \"biorxiv\"\n",
    "\n",
    "pmc_dir = '../input/CORD-19-research-challenge/custom_license/custom_license/pdf_json/'\n",
    "pmc_files = load_files(pmc_dir)\n",
    "pmc_df = generate_clean_df(pmc_files)\n",
    "pmc_df['subset'] = \"pmc\"\n",
    "\n",
    "comm_dir = '../input/CORD-19-research-challenge/comm_use_subset/comm_use_subset/pdf_json/'\n",
    "comm_files = load_files(comm_dir)\n",
    "comm_df = generate_clean_df(comm_files)\n",
    "comm_df['subset'] = \"comm\"\n",
    "\n",
    "noncomm_dir = '../input/CORD-19-research-challenge/noncomm_use_subset/noncomm_use_subset/pdf_json/'\n",
    "noncomm_files = load_files(noncomm_dir)\n",
    "noncomm_df = generate_clean_df(noncomm_files)\n",
    "noncomm_df['subset'] = \"noncomm\""
   ]
  },
  {
   "cell_type": "code",
   "execution_count": 4,
   "metadata": {},
   "outputs": [],
   "source": [
    "complete_df = pd.concat([biorxiv_df, pmc_df, comm_df, noncomm_df])\n",
    "complete_df.reset_index(inplace=True, drop=True)"
   ]
  },
  {
   "cell_type": "code",
   "execution_count": 5,
   "metadata": {},
   "outputs": [
    {
     "name": "stdout",
     "output_type": "stream",
     "text": [
      "2109 out of 47298 papers do not mention authors\n",
      "109 papers are duplicates w.r.t ['title', 'authors']\n"
     ]
    }
   ],
   "source": [
    "meta_info_dir = \"../input/CORD-19-research-challenge/metadata.csv\"\n",
    "meta_info  = pd.read_csv(meta_info_dir, low_memory=False)\n",
    "len1 = len(meta_info)\n",
    "\n",
    "meta_info = meta_info.loc[meta_info[\"authors\"].isnull() == False]\n",
    "len2 = len(meta_info)\n",
    "\n",
    "# exclude \"duplicate\" papers\n",
    "vars_unique = ['title', 'authors'] # \n",
    "meta_info = meta_info.drop_duplicates(vars_unique)\n",
    "len3 = len(meta_info)\n",
    "msg = \"{} out of {} papers do not mention authors\\n{} papers are duplicates w.r.t {}\".format(len1-len2, len1, len2-len3, vars_unique)\n",
    "print(msg)\n"
   ]
  },
  {
   "cell_type": "markdown",
   "metadata": {},
   "source": [
    "# Make data help us\n",
    "\n",
    "We wanted to address some of the potential use-cases of the covid-19 papers. Specifically, we tried to facilitate the following processes:\n",
    "* Finding articles that refer to some specific topics so that it is possible to concentrate on the most relevant papers.\n",
    "* Looking for papers that belong to important / credible authors\n",
    "* Detecting possible areas of research and also new directions of published papers.\n",
    "\n",
    "In the following we develop tools that could help in the above use cases."
   ]
  },
  {
   "cell_type": "markdown",
   "metadata": {},
   "source": [
    "## Topic relevant articles\n",
    "In the first use case we want to find articles that refer to some specific topics so that we can focus on the most relevant papers. To do that we use Word2Vec model."
   ]
  },
  {
   "cell_type": "markdown",
   "metadata": {},
   "source": [
    "First we implement two different preprocessing pipelines to make our tool more robust to details of text preprocessing by just having the ability to analyse results after two different preprocessing methods."
   ]
  },
  {
   "cell_type": "markdown",
   "metadata": {},
   "source": [
    "**Pipeline 1**: Here we define a text preprocessing pipeline, using self-defined filters and transforms."
   ]
  },
  {
   "cell_type": "code",
   "execution_count": 6,
   "metadata": {},
   "outputs": [],
   "source": [
    "class Selector(BaseEstimator, TransformerMixin):\n",
    "    def __init__(self, attribute_names):\n",
    "        self.attribute_names = attribute_names\n",
    "    def fit(self, X, y=None):\n",
    "        return self\n",
    "    def transform(self, X):\n",
    "        return X[self.attribute_names]\n",
    "    \n",
    "class Tokenizer(BaseEstimator, TransformerMixin):\n",
    "    def __init__(self):\n",
    "        pass\n",
    "    def fit(self, X, y=None):\n",
    "        return self\n",
    "    def transform(self, X):\n",
    "        return X.apply(lambda x: word_tokenize(x))\n",
    "\n",
    "class Stemmer(BaseEstimator, TransformerMixin):\n",
    "    def __init__(self):\n",
    "        self.stemmer = PorterStemmer()\n",
    "    def fit(self, X, y=None):\n",
    "        return self\n",
    "    def transform(self, X):\n",
    "        return X.apply(lambda x: [self.stemmer.stem(word) for word in x])\n",
    "\n",
    "class StopWordsFilter(BaseEstimator, TransformerMixin):\n",
    "    def __init__(self):\n",
    "        self.stopwords = stopwords.words('english') + list(string.punctuation)\n",
    "    def fit(self, X, y=None):\n",
    "        return self\n",
    "    def transform(self, X):\n",
    "        return X.apply(lambda x: [word for word in x if word not in self.stopwords])\n",
    "\n",
    "class LowerCaseTransformer(BaseEstimator, TransformerMixin):\n",
    "    def __init__(self):\n",
    "        pass\n",
    "    def fit(self, X, y=None):\n",
    "        return self\n",
    "    def transform(self, X):\n",
    "        return X.apply(lambda x: x.lower())\n",
    "\n",
    "class ShortWordRemover(BaseEstimator, TransformerMixin):\n",
    "    def __init__(self, min_length):\n",
    "        self.min_length=min_length\n",
    "    def fit(self, X, y=None):\n",
    "        return self\n",
    "    def transform(self, X):\n",
    "        return X.apply(lambda x: [word for word in x if len(word) >= self.min_length])\n",
    "    \n",
    "\n",
    "pipe_1 = Pipeline([\n",
    "        (\"select_textual_features\", Selector(\"text\")),\n",
    "        (\"to_lower_case\", LowerCaseTransformer()),\n",
    "        (\"tokenize\", Tokenizer()),\n",
    "        (\"filter_stop_words\", StopWordsFilter()),\n",
    "        (\"stemming\", Stemmer()),\n",
    "        (\"short_words_remover\", ShortWordRemover(min_length=3))\n",
    "    ])"
   ]
  },
  {
   "cell_type": "markdown",
   "metadata": {},
   "source": [
    "**Pipeline 2:** Here we make use of the gensim preprocessing library:"
   ]
  },
  {
   "cell_type": "code",
   "execution_count": 7,
   "metadata": {},
   "outputs": [],
   "source": [
    "from gensim import utils\n",
    "import gensim.parsing.preprocessing as gsp\n",
    "\n",
    "class AllInOneTransformer(BaseEstimator, TransformerMixin):\n",
    "    def __init__(self):\n",
    "        self.filters = [\n",
    "            gsp.strip_tags, \n",
    "            gsp.strip_punctuation,\n",
    "            gsp.strip_multiple_whitespaces,\n",
    "            gsp.strip_numeric,\n",
    "            gsp.remove_stopwords, \n",
    "            gsp.strip_short, \n",
    "            gsp.stem_text\n",
    "        ]\n",
    "    def fit(self, X, y=None):\n",
    "        return self\n",
    "    def do_cleaning(self, x, filters):\n",
    "        x = x.lower()\n",
    "        x = utils.to_unicode(x)\n",
    "        for f in filters:\n",
    "            x = f(x)\n",
    "\n",
    "        return x\n",
    "    def transform(self, X):\n",
    "        return X.apply(lambda x: self.do_cleaning(x, self.filters))\n",
    "\n",
    "pipe_2 = Pipeline([\n",
    "        (\"select_textual_features\", Selector(\"text\")),\n",
    "        (\"all_in_one\", AllInOneTransformer()),         \n",
    "        (\"to_list_of_words\", Tokenizer()),\n",
    "        (\"short_words_remover\", ShortWordRemover(min_length=3))\n",
    "    ])"
   ]
  },
  {
   "cell_type": "markdown",
   "metadata": {},
   "source": [
    "**Build Doc2Vec Vector List**\n",
    "\n",
    "After we fit the word2vec models for the outputs of the preprocessing pipelines, we then use the trained model to calculate an average vector for each document in the corpus. This is done by simply summing up all the word-vectors and then dividing by the number of words."
   ]
  },
  {
   "cell_type": "code",
   "execution_count": 8,
   "metadata": {},
   "outputs": [],
   "source": [
    "def calculate_doc2vec(transformed_text: pd.Series, model) -> pd.DataFrame:\n",
    "    \"\"\" The input argument transformed_text should be the result of one of the two pipelines\"\"\"\n",
    "    df = pd.DataFrame()\n",
    "    df[\"text\"] = transformed_text\n",
    "    df[\"doc_vec\"] = df[\"text\"].apply(\n",
    "        lambda x: sum([model.wv[word] for word in x if word in model.wv.vocab]) /\n",
    "        max(1, sum([1 if word in model.wv.vocab else 0 for word in x]))\n",
    "    )\n",
    "    return df"
   ]
  },
  {
   "cell_type": "markdown",
   "metadata": {},
   "source": [
    "#### Keyword and Word2Vec Filter for Relevant Documents:\n",
    "\n",
    "We implement a keyword-based relevance-filtering by first finding the document in the corpus that contains the keyword most often. Afterwards we find similiar documents to the found one in terms of the Word2Vec distance of latent representations. We return num_docs relevant documents."
   ]
  },
  {
   "cell_type": "code",
   "execution_count": 9,
   "metadata": {},
   "outputs": [],
   "source": [
    "def get_relevant_docs(corpus: pd.DataFrame, keyword: str, min_occurence: int, num_docs: int) -> pd.DataFrame:\n",
    "    \n",
    "    # find document that has most keyword occurences:\n",
    "    max_count = -1\n",
    "    target_vector = None\n",
    "    for index, row in corpus.iterrows():\n",
    "        if row[\"text\"].count(keyword) > max_count:\n",
    "            max_count = row[\"text\"].count(keyword)\n",
    "            target_vector = row[\"doc_vec\"]\n",
    "            \n",
    "    if target_vector is None:\n",
    "        print(\"Could not find keyword, returning empty DataFrame...\")\n",
    "        return pd.DataFrame()\n",
    "    \n",
    "    # list of tuples, consisting of (index, distance_to_target_vector)-pairs\n",
    "    result = [(0, np.inf)] * num_docs\n",
    "    \n",
    "    for index, row in corpus.iterrows():\n",
    "        dist = np.linalg.norm(target_vector - row[\"doc_vec\"])\n",
    "        if dist < result[-1][1]:\n",
    "            result.append((index, dist))\n",
    "            result.sort(key=lambda x : x[1])\n",
    "            result = result[:-1]\n",
    "            \n",
    "    result = [x[0] for x in result]\n",
    "    result = corpus.loc[result].copy()\n",
    "    \n",
    "    return result"
   ]
  },
  {
   "cell_type": "markdown",
   "metadata": {},
   "source": [
    "We also provide a way to look directly for documents similar to the some phrase by interpreting the phrase as a new document and looking for documents that are close to it in the latent space."
   ]
  },
  {
   "cell_type": "code",
   "execution_count": 10,
   "metadata": {},
   "outputs": [],
   "source": [
    "def get_relevant_docs_for_phrase(phrase,corpus, model, pipeline, num_docs) -> pd.DataFrame:\n",
    "    \n",
    "    phrase_transformed = pipe_2.fit_transform(pd.DataFrame({\"text\":[phrase]}))\n",
    "    target_vector = calculate_doc2vec(phrase_transformed, model)[\"doc_vec\"].iloc[0]\n",
    "    \n",
    "    result = [(0, np.inf)] * num_docs\n",
    "    \n",
    "    for index, row in corpus.iterrows():\n",
    "        dist = np.linalg.norm(target_vector - row[\"doc_vec\"])\n",
    "        if dist < result[-1][1]:\n",
    "            result.append((index, dist))\n",
    "            result.sort(key=lambda x : x[1])\n",
    "            result = result[:-1]\n",
    "            \n",
    "    result = [x[0] for x in result]\n",
    "    result = corpus.loc[result].copy()\n",
    "    \n",
    "    return result"
   ]
  },
  {
   "cell_type": "markdown",
   "metadata": {},
   "source": [
    "### Demonstration"
   ]
  },
  {
   "cell_type": "code",
   "execution_count": 11,
   "metadata": {},
   "outputs": [],
   "source": [
    "# take a sample of the dataset\n",
    "sample_df = complete_df.sample(frac=0.02, random_state=42)\n",
    "sample_df = sample_df[sample_df[\"title\"].apply(lambda x: len(x)) > 0] # use papers with non-empty title\n",
    "\n",
    "# fit pipelines and word2vec models:\n",
    "transformed_text_1 = pipe_1.fit_transform(sample_df)\n",
    "model_1 = Word2Vec(transformed_text_1)\n",
    "vocab_1 = list(model_1.wv.vocab)\n",
    "\n",
    "transformed_text_2 = pipe_2.fit_transform(sample_df)\n",
    "model_2 = Word2Vec(transformed_text_2)\n",
    "vocab_2 = list(model_2.wv.vocab)"
   ]
  },
  {
   "cell_type": "markdown",
   "metadata": {},
   "source": [
    "Show which **viruses might be similar to covid**. Perhaps some of them can help with learning about covid evolution and origin."
   ]
  },
  {
   "cell_type": "code",
   "execution_count": 12,
   "metadata": {},
   "outputs": [
    {
     "name": "stdout",
     "output_type": "stream",
     "text": [
      "Resulting similarities are slightly different: \n",
      "[('viru', 0.7995303869247437),\n",
      " ('coronavirus', 0.7309995889663696),\n",
      " ('avian', 0.703175961971283),\n",
      " ('paramyxovirus', 0.7028070688247681),\n",
      " ('flaviviru', 0.6978926062583923)]\n",
      "[('viru', 0.7958441376686096),\n",
      " ('avian', 0.7379115223884583),\n",
      " ('paramyxovirus', 0.6789348125457764),\n",
      " ('viral', 0.6589496731758118),\n",
      " ('pathogen', 0.6571005582809448)]\n"
     ]
    }
   ],
   "source": [
    "print(\"Resulting similarities are slightly different: \")\n",
    "pprint(model_1.wv.most_similar('virus')[:5])\n",
    "pprint(model_2.wv.most_similar('virus')[:5])"
   ]
  },
  {
   "cell_type": "markdown",
   "metadata": {},
   "source": [
    "Try to detect **papers related to immunity and children** to look at different risk groups."
   ]
  },
  {
   "cell_type": "code",
   "execution_count": 13,
   "metadata": {},
   "outputs": [],
   "source": [
    "# calculate document vectors:\n",
    "with_doc2vec_1 = calculate_doc2vec(transformed_text_1, model_1)\n",
    "with_doc2vec_2 = calculate_doc2vec(transformed_text_2, model_2)"
   ]
  },
  {
   "cell_type": "code",
   "execution_count": 14,
   "metadata": {},
   "outputs": [
    {
     "name": "stdout",
     "output_type": "stream",
     "text": [
      "*** immunity related papers ***\n",
      "\n",
      "The Fourth International Neonatal and Maternal Immunization Symposium (INMIS 2017): Toward Integrating Maternal and Infant Immunization Programs\n",
      "\n",
      "Specialty Grand challenge in pediatric infectious diseases\n",
      "\n",
      "Ad Hoc Influenza Vaccination During Years of Significant Antigenic Drift in a Tropical City With 2 Seasonal Peaks A Cross-Sectional Survey Among Health Care Practitioners\n",
      "\n",
      "Lassa virus diversity and feasibility for universal prophylactic vaccine [version 1; referees: 3 approved]\n",
      "\n",
      "Invited review Vaccines, adjuvants and autoimmunity\n",
      "\n",
      "A review of vaccine research and development: Human acute respiratory infections ଝ\n",
      "\n",
      "Man and Microbe: Fraternizing with the frenemy\n",
      "\n",
      "Opinion piece\n",
      "\n",
      "Seasonal influenza vaccination knowledge, risk perception, health beliefs and vaccination behaviours of nurses\n",
      "\n",
      "Neonatal vaccine effectiveness and the role of adjuvants\n",
      "\n"
     ]
    }
   ],
   "source": [
    "result_1 = get_relevant_docs(with_doc2vec_1, \"immun\", -1, 10)\n",
    "print(\"*** immunity related papers ***\\n\")\n",
    "for title in list(complete_df.loc[result_1.index.values][\"title\"].values):\n",
    "    print(title)\n",
    "    print()"
   ]
  },
  {
   "cell_type": "code",
   "execution_count": 15,
   "metadata": {},
   "outputs": [
    {
     "name": "stdout",
     "output_type": "stream",
     "text": [
      "*** children related papers ***\n",
      "\n",
      "Respiratory Research The cost of community-managed viral respiratory illnesses in a cohort of healthy preschool-aged children\n",
      "\n",
      "Household transmission of respiratory viruses -assessment of viral, individual and household characteristics in a population study of healthy Australian adults\n",
      "\n",
      "Breastfeeding and Respiratory Infections in the First 6 Months of Life: A Case Control Study\n",
      "\n",
      "Viral respiratory tract infections in young children with cystic fibrosis: a prospective full-year seasonal study\n",
      "\n",
      "Methods Coccidioidomycosis as a Common Cause of Community-acquired Pneumonia\n",
      "\n",
      "Burden of respiratory syncytial virus infections in China: Systematic review and meta-analysis\n",
      "\n",
      "the World Health Organization/Global Outbreak Alert and Response Network Avian Influenza Investigation Team in Vietnam Human Avian Influenza A H5N1, Vietnam Emerging Infectious Diseases • www\n",
      "\n",
      "Phone: (1) 301-451-9881, jbeigel@niaid.nih.gov\n",
      "\n",
      "Respiratory Syncytial Virus Outbreak in the Basic Military Training Camp of the Republic of Korea Air Force\n",
      "\n",
      "Journal Pre-proof Antimicrobial resistance in southern China: results of prospective surveillance in Dongguan city, 2017 Antimicrobial resistance in Southern China -Results of prospective surveillance in Dongguan City, 2017\n",
      "\n"
     ]
    }
   ],
   "source": [
    "result_2 = get_relevant_docs(with_doc2vec_2, \"child\", -1, 10)\n",
    "print(\"*** children related papers ***\\n\")\n",
    "for title in list(complete_df.loc[result_2.index.values][\"title\"].values):\n",
    "    print(title)\n",
    "    print()"
   ]
  },
  {
   "cell_type": "markdown",
   "metadata": {},
   "source": [
    "Find **papers about \"covid origins, transmission and evolution\"**."
   ]
  },
  {
   "cell_type": "code",
   "execution_count": 16,
   "metadata": {},
   "outputs": [
    {
     "name": "stdout",
     "output_type": "stream",
     "text": [
      "*** 'covid origins, transmission and evolution' related papers ***\n",
      "\n",
      "First respiratory transmitted food borne outbreak?\n",
      "\n",
      "Unanswered questions about the Middle East respiratory syndrome coronavirus (MERS-CoV)\n",
      "\n",
      "Assessing the Epidemic Potential of RNA and DNA Viruses SYNOPSIS Get the content you want delivered to your inbox. · Table of Contents · Podcasts · Ahead of Print arƟcles · CME · Specialized Content\n",
      "\n",
      "The Novel H7N9 Influenza A Virus: Its Present Impact and Indeterminate Future\n",
      "\n",
      "COVID-19: Zoonotic aspects Fig. 1. Potential transmission cycles of SARS-CoV2 (formerly 2019nCoV). Travel Medicine and Infectious Disease xxx (xxxx) xxxx\n",
      "\n"
     ]
    }
   ],
   "source": [
    "phrase_result = get_relevant_docs_for_phrase(\"covid origins, transmission and evolution\", with_doc2vec_2, model_2, pipe_2, 5)\n",
    "print(\"*** 'covid origins, transmission and evolution' related papers ***\\n\")\n",
    "for title in list(complete_df.loc[phrase_result.index.values][\"title\"].values):\n",
    "    print(title)\n",
    "    print()"
   ]
  },
  {
   "cell_type": "markdown",
   "metadata": {},
   "source": [
    "#### **tf-idf cosine similarity matching**\n",
    "\n",
    "Here we additionally implement a naive but widely-used approach for docoument matching. We use it to match papers to queries based on their title and abstract"
   ]
  },
  {
   "cell_type": "code",
   "execution_count": 17,
   "metadata": {},
   "outputs": [],
   "source": [
    "reformulation_rules = {\"what do we know about\": \"\", \n",
    "                       \"what is known about\": \"\", \n",
    "                       \" and\": \"\",\n",
    "                       \"?\": \"\"}\n",
    "\n",
    "\n",
    "def rule_based_reformulation(query, rules=reformulation_rules):\n",
    "    \n",
    "    query = query.lower()\n",
    "    \n",
    "    for (phrase,substitute) in reformulation_rules.items():\n",
    "        query = query.replace(phrase, substitute)\n",
    "    \n",
    "    query = query.strip()\n",
    "    return query\n",
    "\n",
    "\n",
    "def get_tfid (df_text, queries, vectorizer=None, pipeline = pipe_1):\n",
    "    \"\"\"\n",
    "    :param queries: transformed queries\n",
    "    :param df_text: pd.DataFrame with a variable \"text\"\n",
    "    \n",
    "    \"\"\"\n",
    "    transformed_text = pipeline.fit_transform(df_text)\n",
    "    transformed_queries = pipeline.fit_transform(pd.DataFrame( {\"text\": queries }))\n",
    "    \n",
    "    transformed_text = transformed_text.map(lambda x: \" \".join(x))\n",
    "    transformed_queries = transformed_queries.map(lambda x: \" \".join(x))\n",
    "\n",
    "    if vectorizer is None:\n",
    "        # concatenate all text together\n",
    "        phrase_all = transformed_text.append(transformed_queries)\n",
    "        phrase_all.index = range(len(phrase_all))\n",
    "        assert len(transformed_text) + len(transformed_queries) == len(phrase_all)\n",
    "        \n",
    "        vectorizer = TfidfVectorizer()\n",
    "        vectorizer.fit(phrase_all)\n",
    "        \n",
    "    tfidf_text = vectorizer.transform(transformed_text)\n",
    "    tfidf_queries = vectorizer.transform(transformed_queries)\n",
    "    assert tfidf_text.shape[0] == len(df_text), \"number of obs before and after tfidf do not match\"\n",
    "    \n",
    "    return tfidf_text, tfidf_queries, queries, vectorizer\n",
    "\n",
    "\n",
    "def compute_cosine_similarity(tfid_queries, tfid_text):\n",
    "\n",
    "    query_num = tfid_queries.shape[0]\n",
    "    text_num = tfid_text.shape[0] \n",
    "    cosine_df = pd.DataFrame(index = range(text_num))\n",
    "    \n",
    "    for q in range(query_num):\n",
    "        cosine_tmp = cosine_similarity(tfid_queries[q], tfid_text)\n",
    "        assert len(cosine_tmp[0]) == text_num\n",
    "        cosine_df[\"query_{}\".format(int(q))] = cosine_tmp[0]\n",
    "    \n",
    "    return cosine_df\n",
    "\n",
    "\n",
    "def extract_relevant_papers(cosine_df, num_papers=5, verbose=True):\n",
    "\n",
    "    num_queries = len(cosine_df.columns)\n",
    "    \n",
    "    paper_dict = {}\n",
    "    \n",
    "    meta_info_copy = meta_info.copy()\n",
    "    \n",
    "    for q in cosine_df.columns.values:\n",
    "        \n",
    "        meta_info_copy[q] = cosine_df[q]\n",
    "        meta_info_copy = meta_info_copy.sort_values(by=q, ascending=False)\n",
    "        paper_dict[q] =  meta_info_copy[\"title\"].values[:num_papers]\n",
    "\n",
    "        if verbose:\n",
    "            print(\"Selected {} papers, with similarity between {} and {}\".format( num_papers, \n",
    "                                                                                  min(meta_info_copy[q].values[:num_papers]),\n",
    "                                                                                  max(meta_info_copy[q].values[:num_papers])))\n",
    "    return paper_dict  "
   ]
  },
  {
   "cell_type": "markdown",
   "metadata": {},
   "source": [
    "### Demonstration\n",
    "\n",
    "For 4 queries below, we will print up to 10 most similair papers according to the cosine similarty based on the abstract and title only. "
   ]
  },
  {
   "cell_type": "code",
   "execution_count": 18,
   "metadata": {},
   "outputs": [
    {
     "name": "stdout",
     "output_type": "stream",
     "text": [
      "Selected 5 papers, with similarity between 0.3064912820151344 and 0.3732382703390843\n",
      "Selected 5 papers, with similarity between 0.5429319720134561 and 0.6261394960630955\n",
      "Selected 5 papers, with similarity between 0.33085171886975456 and 0.47726504941489145\n",
      "Selected 5 papers, with similarity between 0.4153059038644511 and 0.49904314978418485\n"
     ]
    }
   ],
   "source": [
    "QUERIES = [\n",
    "           \"What is known about transmission, incubation, and environmental stability?\",\n",
    "           \"What do we know about COVID-19 risk factors?\",\n",
    "           \"What do we know about virus genetics, origin, and evolution?\",\n",
    "           \"What do we know about vaccines and therapeutics?\"\n",
    "            ]\n",
    "queries_transformed = [rule_based_reformulation(q) for q in QUERIES]\n",
    "\n",
    "\n",
    "meta_info[\"text\"] = meta_info[\"title\"] + meta_info[\"abstract\"]\n",
    "meta_info_idf = meta_info.loc[meta_info[\"text\"].isnull() == False].copy()\n",
    "\n",
    "\n",
    "tfid_text, tfid_queries, queries, _ = get_tfid (df_text=meta_info_idf, queries=queries_transformed)\n",
    "cosine_df = compute_cosine_similarity(tfid_queries, tfid_text)\n",
    "paper_dict = extract_relevant_papers(cosine_df)"
   ]
  },
  {
   "cell_type": "code",
   "execution_count": 19,
   "metadata": {},
   "outputs": [
    {
     "name": "stdout",
     "output_type": "stream",
     "text": [
      "********************************************************\n",
      "\n",
      "What is known about transmission, incubation, and environmental stability?\n",
      "--------------------------------------------------------\n",
      "\n",
      "Imported malaria in the UK\n",
      "\n",
      "Quantitative Proteomics Identifies Host Factors Modulated during Acute Hepatitis E Virus Infection in the Swine Model\n",
      "\n",
      "Hard decisions will have to be made: view from intensive care\n",
      "\n",
      "The CD225 Domain of IFITM3 Is Required for both IFITM Protein Association and Inhibition of Influenza A Virus and Dengue Virus Replication\n",
      "\n",
      "Enteric viruses in HIV-related diarrhoea\n",
      "\n",
      "********************************************************\n",
      "\n",
      "What do we know about COVID-19 risk factors?\n",
      "--------------------------------------------------------\n",
      "\n",
      "SARS could still affect the United Kingdom, health secretary warns\n",
      "\n",
      "H5N1 influenza viruses: Facts, not fear\n",
      "\n",
      "Ebolavirus VP24 Binding to Karyopherins Is Required for Inhibition of Interferon Signaling\n",
      "\n",
      "H7N9 and Other Pathogenic Avian Influenza Viruses Elicit a Three-Pronged Transcriptomic Signature That Is Reminiscent of 1918 Influenza Virus and Is Associated with Lethal Outcome in Mice\n",
      "\n",
      "Ganglioside-Linked Terminal Sialic Acid Moieties on Murine Macrophages Function as Attachment Receptors for Murine Noroviruses\n",
      "\n",
      "********************************************************\n",
      "\n",
      "What do we know about virus genetics, origin, and evolution?\n",
      "--------------------------------------------------------\n",
      "\n",
      "A general method for the induction and screening of antisera for cDNA-encoded polypeptides: antibodies specific for a coronavirus putative polymerase-encoding gene\n",
      "\n",
      "EM diagnostic determination of faecal viruses: Comparison of the direct staining method and the ultracentrifugation concentration method\n",
      "\n",
      "Parasitosis (I). Lesiones cardiacas y pulmonares importadas\n",
      "\n",
      "Design of Peptide-Based Nanovaccines Targeting Leading Antigens From Gynecological Cancers to Induce HLA-A2.1 Restricted CD8(+) T Cell Responses\n",
      "\n",
      "The value of China-Africa health development initiatives in strengthening “One Health” strategy\n",
      "\n",
      "********************************************************\n",
      "\n",
      "What do we know about vaccines and therapeutics?\n",
      "--------------------------------------------------------\n",
      "\n",
      "First description of sarcoptic mange in the endangered Iberian lynx (Lynx pardinus): clinical and epidemiological features\n",
      "\n",
      "Chapter 77 Peritonitis\n",
      "\n",
      "Towards the prophylactic and therapeutic use of human neutralizing monoclonal antibodies for Middle East respiratory syndrome coronavirus (MERS-CoV)\n",
      "\n",
      "The Autodisplay Story, from Discovery to Biotechnical and Biomedical Applications\n",
      "\n",
      "APOBEC3G cytidine deaminase association with coronavirus nucleocapsid protein\n",
      "\n"
     ]
    }
   ],
   "source": [
    "for i in range(len(QUERIES)):\n",
    "    print(\"********************************************************\\n\")\n",
    "    print(QUERIES[i])\n",
    "    print(\"--------------------------------------------------------\\n\")\n",
    "    rel = paper_dict[\"query_{}\".format(i)]\n",
    "    for j in range(5):\n",
    "        print(\"{}\\n\".format(rel[j]))"
   ]
  },
  {
   "cell_type": "markdown",
   "metadata": {},
   "source": [
    "## **Find key contributers**\n",
    "\n",
    "Once we have developed a framework for finding relevant paper, there is another important question we want to address: *what is the quality of the content?* \n",
    "\n",
    "To answer this question, we examine the co-authorship network and try to determine the key contributers. Their importance is expressed using two simple measures: *degree centrality* and *eigenvector centrality*.\n",
    "\n",
    "Our roadmap looks as follows:\n",
    "1. name preprocessing\n",
    "2. network creation\n",
    "3. preliminary analysis of connected components\n",
    "4. computing centrality\n",
    "\n",
    "#### **Name preprocessing**\n",
    "\n",
    "Upon examining the author's names, we have noticed several inconsistencies which we wanted to correct before creating the network. Not addressing this issue would result in extra nodes and missing connections between the actual authors. "
   ]
  },
  {
   "cell_type": "code",
   "execution_count": 20,
   "metadata": {},
   "outputs": [],
   "source": [
    "meta_info.loc[28501, \"authors\"] = meta_info.loc[28501, \"authors\"].replace(\"Wei,\", \"Wei\")\n",
    "\n",
    "# upone examination we have seen that some author names\n",
    "# were not separated neither by , nor by ;\n",
    "meta_info.loc[23966, \"authors\"] = meta_info.loc[28501, \"authors\"].replace(\"Hu,\", \"Hu;\")\n",
    "meta_info.loc[23966, \"authors\"] = meta_info.loc[28501, \"authors\"].replace(\"Xin\", \"Xin;\")\n",
    "meta_info.loc[23968, \"authors\"] = meta_info.loc[28501, \"authors\"].replace(\"Lei\", \"Lei;\")\n",
    "meta_info.loc[23968, \"authors\"] = meta_info.loc[28501, \"authors\"].replace(\"Wang\", \"Wang;\")\n",
    "meta_info.loc[31154, \"authors\"] = meta_info.loc[28501, \"authors\"].replace(\"Lee,\", \"Lei;\")\n",
    "meta_info.loc[31154, \"authors\"] = meta_info.loc[28501, \"authors\"].replace(\"Chiew\", \"Chiew;\")\n",
    "\n",
    "\n",
    "meta_info[\"authors\"] = list(map(lambda x: str(x).replace(\"and\", \";\"), meta_info[\"authors\"]))\n",
    "meta_info[\"authors\"] = list(map(lambda x: str(x).replace(\"-\", \" \"), meta_info[\"authors\"]))\n",
    "\n",
    "# delete scientific titles from the names\n",
    "meta_info[\"authors\"] = list(map(lambda x: str(x).replace(\"MPhil\", \";\"), meta_info[\"authors\"]))\n",
    "meta_info[\"authors\"] = list(map(lambda x: str(x).replace(\"PhD\", \";\"), meta_info[\"authors\"]))\n",
    "meta_info[\"authors\"] = list(map(lambda x: str(x).replace(\"M. D.\", \";\"), meta_info[\"authors\"]))\n",
    "\n",
    "# delete all numbers\n",
    "remove_digits = str.maketrans('', '', digits)\n",
    "meta_info[\"authors\"] = list(map(lambda x: x.translate(remove_digits), meta_info[\"authors\"]))\n",
    "meta_info[\"authors\"] = list(map(lambda x: x.title(), meta_info[\"authors\"]))\n",
    "\n",
    "# other smaller inconsistencies which I have noticed during the inspection\n",
    "meta_info[\"authors\"] = list(map(lambda x: str(x).replace(\"'T\", \"T\"), meta_info[\"authors\"]))\n",
    "\n",
    "# some author names were not separated neither by , nor by ;\n",
    "names_to_separate = [ \"A Aziz Aboobaker\", \"Abd Elaal Ahmed\", \"A Franco Manuel\", \"Ali Mohamed\", \"Abayomi Akin\", \"Abba Yusuf\", \"Abbag Lubna F\", \"Abbott Catherine A\",\n",
    "                      \"Aarestrup Frank M\", \"Aaron Shawn D\", \"Abd Alla Adly M M\", \"Abd El Wahed Ahmed\",\n",
    "                      \"Abdel Aziz Hatem\", \"Abdelwhab Elsayed M\", \"Abdullah Rasedee\",\"Abe Shigeto\",\"Abeyratne Ruwantissa\",\n",
    "                      \"Abergel Chantal\",\"Abraham Samuel\",\"Acres S D\",\"Adam Vojtech\",\"Adams David H\",\n",
    "                      \"Adams Timothy E\",\"Ader Florence\",\"Afonso Claudio L\",\"Abdollahi Hamed\",\"Abdul Careem Mohamed Faizal\"]\n",
    "\n",
    "for auth in names_to_separate:\n",
    "    meta_info[\"authors\"] = list(map(lambda x: str(x).replace(auth, \"{}; \".format(auth)), meta_info[\"authors\"]))\n",
    "    \n",
    "# Sometimes co-authors are separated by \";\", sometimes by \",\" - trying to determine when \n",
    "meta_info[\"commas_per_autor_list\"] = list(map(lambda x: len(str(x).split(\",\"))-1, meta_info[\"authors\"]))\n",
    "meta_info[\"authors_per_publication\"] = list(map(lambda x: len(str(x).split(\"; \")), meta_info[\"authors\"]))\n",
    "\n",
    "my_idx = meta_info.query('authors_per_publication == 1 and commas_per_autor_list > 1').index\n",
    "meta_info.loc[my_idx, \"authors\"] = list(map(lambda x: str(x).replace(\",\", \"; \"), meta_info.loc[my_idx, \"authors\"] ))\n",
    "\n",
    "meta_info[\"authors\"] = list(map(lambda x: str(x).replace(\",\", \".\"), meta_info[\"authors\"]))\n",
    "meta_info[\"authors\"] = list(map(lambda x: str(x).replace(\".\", \"\"), meta_info[\"authors\"]))\n",
    "\n",
    "authors = meta_info[\"authors\"].dropna()\n",
    "\n",
    "list_all_authors = \"; \".join( meta_info[\"authors\"].dropna() )\n",
    "list_authors = list_all_authors.split(\"; \") # assume co-authors are separated by a ;\n",
    "list_authors = list(map(lambda x: str(x).strip(), list_authors))\n",
    "\n",
    "list_authors_unique = np.unique(list_authors)\n",
    "list_authors_unique = list(filter(lambda x: len(x) > 2, list_authors_unique ))\n",
    "list_authors_unique = list(filter(lambda x: not ((len(x.replace(\" \", \"\"))==2)&(len(x) == 3)), list_authors_unique ))\n",
    "list_authors_unique = list(filter(lambda x: str(x)[0] != \"@\", list_authors_unique ))"
   ]
  },
  {
   "cell_type": "code",
   "execution_count": 21,
   "metadata": {},
   "outputs": [],
   "source": [
    "author_dict = {}\n",
    "for i, auth in enumerate(list_authors_unique):\n",
    "    author_dict[auth] = i\n",
    "    \n",
    "author_dict_decode = { k:v for v, k in author_dict.items() }"
   ]
  },
  {
   "cell_type": "markdown",
   "metadata": {},
   "source": [
    "#### **Create an authorship network**\n",
    "\n",
    "We represent the connections between authors by an unweighted, where vertices represent authors and an edge indicates the presence of a common paper. \n",
    "\n",
    "During the data exploration it has come to other attention that several papers has an excessivly large set of authors (over 800). These entries corresponded to conference proceedings e.g. *XXIV World Allergy Congress 2015: Seoul, Korea. 14-17 October 2015', 'Guidelines for the use and interpretation of assays for monitoring autophagy (3rd edition)*. Since the information about the direct collaborations is not preserved in the metadata we have decided to exclude them from our analysis.\n",
    "\n",
    "In general, we have decided not too include edges, if the number of contributers to the paper exceeded 100, since the individual contribution of the majority of author is likely to be marginal in this case."
   ]
  },
  {
   "cell_type": "code",
   "execution_count": 22,
   "metadata": {},
   "outputs": [],
   "source": [
    "G=nx.Graph()\n",
    "\n",
    "# add nodes corresponding to authors\n",
    "for key, value in author_dict.items():\n",
    "    G.add_node(author_dict.get(key)) \n",
    "\n",
    "names_not_found = []\n",
    "names_found = []\n",
    "too_many_collaborators = {}\n",
    "\n",
    "for i in meta_info.index:\n",
    "\n",
    "    collaborators = str(meta_info.loc[i, \"authors\"]).split(\"; \")\n",
    "    \n",
    "    # inflates the degree - > proceedings of the conferences\n",
    "    if( len(collaborators) < 100 ):  # 268\n",
    "\n",
    "        for auth1, auth2 in combinations(collaborators, 2):\n",
    "\n",
    "            auth1 = auth1.strip()\n",
    "            auth2 = auth2.strip()\n",
    "\n",
    "            # check the name is in the dictionary:\n",
    "            if (auth1 in author_dict.keys()) and (auth2 in author_dict.keys()):\n",
    "                \n",
    "                v1 = min([author_dict.get(auth1), author_dict.get(auth2)])\n",
    "                v2 = max([author_dict.get(auth1), author_dict.get(auth2)])\n",
    "\n",
    "                # count all collaborations only once\n",
    "                if not G.has_edge(v1, v2):\n",
    "                    G.add_edge(v1, v2)\n",
    "                names_found.append(auth1)\n",
    "                names_found.append(auth2)\n",
    "\n",
    "            elif auth1 not in author_dict.keys():\n",
    "                names_not_found.append(auth1)\n",
    "\n",
    "            elif auth2 not in author_dict.keys():\n",
    "                names_not_found.append(auth2)"
   ]
  },
  {
   "cell_type": "markdown",
   "metadata": {},
   "source": [
    "Our network contains a small portion of nodes with more than 100 connections. This list predominantly consists of chinese authors. This could be attributed to the fact that the english translation of many different chinese names is the same. Consequently the numbers account for the collaborations of several different researchers. We have decided to exclude this suspicious/ambiguous nodes from the subsequent analysis."
   ]
  },
  {
   "cell_type": "code",
   "execution_count": 23,
   "metadata": {},
   "outputs": [],
   "source": [
    "degree_dict_full = { n:d for n, d in G.degree() }\n",
    "normal_activity_nodes = dict(filter(lambda elem: elem[1] <= 100, degree_dict_full.items()))\n",
    "G1 = G.subgraph(list(normal_activity_nodes.keys()))"
   ]
  },
  {
   "cell_type": "markdown",
   "metadata": {},
   "source": [
    "The resulting authorship network is disconnected. Furhtermore, there are 12588 authors that always contribute individually in the current version of the database.\n",
    "\n",
    "We focus our attention on the largest connected component, that links together 110742 our of 174047 scientists"
   ]
  },
  {
   "cell_type": "code",
   "execution_count": 24,
   "metadata": {},
   "outputs": [
    {
     "name": "stdout",
     "output_type": "stream",
     "text": [
      "Number of connected components: 21127\n",
      "Size of the largest component: 105321\n",
      "12083 components  had just one element\n"
     ]
    }
   ],
   "source": [
    "components = connected_components(G1)\n",
    "num_comp = number_connected_components(G1)\n",
    "print( \"Number of connected components: {}\".format(num_comp) )\n",
    "\n",
    "# filter the list of components, work only with componets with more than 1 element\n",
    "component_list = list(filter(lambda x: len(x) > 1, components ))\n",
    "\n",
    "component_sizes = [len(x) for x in component_list]\n",
    "largest_component = component_list[np.argmax(component_sizes)]\n",
    "print(\"Size of the largest component: {}\\n{} components  had just one element\".format(len(largest_component), num_comp-len(component_list)))"
   ]
  },
  {
   "cell_type": "code",
   "execution_count": 25,
   "metadata": {},
   "outputs": [],
   "source": [
    "G1_component = G1.subgraph(list(largest_component))\n",
    "degree_dict = { n:d for n, d in G1_component.degree() }\n",
    "assert len(degree_dict) == len(largest_component)"
   ]
  },
  {
   "cell_type": "markdown",
   "metadata": {},
   "source": [
    "#### **Centrality measures**\n",
    "\n",
    "For every node in the largest connected component we evaluate two characteristics: **degree centrality** and **eigenvalue centrality**"
   ]
  },
  {
   "cell_type": "code",
   "execution_count": 26,
   "metadata": {},
   "outputs": [],
   "source": [
    "centrality_degree = degree_centrality(G1_component)\n",
    "centrality_eigenvector = eigenvector_centrality(G1_component)\n",
    "\n",
    "assert len(centrality_degree.keys()) == len(centrality_eigenvector.keys()), \"length mismatch\"\n",
    "assert len(set(centrality_degree.keys()).difference(set(centrality_eigenvector.keys()))) == 0"
   ]
  },
  {
   "cell_type": "code",
   "execution_count": 27,
   "metadata": {},
   "outputs": [],
   "source": [
    "author_centrality_pd = pd.DataFrame({\"author\": [author_dict_decode.get(x) for x in centrality_degree.keys()] })\n",
    "author_centrality_pd[\"degree_centrality\"] = centrality_degree.values()\n",
    "author_centrality_pd[\"eigenvector_centrality\"] = centrality_eigenvector.values()"
   ]
  },
  {
   "cell_type": "markdown",
   "metadata": {},
   "source": [
    "Nodes with the highest **degree centrality** have the largest number of co-authors in the subgraph. Below we list 10 authors with the largest set of diverse collaborations according to our dataset"
   ]
  },
  {
   "cell_type": "code",
   "execution_count": 28,
   "metadata": {},
   "outputs": [
    {
     "name": "stdout",
     "output_type": "stream",
     "text": [
      "*** 10 most actively collaborating authors ***\n",
      "\n",
      "Cauchemez S\n",
      "Tapparel Caroline\n",
      "Yang Jyh Yuan\n",
      "Kao Chuan Liang\n",
      "Falsey Ann R\n",
      "Elia Gabriella\n",
      "Madhi Shabir A\n",
      "Ping Liu\n",
      "Lavazza Antonio\n",
      "Liu Ping\n"
     ]
    }
   ],
   "source": [
    "author_centrality_pd = author_centrality_pd.sort_values(by=\"degree_centrality\", ascending=False, na_position='first')\n",
    "#author_centrality_pd[[\"author\", \"degree_centrality\"]].head(10)\n",
    "\n",
    "print(\"*** 10 most actively collaborating authors ***\\n\")\n",
    "for auth in author_centrality_pd[[\"author\"]].head(10).values:\n",
    "    print(auth[0])"
   ]
  },
  {
   "cell_type": "markdown",
   "metadata": {},
   "source": [
    "**Eigenvalue centrality** shifts the emphasis from the number of connections to the 'quality' / 'importance' of the neighbors. Higher values are associated with nodes that collaborate with a lot of 'important' (w.r.t degree centrality) nodes. "
   ]
  },
  {
   "cell_type": "code",
   "execution_count": 29,
   "metadata": {},
   "outputs": [
    {
     "name": "stdout",
     "output_type": "stream",
     "text": [
      "*** 10 authors with the highest eigenvalue centrality ***\n",
      "\n",
      "Cauchemez S\n",
      "Kraemer M U G\n",
      "Fonseca V\n",
      "Giovanetti M\n",
      "De Oliveira T\n",
      "Pybus O G\n",
      "Funk S\n",
      "Faria N R\n",
      "De Albuquerque C F C\n",
      "Komninakis S C V\n"
     ]
    }
   ],
   "source": [
    "author_centrality_pd = author_centrality_pd.sort_values(by=\"eigenvector_centrality\", ascending=False, na_position='first')\n",
    "\n",
    "print(\"*** 10 authors with the highest eigenvalue centrality ***\\n\")\n",
    "for auth in author_centrality_pd[[\"author\"]].head(10).values:\n",
    "    print(auth[0])"
   ]
  },
  {
   "cell_type": "markdown",
   "metadata": {},
   "source": [
    "## Detecting unexplored areas and reasearch directions.\n",
    "We want to show what are the pursued areas of research and also what are the new research directions of published papers."
   ]
  },
  {
   "cell_type": "markdown",
   "metadata": {},
   "source": [
    "First we wanted to find possible clusters in the latent space using T-SNE or UMAP\n",
    "\n",
    "`vectors = np.array([np.array(vec) for vec in with_doc2vec_2[\"doc_vec\"]])`  \n",
    "\n",
    "`standard_embedding = umap.UMAP(n_neighbors= 25,min_dist = 1.,random_state=42).fit_transform(vectors)`  \n",
    "\n",
    "`sns.scatterplot(standard_embedding[:,0], standard_embedding[:, 1])\n",
    "plt.title(\"UMAP visualisation\")\n",
    "plt.show()`\n",
    "\n",
    "It detected non-english papers when fitted on the whole corpus: ![alt text](../images/covid_umap.png \"umap\")However, when trained on english papers only, UMAP with different hyperparameter settings did not reveal any sensible potential clustered latent structure.  \n",
    "\n",
    "*We include the image of the results as the exact result might depend on GPU randomness*"
   ]
  },
  {
   "cell_type": "markdown",
   "metadata": {},
   "source": [
    "### LDA model"
   ]
  },
  {
   "cell_type": "markdown",
   "metadata": {},
   "source": [
    "Using the LDA model we can discover various directions of research by analysing the found topics."
   ]
  },
  {
   "cell_type": "code",
   "execution_count": 30,
   "metadata": {},
   "outputs": [],
   "source": [
    "not_stemming_pipeline = Pipeline([\n",
    "        (\"select_textual_features\", Selector(\"text\")),\n",
    "        (\"to_lower_case\", LowerCaseTransformer()),\n",
    "        (\"tokenize\", Tokenizer()),\n",
    "        (\"filter_stop_words\", StopWordsFilter()),\n",
    "        (\"remove_short_words\", ShortWordRemover(4)),\n",
    "    ])\n",
    "\n",
    "def perform_lda(X, pipeline=not_stemming_pipeline, num_topics=5):\n",
    "    transformed_text = pipeline.fit_transform(X).values\n",
    "    dictionary_LDA = corpora.Dictionary(transformed_text)\n",
    "    corpus = [dictionary_LDA.doc2bow(document) for document in transformed_text]\n",
    "    lda_model = models.LdaModel(corpus, num_topics=num_topics, \\\n",
    "                            id2word=dictionary_LDA, \\\n",
    "                            passes=4, alpha=[0.1]*num_topics, \\\n",
    "                            eta=[0.01]*len(dictionary_LDA.keys()))\n",
    "  \n",
    "    return lda_model, corpus, dictionary_LDA"
   ]
  },
  {
   "cell_type": "code",
   "execution_count": 31,
   "metadata": {},
   "outputs": [],
   "source": [
    "lda_model, corpus, dictionary_LDA = perform_lda(complete_df.sample(frac=0.01, random_state=42))"
   ]
  },
  {
   "cell_type": "markdown",
   "metadata": {},
   "source": [
    "### Demonstration"
   ]
  },
  {
   "cell_type": "code",
   "execution_count": 32,
   "metadata": {},
   "outputs": [
    {
     "data": {
      "text/html": [
       "\n",
       "<link rel=\"stylesheet\" type=\"text/css\" href=\"https://cdn.rawgit.com/bmabey/pyLDAvis/files/ldavis.v1.0.0.css\">\n",
       "\n",
       "\n",
       "<div id=\"ldavis_el242771396682503319841859246244\"></div>\n",
       "<script type=\"text/javascript\">\n",
       "\n",
       "var ldavis_el242771396682503319841859246244_data = {\"mdsDat\": {\"x\": [0.043284919592211535, -0.10027133927871439, 0.0318439296923939, 0.08757225163658496, -0.062429761642475996], \"y\": [-0.07590061756148894, 0.002075461815195142, -0.026407410290102778, 0.07061153484238232, 0.02962103119401423], \"topics\": [1, 2, 3, 4, 5], \"cluster\": [1, 1, 1, 1, 1], \"Freq\": [25.107410430908203, 23.507055282592773, 18.849172592163086, 17.463293075561523, 15.07307243347168]}, \"tinfo\": {\"Term\": [\"cells\", \"health\", \"patients\", \"protein\", \"public\", \"cell\", \"china\", \"expression\", \"influenza\", \"preprint\", \"ferret\", \"proteins\", \"research\", \"replication\", \"countries\", \"vaccine\", \"activity\", \"disease\", \"activation\", \"ptx3\", \"pandemic\", \"vaccines\", \"risk\", \"ferrets\", \"binding\", \"respiratory\", \"membrane\", \"clinical\", \"sequence\", \"gp120\", \"corneum\", \"ridts\", \"hscrp\", \"stratum\", \"octyldodecyl\", \"transcutaneous\", \"ceramide\", \"//doi.org/10.1101/774224\", \"raman\", \"bpco\", \"glycerin\", \"toxoid-specific\", \"guano\", \"waruhiu\", \"eslide\", \"head-to-head\", \"caps\", \"gangnam\", \"rftb\", \"ridt\", \"herald\", \"mg/dl\", \"phic\", \"winthrop-university\", \"chine\", \"radiogra\", \"heifers\", \"allergiques\", \"anti-tt\", \"xrays\", \"schizophrenia\", \"nano-silver\", \"mastitis\", \"urtd\", \"low-fidelity\", \"fhv-1\", \"megaterium\", \"abomasal\", \"diarrhoeic\", \"hoof\", \"epizootiology\", \"ruminants\", \"rumen\", \"warts\", \"caprine\", \"edim\", \"bloat\", \"disc1\", \"g64s\", \"goats\", \"filmarray\", \"bronchiolitis\", \"ecthyma\", \"bulls\", \"cattle\", \"corneal\", \"sheep\", \"ewes\", \"kids\", \"ginseng\", \"edema\", \"copper\", \"organism\", \"herds\", \"fidelity\", \"herd\", \"lesions\", \"lambs\", \"asthma\", \"autopsy\", \"hpai\", \"organisms\", \"breeds\", \"keratitis\", \"diarrhoea\", \"signs\", \"animals\", \"diagnosis\", \"clinical\", \"specimens\", \"feed\", \"disease\", \"ducks\", \"calves\", \"include\", \"respiratory\", \"silico\", \"virus\", \"infection\", \"infections\", \"pneumonia\", \"viruses\", \"also\", \"infectious\", \"treatment\", \"bacterial\", \"viral\", \"acute\", \"associated\", \"study\", \"time\", \"cases\", \"influenza\", \"transmission\", \"used\", \"infected\", \"days\", \"common\", \"results\", \"within\", \"cells\", \"patients\", \"data\", \"cell\", \"human\", \"using\", \"studies\", \"however\", \"trex1\", \"mefs\", \"raf1\", \"mopv\", \"pk15\", \"rad5n\", \"avaren\", \"r114h/r114h\", \"gp120-binding\", \"avfc\", \"gap-repair\", \"tax1bp1\", \"sting-tbk1-irf3-irf7\", \"lymphogenesis\", \"gp120-capture\", \"vsv-pegfp\", \"gfp-lc3\", \"ity9/ity9\", \"chartreux\", \"ppc86\", \"rad5m\", \"ah109\", \"benthamiana\", \"rad5z\", \"copies/reaction\", \"recognises\", \"lasv-infected\", \"trex1-deficient\", \"tfeb\", \"lectibody\", \"stfr\", \"gp120\", \"s100a9\", \"npro\", \"pcv2\", \"eri3\", \"modc\", \"chip\", \"rn2-2\", \"emtricitabine\", \"dc-sign\", \"clrs\", \"usp18\", \"pk-15\", \"dectin\", \"cip1/waf1\", \"ndp52\", \"vanadium\", \"denv-2\", \"ifit1\", \"migcat\", \"autophagy\", \"signalling\", \"-strand\", \"5'-triphosphate\", \"dc838\", \"apoptosis\", \"sting\", \"iltv\", \"hiv-1\", \"cypa\", \"activation\", \"cells\", \"fusion\", \"nacl\", \"inhibition\", \"cell\", \"activity\", \"membrane\", \"expression\", \"compounds\", \"protein\", \"binding\", \"replication\", \"mice\", \"viral\", \"using\", \"genes\", \"assay\", \"virus\", \"proteins\", \"shown\", \"infection\", \"also\", \"used\", \"infected\", \"cellular\", \"gene\", \"showed\", \"figure\", \"control\", \"results\", \"data\", \"different\", \"analysis\", \"human\", \"study\", \"viruses\", \"cc-by-nc\", \"dohmh\", \"hev/hrv\", \"//doi.org/10.1101/2020.02.27.20027557\", \"gyeongsangbuk-do\", \"//doi.org/10.1101/2020.03.30.20048264\", \"kurdistan\", \"niacin\", \"12/42\", \"erbil\", \"fibrilar\", \"3-wk-old\", \"olive\", \"hcov-19\", \"uids\", \"urti\", \"jim6nez\", \"diterpenes\", \"rosemary\", \"mmwr\", \"treshold\", \"low-risk\", \"trop2\", \"complacency\", \"6-day\", \"glycemic\", \"cake\", \"anti-coccidioidal\", \"monounsaturated\", \"smbr\", \"ozone\", \"5-ht\", \"//doi.org/10.1101/213579\", \"ifn-c\", \"coccidioidal\", \"cocaine\", \"sub-lineage\", \"s~inchez\", \"cholangiocyte\", \"perpetuity.is\", \"cc-by-nc-nd\", \"licorice\", \"dsss\", \"in\\u00afammatory\", \"pc22a\", \"il-27\", \"advax\", \"ecmo\", \"fcov\", \"p160\", \"chamomile\", \"advax-adjuvanted\", \"license\", \"photocatalyst\", \"pcv-2\", \"kv/m\", \"uenza\", \"lbsap\", \"medrxiv\", \"p110\", \"p120\", \"preprint\", \"author/funder\", \"griffithsin\", \"sftsv\", \"papn\", \"granted\", \"pedv\", \"patients\", \"vaccines\", \"holder\", \"copyright\", \"peer-reviewed\", \"adjuvants\", \"vaccine\", \"infl\", \"adjuvant\", \"vaccination\", \"vaccinated\", \"https\", \"study\", \"group\", \"pigs\", \"respiratory\", \"fever\", \"groups\", \"studies\", \"disease\", \"cases\", \"children\", \"immune\", \"infection\", \"virus\", \"number\", \"used\", \"samples\", \"reported\", \"however\", \"data\", \"also\", \"influenza\", \"using\", \"days\", \"viral\", \"severe\", \"results\", \"cells\", \"protein\", \"clinical\", \"infections\", \"analysis\", \"human\", \"subgenus\", \"system-wide\", \"cepi\", \"durc\", \"apsed\", \"sarbecovirus\", \"none-bats\", \"//www.who.int/emergencies/diseases/novel-coronavirus-2019/situation-reports/\", \"hadv-b14p1\", \"hosts.subsequent\", \"bat-sl-covzc45\", \"applaud\", \"bj430\", \"prison\", \"hadv-55\", \"mg772933\", \"sars-cov-tor2\", \"sanctions\", \"cov-zc45\", \"hadv-b14\", \"operationalized\", \"mcis\", \"nsabb\", \"detention\", \"rumours\", \"transparently\", \"hajj-associated\", \"bsat\", \"safeguards\", \"inter-mediate\", \"a/h5n1\", \"competencies\", \"hexon\", \"gain-of-function\", \"dhhs\", \"burnout\", \"303600\", \"pilgrims\", \"forum\", \"risk-benefit\", \"curriculum\", \"chn2012\", \"hajj\", \"bat-origin\", \"casualty\", \"nextgen\", \"ibcs\", \"chanteraines\", \"oldest-old\", \"bioaerosols\", \"shorebirds\", \"sarscov\", \"disability\", \"dfle\", \"a/h1n1\", \"articles\", \"title\", \"policy\", \"sustainability\", \"sanitary\", \"preparedness\", \"health\", \"public\", \"nursing\", \"author\", \"institutions\", \"education\", \"regulations\", \"noninvasive\", \"china\", \"community\", \"communication\", \"national\", \"quarantine\", \"surveillance\", \"research\", \"government\", \"malaria\", \"nurses\", \"countries\", \"chinese\", \"pandemic\", \"global\", \"international\", \"influenza\", \"information\", \"people\", \"staff\", \"care\", \"risk\", \"population\", \"data\", \"system\", \"years\", \"among\", \"measures\", \"diseases\", \"study\", \"disease\", \"studies\", \"also\", \"including\", \"would\", \"virus\", \"using\", \"viruses\", \"different\", \"analysis\", \"number\", \"first\", \"used\", \"infection\", \"human\", \"cases\", \"viral\", \"web-server\", \"4\\u00d710\", \"mol\\u00b7l\", \"trim\", \"ectrim13\", \"5metylisoxale-3-carboxylic\", \"tripeptide\", \"trim13\", \"grouper\", \"multi-scanning\", \"trim11\", \"pegfp-ectrim13-dr\", \"mdo1\", \"serum-starve\", \"centrifugated\", \"mg\\u00b7ml\", \"adpr-1\\u2033p\", \"adpribose\", \"trim13s\", \"sgiv\", \"pegfp-n3\", \"24-63\", \"actiniform\", \"trims\", \"sec14\", \"mdo2\", \"rgnnv\", \"us11-eyfp\", \"adp-ribose\", \"iridovirus\", \"macro\", \"miro1\", \"us11\", \"rvfv\", \"gdap2\", \"guhmgr\", \"ns5a-p6\", \"syncrip\", \"cavv\", \"lncrnas\", \"boldest\", \"importin\", \"cyclin\", \"-eyfp\", \"ptx3\", \"spiders\", \"vlps\", \"boldness\", \"luteolin\", \"amino-acid\", \"ferret\", \"dhori\", \"officinalis\", \"preferences\", \"ferrets\", \"expcm\", \"intubation\", \"emcv\", \"islet\", \"bold\", \"tourism\", \"canyon\", \"poly\", \"behavior\", \"colonies\", \"protein\", \"codon\", \"sars-cov\", \"sequence\", \"proteins\", \"cells\", \"domain\", \"transfection\", \"replication\", \"virus\", \"using\", \"also\", \"expression\", \"viral\", \"used\", \"data\", \"sequences\", \"infection\", \"cell\", \"shown\", \"site\", \"amino\", \"different\", \"results\", \"studies\", \"however\", \"viruses\", \"found\", \"study\", \"human\", \"levels\", \"activity\", \"patients\", \"control\", \"gene\"], \"Freq\": [5183.0, 1576.0, 2087.0, 2312.0, 622.0, 2419.0, 811.0, 1493.0, 1756.0, 368.0, 284.0, 1469.0, 873.0, 1011.0, 665.0, 1005.0, 1280.0, 2641.0, 614.0, 185.0, 522.0, 603.0, 859.0, 224.0, 810.0, 1471.0, 821.0, 1555.0, 968.0, 230.0, 24.876325607299805, 12.78975772857666, 10.946976661682129, 21.83784294128418, 6.385429382324219, 6.373129367828369, 3.645256996154785, 5.439528465270996, 7.255456447601318, 4.543195724487305, 6.352250576019287, 2.7271339893341064, 9.046780586242676, 3.6212480068206787, 6.33084774017334, 2.7264931201934814, 8.135032653808594, 1.816457986831665, 6.320097923278809, 2.720104217529297, 6.322984218597412, 17.13410758972168, 2.7129006385803223, 11.725007057189941, 2.716569662094116, 2.712033987045288, 17.100969314575195, 2.714712142944336, 4.513570785522461, 2.7100515365600586, 49.28126525878906, 57.143768310546875, 59.4195556640625, 17.125484466552734, 23.247806549072266, 25.133892059326172, 15.238625526428223, 21.46563148498535, 24.948259353637695, 16.973371505737305, 13.428200721740723, 129.61329650878906, 44.84294128417969, 23.13074493408203, 25.668691635131836, 25.668283462524414, 24.763919830322266, 18.681781768798828, 36.772884368896484, 187.87332153320312, 56.598121643066406, 93.83613586425781, 19.50074577331543, 19.496843338012695, 299.433837890625, 122.14769744873047, 229.79808044433594, 68.20462799072266, 44.92380142211914, 34.86064147949219, 87.63818359375, 52.04539489746094, 171.38714599609375, 91.23915100097656, 102.93933868408203, 161.12059020996094, 237.52410888671875, 80.24468994140625, 198.67828369140625, 58.51484298706055, 56.8527717590332, 220.4082794189453, 58.1326789855957, 51.48649597167969, 54.23802185058594, 368.4087829589844, 697.2777099609375, 407.9749450683594, 814.8214721679688, 203.135986328125, 107.19302368164062, 1143.745361328125, 144.2798614501953, 200.31190490722656, 366.05157470703125, 627.8751831054688, 108.54936218261719, 1390.5111083984375, 1211.8333740234375, 547.6966552734375, 260.9434814453125, 696.5128784179688, 1030.9990234375, 437.960693359375, 455.4490661621094, 308.6001892089844, 806.13037109375, 337.4442138671875, 435.1235046386719, 674.9561157226562, 460.42523193359375, 450.113525390625, 511.069580078125, 351.4268493652344, 615.7040405273438, 457.2908630371094, 375.32366943359375, 312.4923400878906, 423.6037902832031, 360.469970703125, 566.58642578125, 425.6744079589844, 425.46575927734375, 425.8681945800781, 391.6708679199219, 411.4247741699219, 386.8850402832031, 378.3182373046875, 198.68824768066406, 20.567548751831055, 40.94490432739258, 106.10298156738281, 24.48505210876465, 30.631216049194336, 34.66178894042969, 17.342681884765625, 7.1480393409729, 129.265380859375, 9.166216850280762, 23.393518447875977, 5.105879306793213, 10.172197341918945, 5.099162578582764, 8.152983665466309, 19.299636840820312, 8.145811080932617, 9.158612251281738, 4.076772212982178, 18.284799575805664, 4.075023651123047, 9.162446975708008, 13.199868202209473, 10.162426948547363, 4.079354286193848, 6.103032112121582, 7.119048118591309, 33.47163391113281, 14.209338188171387, 99.11902618408203, 213.64585876464844, 105.56610107421875, 61.63369369506836, 154.74195861816406, 131.38262939453125, 86.4565658569336, 52.40792465209961, 49.39897155761719, 179.06260681152344, 151.31790161132812, 57.38146209716797, 130.51443481445312, 69.17100524902344, 68.22777557373047, 30.310518264770508, 23.304067611694336, 174.97544860839844, 145.01487731933594, 33.28696823120117, 46.86563491821289, 172.21005249023438, 155.1336669921875, 45.7153434753418, 54.24295425415039, 38.10292053222656, 225.10214233398438, 118.2679672241211, 61.40381622314453, 229.75552368164062, 96.44967651367188, 440.8905029296875, 2978.89013671875, 298.23712158203125, 141.50408935546875, 361.36346435546875, 1214.182861328125, 678.6279907226562, 468.9855651855469, 741.9923706054688, 272.8572692871094, 899.157958984375, 412.56011962890625, 478.2254638671875, 519.6388549804688, 962.927001953125, 880.3538818359375, 413.60150146484375, 408.3241882324219, 1036.9127197265625, 542.3988647460938, 526.9296264648438, 915.4951782226562, 859.7496337890625, 690.646728515625, 515.176513671875, 308.4448547363281, 469.97509765625, 400.9700012207031, 386.6581726074219, 463.48052978515625, 473.4659423828125, 498.5895080566406, 432.7689514160156, 413.6724853515625, 423.4110107421875, 439.9932861328125, 411.0089111328125, 7.554625034332275, 17.789806365966797, 11.22536563873291, 9.320859909057617, 3.744877338409424, 5.593818187713623, 7.433441162109375, 8.361030578613281, 2.793743133544922, 6.489596843719482, 3.709761381149292, 14.770294189453125, 75.50804138183594, 3.7007546424865723, 1.8562464714050293, 51.597869873046875, 3.697720766067505, 3.700763463973999, 24.815343856811523, 1.852421522140503, 4.614206790924072, 7.3536152839660645, 30.333091735839844, 1.8390426635742188, 4.616612434387207, 3.6890597343444824, 7.356728553771973, 3.6819629669189453, 8.27133560180664, 17.429553985595703, 80.97715759277344, 39.97821044921875, 17.414926528930664, 34.408294677734375, 11.000112533569336, 56.64344787597656, 25.46023178100586, 10.0820951461792, 9.18644905090332, 30.822586059570312, 59.30189895629883, 16.34130096435547, 39.331111907958984, 16.353076934814453, 44.40088653564453, 51.17829132080078, 79.04638671875, 89.65702056884766, 123.49732971191406, 36.41481018066406, 25.888324737548828, 46.5428581237793, 160.81651306152344, 31.98189353942871, 30.22409439086914, 37.82476806640625, 118.13314819335938, 36.07838821411133, 121.90583038330078, 30.157066345214844, 35.92836380004883, 284.6420593261719, 117.88121795654297, 86.8335952758789, 50.4425163269043, 54.99111557006836, 75.04283142089844, 107.12422943115234, 1037.9320068359375, 355.607421875, 114.21403503417969, 116.00819396972656, 104.22924041748047, 77.0130386352539, 501.2804870605469, 149.48507690429688, 106.86510467529297, 289.0885314941406, 140.57093811035156, 104.50688934326172, 798.6088256835938, 412.3807373046875, 162.72283935546875, 449.6839599609375, 237.6979217529297, 274.2875061035156, 476.7762145996094, 586.3460083007812, 380.2801818847656, 261.0882263183594, 335.01165771484375, 668.1852416992188, 737.06689453125, 383.6099548339844, 547.1494140625, 335.77276611328125, 354.5762023925781, 409.85809326171875, 479.9143981933594, 560.386474609375, 393.00042724609375, 474.13818359375, 306.06494140625, 458.9764099121094, 260.3175354003906, 348.99761962890625, 532.9125366210938, 381.8894348144531, 334.3346862792969, 309.6080322265625, 315.9514465332031, 321.4569396972656, 2.1395370960235596, 3.1785495281219482, 3.1628918647766113, 89.11177062988281, 4.168550968170166, 1.0555908679962158, 1.054624319076538, 1.0537272691726685, 14.468871116638184, 1.0526615381240845, 1.052697777748108, 1.050317645072937, 16.49517059326172, 14.442742347717285, 46.3828125, 1.0476610660552979, 1.0472214221954346, 4.135013103485107, 1.0466992855072021, 23.62501335144043, 2.077730894088745, 26.695730209350586, 20.563343048095703, 4.137321472167969, 4.136023998260498, 3.107400894165039, 4.129705429077148, 38.989749908447266, 4.127103805541992, 1.0433791875839233, 47.98689651489258, 51.893280029296875, 21.51921844482422, 22.43731117248535, 16.384601593017578, 64.43244171142578, 13.3228178024292, 76.21951293945312, 48.47392272949219, 13.296757698059082, 19.3269100189209, 13.283455848693848, 73.11997985839844, 9.218274116516113, 13.239845275878906, 25.205488204956055, 9.211433410644531, 26.246810913085938, 40.74628448486328, 34.87865447998047, 29.990251541137695, 49.51106262207031, 75.20790100097656, 36.69647979736328, 22.07598876953125, 168.74952697753906, 22.819717407226562, 117.5041275024414, 46.27261734008789, 36.8441047668457, 72.72225952148438, 986.1298217773438, 420.71038818359375, 99.69451141357422, 113.50665283203125, 94.2273941040039, 91.51573944091797, 83.56825256347656, 56.22787094116211, 462.70587158203125, 204.6724395751953, 114.61061096191406, 232.18264770507812, 98.99669647216797, 221.54490661621094, 446.36590576171875, 99.73287200927734, 117.11210632324219, 100.7403793334961, 319.67938232421875, 177.2664794921875, 258.99798583984375, 177.5047149658203, 214.23983764648438, 596.92138671875, 304.2547302246094, 215.78257751464844, 126.01639556884766, 259.88275146484375, 317.3008117675781, 282.6352233886719, 533.0515747070312, 336.2096862792969, 279.9902648925781, 294.4678955078125, 175.94813537597656, 294.9599609375, 484.2086181640625, 474.769775390625, 388.5908203125, 504.2380065917969, 293.3845520019531, 246.3168182373047, 490.42730712890625, 399.6615905761719, 350.34051513671875, 318.65069580078125, 310.3786315917969, 302.8387756347656, 298.70843505859375, 341.5879211425781, 361.53265380859375, 290.4762268066406, 277.9130859375, 281.392822265625, 1.8333755731582642, 24.18468475341797, 8.92967414855957, 11.570165634155273, 60.345069885253906, 0.9056566953659058, 0.9055609703063965, 14.178746223449707, 20.301105499267578, 2.6677894592285156, 3.5372228622436523, 4.413171291351318, 42.09113311767578, 1.778568148612976, 1.7750964164733887, 1.7727957963943481, 23.60993194580078, 5.263904094696045, 2.644977569580078, 6.137956619262695, 4.384946823120117, 10.494071006774902, 1.766255259513855, 2.6371688842773438, 4.374265193939209, 18.28629493713379, 13.07229232788086, 10.46362590789795, 96.48422241210938, 2.6311497688293457, 103.58235168457031, 45.844730377197266, 128.34173583984375, 104.52996826171875, 25.13756561279297, 38.83173370361328, 13.918865203857422, 80.08436584472656, 46.200042724609375, 82.35883331298828, 34.986114501953125, 18.961181640625, 140.0162811279297, 27.309101104736328, 164.0638885498047, 17.976224899291992, 71.74915313720703, 27.11514663696289, 29.501779556274414, 86.28277587890625, 227.7487030029297, 26.049333572387695, 22.067956924438477, 91.54866027832031, 172.83396911621094, 42.946746826171875, 81.22533416748047, 28.84585189819336, 34.487178802490234, 40.869850158691406, 101.90969848632812, 74.60284423828125, 116.09247589111328, 136.55381774902344, 109.27764892578125, 653.7757568359375, 79.4876480102539, 203.8544921875, 332.015380859375, 425.727783203125, 962.3577880859375, 162.0130157470703, 111.0619125366211, 286.4319152832031, 655.5684814453125, 471.10858154296875, 540.022705078125, 330.4526672363281, 477.3915710449219, 436.2577819824219, 400.95343017578125, 225.6784210205078, 469.3927001953125, 372.27557373046875, 270.8787841796875, 162.8596954345703, 168.1500701904297, 279.5112609863281, 278.78662109375, 278.9547119140625, 268.8356628417969, 267.26715087890625, 237.90255737304688, 289.5603942871094, 247.01502990722656, 213.7635955810547, 216.38992309570312, 232.02755737304688, 219.11962890625, 211.40321350097656], \"Total\": [5183.0, 1576.0, 2087.0, 2312.0, 622.0, 2419.0, 811.0, 1493.0, 1756.0, 368.0, 284.0, 1469.0, 873.0, 1011.0, 665.0, 1005.0, 1280.0, 2641.0, 614.0, 185.0, 522.0, 603.0, 859.0, 224.0, 810.0, 1471.0, 821.0, 1555.0, 968.0, 230.0, 26.02943229675293, 13.503946304321289, 11.565555572509766, 23.124813079833984, 6.763348579406738, 6.758718013763428, 3.8692994117736816, 5.7876458168029785, 7.722050189971924, 4.83711576461792, 6.764156818389893, 2.906036853790283, 9.642491340637207, 3.8624961376190186, 6.758786201477051, 2.911226987838745, 8.687332153320312, 1.939780831336975, 6.749467372894287, 2.906787157058716, 6.760296821594238, 18.32246971130371, 2.9024431705474854, 12.544727325439453, 2.90682053565979, 2.9039578437805176, 18.312829971313477, 2.9076855182647705, 4.834718227386475, 2.9033753871917725, 52.988155364990234, 61.597354888916016, 64.58549499511719, 18.389102935791016, 25.058685302734375, 27.11847686767578, 16.37582778930664, 23.15325355529785, 27.04046630859375, 18.330629348754883, 14.469562530517578, 143.82342529296875, 49.18010711669922, 25.084196090698242, 27.967924118041992, 27.981142044067383, 26.996700286865234, 20.26396369934082, 40.46598434448242, 215.41465759277344, 62.934043884277344, 107.1230239868164, 21.21654510498047, 21.212295532226562, 356.1568603515625, 141.31863403320312, 273.2054138183594, 77.2237548828125, 50.17556381225586, 38.704063415527344, 101.22236633300781, 59.07961654663086, 208.67681884765625, 107.41661834716797, 122.3487319946289, 198.96080017089844, 302.2374267578125, 94.67449951171875, 252.4014434814453, 67.8785171508789, 65.9637222290039, 288.6326599121094, 67.92211151123047, 59.59832763671875, 63.1720085144043, 540.70556640625, 1132.0244140625, 658.7957153320312, 1555.987548828125, 298.8851318359375, 140.9464111328125, 2641.102783203125, 206.9176788330078, 310.37872314453125, 656.9102783203125, 1471.011474609375, 147.89393615722656, 4310.486328125, 3626.439453125, 1334.90771484375, 491.5557861328125, 1962.0625, 3495.39599609375, 1064.0198974609375, 1166.06640625, 661.586181640625, 2986.818115234375, 770.838623046875, 1228.421142578125, 2687.327392578125, 1364.9842529296875, 1311.275146484375, 1756.6397705078125, 872.3005981445312, 2631.345947265625, 1562.732177734375, 1130.7550048828125, 726.1428833007812, 1731.7664794921875, 1152.580078125, 5183.81884765625, 2087.259765625, 2337.974609375, 2419.40576171875, 1674.030029296875, 2636.68701171875, 1862.802978515625, 1691.2999267578125, 209.73785400390625, 21.739906311035156, 43.451725006103516, 112.72811889648438, 26.0238094329834, 32.564945220947266, 36.90758514404297, 18.470600128173828, 7.6183905601501465, 137.78573608398438, 9.773995399475098, 24.948928833007812, 5.446712017059326, 10.851344108581543, 5.443392276763916, 8.705253601074219, 20.60812759399414, 8.701157569885254, 9.783347129821777, 4.35559606552124, 19.53755760192871, 4.354220390319824, 9.791378021240234, 14.108335494995117, 10.863632202148438, 4.361528396606445, 6.525373458862305, 7.612735748291016, 35.81121063232422, 15.202752113342285, 106.093994140625, 230.87533569335938, 113.5981216430664, 66.01566314697266, 167.8538360595703, 142.32196044921875, 93.26068878173828, 56.34455490112305, 53.08842086791992, 194.9600067138672, 164.506103515625, 61.78554916381836, 141.79100036621094, 74.6687240600586, 73.68672180175781, 32.50813674926758, 24.934894561767578, 192.57431030273438, 159.5894317626953, 35.79133224487305, 50.80650329589844, 192.82138061523438, 173.640625, 49.713233947753906, 59.510276794433594, 41.19786834716797, 263.912353515625, 136.60276794433594, 69.19573974609375, 292.3143310546875, 113.56265258789062, 614.75830078125, 5183.81884765625, 432.21380615234375, 181.8612060546875, 560.427734375, 2419.40576171875, 1280.307861328125, 821.3638916015625, 1493.683349609375, 453.291015625, 2312.92431640625, 810.270263671875, 1011.3328857421875, 1177.271728515625, 2986.818115234375, 2636.68701171875, 873.4435424804688, 861.70654296875, 4310.486328125, 1469.7843017578125, 1409.372314453125, 3626.439453125, 3495.39599609375, 2631.345947265625, 1562.732177734375, 599.5635986328125, 1424.7615966796875, 1034.39794921875, 988.2642211914062, 1586.092529296875, 1731.7664794921875, 2337.974609375, 1604.124755859375, 1495.6541748046875, 1674.030029296875, 2687.327392578125, 1962.0625, 7.854976177215576, 18.58199691772461, 11.768622398376465, 9.799981117248535, 3.9406259059906006, 5.898952007293701, 7.851166248321533, 8.839916229248047, 2.9578983783721924, 6.8779497146606445, 3.93467116355896, 15.688782691955566, 80.23485565185547, 3.9344191551208496, 1.9735044240951538, 54.8696174621582, 3.9324183464050293, 3.936396837234497, 26.4177303314209, 1.9732741117477417, 4.917569160461426, 7.840867042541504, 32.343017578125, 1.9612362384796143, 4.923922061920166, 3.9353115558624268, 7.849154472351074, 3.928563117980957, 8.825841903686523, 18.61191177368164, 87.20232391357422, 43.02370071411133, 18.610261917114258, 37.184871673583984, 11.753181457519531, 61.587890625, 27.470380783081055, 10.77708911895752, 9.818065643310547, 33.367462158203125, 64.63446807861328, 17.6021728515625, 43.2093620300293, 17.650959014892578, 48.96443557739258, 56.84025192260742, 89.09889221191406, 101.51432800292969, 141.34336853027344, 40.1573486328125, 28.335010528564453, 51.91035461425781, 189.2714385986328, 35.291648864746094, 33.27396774291992, 42.11861801147461, 138.7599639892578, 40.204193115234375, 146.848388671875, 33.3040657043457, 40.16236877441406, 368.9217529296875, 143.8391571044922, 104.59626770019531, 58.035423278808594, 64.1530532836914, 92.09672546386719, 139.559326171875, 2087.259765625, 603.355712890625, 157.4883575439453, 162.0069122314453, 143.07565307617188, 99.78691101074219, 1005.8031005859375, 230.07972717285156, 152.44371032714844, 581.26611328125, 225.3614044189453, 155.16221618652344, 2687.327392578125, 1214.2642822265625, 309.3271179199219, 1471.011474609375, 561.06591796875, 753.9144897460938, 1862.802978515625, 2641.102783203125, 1311.275146484375, 696.6033325195312, 1075.781494140625, 3626.439453125, 4310.486328125, 1389.0718994140625, 2631.345947265625, 1133.6640625, 1256.265869140625, 1691.2999267578125, 2337.974609375, 3495.39599609375, 1756.6397705078125, 2636.68701171875, 1130.7550048828125, 2986.818115234375, 822.910400390625, 1731.7664794921875, 5183.81884765625, 2312.92431640625, 1555.987548828125, 1334.90771484375, 1495.6541748046875, 1674.030029296875, 2.239764928817749, 3.3404946327209473, 3.3396973609924316, 94.77741241455078, 4.440657615661621, 1.1245810985565186, 1.1243761777877808, 1.1237802505493164, 15.439440727233887, 1.1236462593078613, 1.123894214630127, 1.1222625970840454, 17.63133430480957, 15.459506034851074, 49.65011978149414, 1.1215213537216187, 1.121595025062561, 4.429768085479736, 1.121326208114624, 25.310863494873047, 2.2260007858276367, 28.60688591003418, 22.035587310791016, 4.4336137771606445, 4.4327778816223145, 3.333246946334839, 4.430117130279541, 41.84117889404297, 4.429948806762695, 1.1201428174972534, 51.687862396240234, 56.065284729003906, 23.163707733154297, 24.21476173400879, 17.62718963623047, 70.3028564453125, 14.317718505859375, 83.3828125, 52.804473876953125, 14.317514419555664, 20.893741607666016, 14.30958366394043, 80.17143249511719, 9.915459632873535, 14.303922653198242, 27.433374404907227, 9.926262855529785, 28.59153938293457, 44.9563102722168, 38.39776611328125, 32.931556701660156, 54.96767807006836, 84.25850677490234, 40.57682800292969, 24.145376205444336, 196.80120849609375, 25.306550979614258, 147.81932067871094, 54.38871765136719, 42.51754379272461, 89.76275634765625, 1576.7314453125, 622.584716796875, 128.8817596435547, 149.10845947265625, 121.23455047607422, 118.49539184570312, 108.69076538085938, 69.2066879272461, 811.2285766601562, 315.98675537109375, 160.31385803222656, 375.4440612792969, 136.6271209716797, 366.4177551269531, 873.7401733398438, 139.5644989013672, 174.65591430664062, 143.8474884033203, 665.6895141601562, 304.8150634765625, 522.368408203125, 315.2031555175781, 411.0257263183594, 1756.6397705078125, 687.5547485351562, 434.90069580078125, 198.4901580810547, 617.9451904296875, 859.2265625, 753.4296264648438, 2337.974609375, 1100.8760986328125, 809.5728149414062, 893.5164794921875, 364.6777648925781, 937.1781005859375, 2687.327392578125, 2641.102783203125, 1862.802978515625, 3495.39599609375, 1144.00927734375, 805.7578735351562, 4310.486328125, 2636.68701171875, 1962.0625, 1604.124755859375, 1495.6541748046875, 1389.0718994140625, 1336.26611328125, 2631.345947265625, 3626.439453125, 1674.030029296875, 1311.275146484375, 2986.818115234375, 1.8748115301132202, 25.027318954467773, 9.295621871948242, 12.066924095153809, 63.003231048583984, 0.9470915198326111, 0.9469959139823914, 14.854231834411621, 21.335512161254883, 2.8091657161712646, 3.7358179092407227, 4.660961627960205, 44.49109649658203, 1.8799872398376465, 1.880448341369629, 1.880520224571228, 25.047962188720703, 5.587396621704102, 2.8078904151916504, 6.519234657287598, 4.663093090057373, 11.162449836730957, 1.880112648010254, 2.809891700744629, 4.661154747009277, 19.498722076416016, 13.94216537475586, 11.165437698364258, 102.95679473876953, 2.8090765476226807, 112.23516845703125, 49.26778030395508, 139.51463317871094, 113.40365600585938, 26.911273956298828, 41.86308670043945, 14.892635345458984, 87.33213806152344, 50.26547622680664, 90.25022888183594, 38.0677375793457, 20.473928451538086, 157.7078857421875, 29.779834747314453, 185.98089599609375, 19.50359344482422, 80.08033752441406, 29.72812271118164, 32.56984329223633, 101.65252685546875, 284.05633544921875, 28.85007667541504, 24.20488166809082, 112.44300842285156, 224.83132934570312, 49.73354721069336, 99.45191955566406, 32.6236457824707, 40.25807189941406, 49.5870361328125, 151.70755004882812, 108.15270233154297, 200.69985961914062, 252.4967803955078, 188.51699829101562, 2312.92431640625, 127.81593322753906, 485.6246032714844, 968.58984375, 1469.7843017578125, 5183.81884765625, 388.16943359375, 218.05320739746094, 1011.3328857421875, 4310.486328125, 2636.68701171875, 3495.39599609375, 1493.683349609375, 2986.818115234375, 2631.345947265625, 2337.974609375, 779.1688842773438, 3626.439453125, 2419.40576171875, 1409.372314453125, 436.3692626953125, 470.51580810546875, 1604.124755859375, 1731.7664794921875, 1862.802978515625, 1691.2999267578125, 1962.0625, 1414.15478515625, 2687.327392578125, 1674.030029296875, 1063.5023193359375, 1280.307861328125, 2087.259765625, 1586.092529296875, 1424.7615966796875], \"Category\": [\"Default\", \"Default\", \"Default\", \"Default\", \"Default\", \"Default\", \"Default\", \"Default\", \"Default\", \"Default\", \"Default\", \"Default\", \"Default\", \"Default\", \"Default\", \"Default\", \"Default\", \"Default\", \"Default\", \"Default\", \"Default\", \"Default\", \"Default\", \"Default\", \"Default\", \"Default\", \"Default\", \"Default\", \"Default\", \"Default\", \"Topic1\", \"Topic1\", \"Topic1\", \"Topic1\", \"Topic1\", \"Topic1\", \"Topic1\", \"Topic1\", \"Topic1\", \"Topic1\", \"Topic1\", \"Topic1\", \"Topic1\", \"Topic1\", \"Topic1\", \"Topic1\", \"Topic1\", \"Topic1\", \"Topic1\", \"Topic1\", \"Topic1\", \"Topic1\", \"Topic1\", \"Topic1\", \"Topic1\", \"Topic1\", \"Topic1\", \"Topic1\", \"Topic1\", \"Topic1\", \"Topic1\", \"Topic1\", \"Topic1\", \"Topic1\", \"Topic1\", \"Topic1\", \"Topic1\", \"Topic1\", \"Topic1\", \"Topic1\", \"Topic1\", \"Topic1\", \"Topic1\", \"Topic1\", \"Topic1\", \"Topic1\", \"Topic1\", \"Topic1\", \"Topic1\", \"Topic1\", \"Topic1\", \"Topic1\", \"Topic1\", \"Topic1\", \"Topic1\", \"Topic1\", \"Topic1\", \"Topic1\", \"Topic1\", \"Topic1\", \"Topic1\", \"Topic1\", \"Topic1\", \"Topic1\", \"Topic1\", \"Topic1\", \"Topic1\", \"Topic1\", \"Topic1\", \"Topic1\", \"Topic1\", \"Topic1\", \"Topic1\", \"Topic1\", \"Topic1\", \"Topic1\", \"Topic1\", \"Topic1\", \"Topic1\", \"Topic1\", \"Topic1\", \"Topic1\", \"Topic1\", \"Topic1\", \"Topic1\", \"Topic1\", \"Topic1\", \"Topic1\", \"Topic1\", \"Topic1\", \"Topic1\", \"Topic1\", \"Topic1\", \"Topic1\", \"Topic1\", \"Topic1\", \"Topic1\", \"Topic1\", \"Topic1\", \"Topic1\", \"Topic1\", \"Topic1\", \"Topic1\", \"Topic1\", \"Topic1\", \"Topic1\", \"Topic1\", \"Topic1\", \"Topic1\", \"Topic1\", \"Topic1\", \"Topic1\", \"Topic1\", \"Topic1\", \"Topic1\", \"Topic1\", \"Topic1\", \"Topic1\", \"Topic2\", \"Topic2\", \"Topic2\", \"Topic2\", \"Topic2\", \"Topic2\", \"Topic2\", \"Topic2\", \"Topic2\", \"Topic2\", \"Topic2\", \"Topic2\", \"Topic2\", \"Topic2\", \"Topic2\", \"Topic2\", \"Topic2\", \"Topic2\", \"Topic2\", \"Topic2\", \"Topic2\", \"Topic2\", \"Topic2\", \"Topic2\", \"Topic2\", \"Topic2\", \"Topic2\", \"Topic2\", \"Topic2\", \"Topic2\", \"Topic2\", \"Topic2\", \"Topic2\", \"Topic2\", \"Topic2\", \"Topic2\", \"Topic2\", \"Topic2\", \"Topic2\", \"Topic2\", \"Topic2\", \"Topic2\", \"Topic2\", \"Topic2\", \"Topic2\", \"Topic2\", \"Topic2\", \"Topic2\", \"Topic2\", \"Topic2\", \"Topic2\", \"Topic2\", \"Topic2\", \"Topic2\", \"Topic2\", \"Topic2\", \"Topic2\", \"Topic2\", \"Topic2\", \"Topic2\", \"Topic2\", \"Topic2\", \"Topic2\", \"Topic2\", \"Topic2\", \"Topic2\", \"Topic2\", \"Topic2\", \"Topic2\", \"Topic2\", \"Topic2\", \"Topic2\", \"Topic2\", \"Topic2\", \"Topic2\", \"Topic2\", \"Topic2\", \"Topic2\", \"Topic2\", \"Topic2\", \"Topic2\", \"Topic2\", \"Topic2\", \"Topic2\", \"Topic2\", \"Topic2\", \"Topic2\", \"Topic2\", \"Topic2\", \"Topic2\", \"Topic2\", \"Topic2\", \"Topic2\", \"Topic2\", \"Topic2\", \"Topic2\", \"Topic2\", \"Topic2\", \"Topic3\", \"Topic3\", \"Topic3\", \"Topic3\", \"Topic3\", \"Topic3\", \"Topic3\", \"Topic3\", \"Topic3\", \"Topic3\", \"Topic3\", \"Topic3\", \"Topic3\", \"Topic3\", \"Topic3\", \"Topic3\", \"Topic3\", \"Topic3\", \"Topic3\", \"Topic3\", \"Topic3\", \"Topic3\", \"Topic3\", \"Topic3\", \"Topic3\", \"Topic3\", \"Topic3\", \"Topic3\", \"Topic3\", \"Topic3\", \"Topic3\", \"Topic3\", \"Topic3\", \"Topic3\", \"Topic3\", \"Topic3\", \"Topic3\", \"Topic3\", \"Topic3\", \"Topic3\", \"Topic3\", \"Topic3\", \"Topic3\", \"Topic3\", \"Topic3\", \"Topic3\", \"Topic3\", \"Topic3\", \"Topic3\", \"Topic3\", \"Topic3\", \"Topic3\", \"Topic3\", \"Topic3\", \"Topic3\", \"Topic3\", \"Topic3\", \"Topic3\", \"Topic3\", \"Topic3\", \"Topic3\", \"Topic3\", \"Topic3\", \"Topic3\", \"Topic3\", \"Topic3\", \"Topic3\", \"Topic3\", \"Topic3\", \"Topic3\", \"Topic3\", \"Topic3\", \"Topic3\", \"Topic3\", \"Topic3\", \"Topic3\", \"Topic3\", \"Topic3\", \"Topic3\", \"Topic3\", \"Topic3\", \"Topic3\", \"Topic3\", \"Topic3\", \"Topic3\", \"Topic3\", \"Topic3\", \"Topic3\", \"Topic3\", \"Topic3\", \"Topic3\", \"Topic3\", \"Topic3\", \"Topic3\", \"Topic3\", \"Topic3\", \"Topic3\", \"Topic3\", \"Topic3\", \"Topic3\", \"Topic3\", \"Topic3\", \"Topic3\", \"Topic3\", \"Topic3\", \"Topic3\", \"Topic3\", \"Topic3\", \"Topic3\", \"Topic3\", \"Topic3\", \"Topic3\", \"Topic4\", \"Topic4\", \"Topic4\", \"Topic4\", \"Topic4\", \"Topic4\", \"Topic4\", \"Topic4\", \"Topic4\", \"Topic4\", \"Topic4\", \"Topic4\", \"Topic4\", \"Topic4\", \"Topic4\", \"Topic4\", \"Topic4\", \"Topic4\", \"Topic4\", \"Topic4\", \"Topic4\", \"Topic4\", \"Topic4\", \"Topic4\", \"Topic4\", \"Topic4\", \"Topic4\", \"Topic4\", \"Topic4\", \"Topic4\", \"Topic4\", \"Topic4\", \"Topic4\", \"Topic4\", \"Topic4\", \"Topic4\", \"Topic4\", \"Topic4\", \"Topic4\", \"Topic4\", \"Topic4\", \"Topic4\", \"Topic4\", \"Topic4\", \"Topic4\", \"Topic4\", \"Topic4\", \"Topic4\", \"Topic4\", \"Topic4\", \"Topic4\", \"Topic4\", \"Topic4\", \"Topic4\", \"Topic4\", \"Topic4\", \"Topic4\", \"Topic4\", \"Topic4\", \"Topic4\", \"Topic4\", \"Topic4\", \"Topic4\", \"Topic4\", \"Topic4\", \"Topic4\", \"Topic4\", \"Topic4\", \"Topic4\", \"Topic4\", \"Topic4\", \"Topic4\", \"Topic4\", \"Topic4\", \"Topic4\", \"Topic4\", \"Topic4\", \"Topic4\", \"Topic4\", \"Topic4\", \"Topic4\", \"Topic4\", \"Topic4\", \"Topic4\", \"Topic4\", \"Topic4\", \"Topic4\", \"Topic4\", \"Topic4\", \"Topic4\", \"Topic4\", \"Topic4\", \"Topic4\", \"Topic4\", \"Topic4\", \"Topic4\", \"Topic4\", \"Topic4\", \"Topic4\", \"Topic4\", \"Topic4\", \"Topic4\", \"Topic4\", \"Topic4\", \"Topic4\", \"Topic4\", \"Topic4\", \"Topic4\", \"Topic4\", \"Topic4\", \"Topic4\", \"Topic4\", \"Topic4\", \"Topic4\", \"Topic4\", \"Topic5\", \"Topic5\", \"Topic5\", \"Topic5\", \"Topic5\", \"Topic5\", \"Topic5\", \"Topic5\", \"Topic5\", \"Topic5\", \"Topic5\", \"Topic5\", \"Topic5\", \"Topic5\", \"Topic5\", \"Topic5\", \"Topic5\", \"Topic5\", \"Topic5\", \"Topic5\", \"Topic5\", \"Topic5\", \"Topic5\", \"Topic5\", \"Topic5\", \"Topic5\", \"Topic5\", \"Topic5\", \"Topic5\", \"Topic5\", \"Topic5\", \"Topic5\", \"Topic5\", \"Topic5\", \"Topic5\", \"Topic5\", \"Topic5\", \"Topic5\", \"Topic5\", \"Topic5\", \"Topic5\", \"Topic5\", \"Topic5\", \"Topic5\", \"Topic5\", \"Topic5\", \"Topic5\", \"Topic5\", \"Topic5\", \"Topic5\", \"Topic5\", \"Topic5\", \"Topic5\", \"Topic5\", \"Topic5\", \"Topic5\", \"Topic5\", \"Topic5\", \"Topic5\", \"Topic5\", \"Topic5\", \"Topic5\", \"Topic5\", \"Topic5\", \"Topic5\", \"Topic5\", \"Topic5\", \"Topic5\", \"Topic5\", \"Topic5\", \"Topic5\", \"Topic5\", \"Topic5\", \"Topic5\", \"Topic5\", \"Topic5\", \"Topic5\", \"Topic5\", \"Topic5\", \"Topic5\", \"Topic5\", \"Topic5\", \"Topic5\", \"Topic5\", \"Topic5\", \"Topic5\", \"Topic5\", \"Topic5\", \"Topic5\", \"Topic5\", \"Topic5\", \"Topic5\", \"Topic5\", \"Topic5\", \"Topic5\", \"Topic5\", \"Topic5\", \"Topic5\", \"Topic5\", \"Topic5\"], \"logprob\": [30.0, 29.0, 28.0, 27.0, 26.0, 25.0, 24.0, 23.0, 22.0, 21.0, 20.0, 19.0, 18.0, 17.0, 16.0, 15.0, 14.0, 13.0, 12.0, 11.0, 10.0, 9.0, 8.0, 7.0, 6.0, 5.0, 4.0, 3.0, 2.0, 1.0, -9.029199600219727, -9.694499969482422, -9.850099563598633, -9.159500122070312, -10.389100074768066, -10.390999794006348, -10.949700355529785, -10.549400329589844, -10.26140022277832, -10.729499816894531, -10.39430046081543, -11.239899635314941, -10.04069995880127, -10.956299781799316, -10.397700309753418, -11.240099906921387, -10.146900177001953, -11.646200180053711, -10.399399757385254, -11.242400169372559, -10.398900032043457, -9.402000427246094, -11.245100021362305, -9.781399726867676, -11.243800163269043, -11.245400428771973, -9.404000282287598, -11.244400024414062, -10.736000061035156, -11.246199607849121, -8.345600128173828, -8.197600364685059, -8.158499717712402, -9.402600288391113, -9.09689998626709, -9.018899917602539, -9.51930046081543, -9.1766996383667, -9.026300430297852, -9.411499977111816, -9.64579963684082, -7.378600120544434, -8.4399995803833, -9.10200023651123, -8.99779987335205, -8.997900009155273, -9.033699989318848, -9.315600395202637, -8.638400077819824, -7.007400035858154, -8.207099914550781, -7.701600074768066, -9.272700309753418, -9.272899627685547, -6.541200160980225, -7.437900066375732, -6.8059000968933105, -8.020600318908691, -8.438199996948242, -8.691800117492676, -7.769899845123291, -8.291000366210938, -7.0991997718811035, -7.729599952697754, -7.609000205993652, -7.160999774932861, -6.772900104522705, -7.857999801635742, -6.951399803161621, -8.173800468444824, -8.202699661254883, -6.847599983215332, -8.180399894714355, -8.301799774169922, -8.249699592590332, -6.333899974822998, -5.695899963378906, -6.231900215148926, -5.540200233459473, -6.929200172424316, -7.56850004196167, -5.201099872589111, -7.271399974822998, -6.94320011138916, -6.3403000831604, -5.80079984664917, -7.5559000968933105, -5.00570011138916, -5.143199920654297, -5.937399864196777, -6.678800106048584, -5.697000026702881, -5.304800033569336, -6.160999774932861, -6.121799945831299, -6.511099815368652, -5.550899982452393, -6.4217000007629395, -6.167500019073486, -5.728499889373779, -6.111000061035156, -6.133600234985352, -6.0065999031066895, -6.381100177764893, -5.820400238037109, -6.117800235748291, -6.315299987792969, -6.498499870300293, -6.194300174713135, -6.3557000160217285, -5.903500080108643, -6.1894001960754395, -6.189899921417236, -6.189000129699707, -6.27269983291626, -6.223499774932861, -6.284999847412109, -6.307400226593018, -6.885499954223633, -9.153499603271484, -8.46500015258789, -7.512800216674805, -8.97920036315918, -8.755200386047363, -8.631600379943848, -9.32409954071045, -10.210399627685547, -7.315400123596191, -9.961700439453125, -9.024800300598145, -10.546899795532227, -9.857600212097168, -10.548199653625488, -10.078900337219238, -9.21720027923584, -10.07979965209961, -9.962599754333496, -10.772000312805176, -9.271200180053711, -10.77239990234375, -9.9621000289917, -9.597100257873535, -9.858599662780762, -10.771300315856934, -10.368499755859375, -10.214500427246094, -8.666600227355957, -9.52340030670166, -7.580900192260742, -6.812900066375732, -7.517899990081787, -8.055999755859375, -7.135499954223633, -7.299099922180176, -7.717599868774414, -8.218199729919434, -8.277299880981445, -6.989500045776367, -7.157899856567383, -8.1274995803833, -7.305799961090088, -7.940700054168701, -7.954400062561035, -8.765800476074219, -9.028599739074707, -7.012599945068359, -7.200399875640869, -8.672100067138672, -8.329999923706055, -7.028500080108643, -7.132999897003174, -8.3548002243042, -8.183799743652344, -8.536999702453613, -6.760700225830078, -7.404300212860107, -8.059800148010254, -6.740200042724609, -7.6082000732421875, -6.088500022888184, -4.177999973297119, -6.479400157928467, -7.224899768829346, -6.287399768829346, -5.075399875640869, -5.657199859619141, -6.026700019836426, -5.56790018081665, -6.568299770355225, -5.375800132751465, -6.154900074005127, -6.007199764251709, -5.924099922180176, -5.307300090789795, -5.396900177001953, -6.152400016784668, -6.165200233459473, -5.23330020904541, -5.88129997253418, -5.910200119018555, -5.357800006866455, -5.420599937438965, -5.639599800109863, -5.932700157165527, -6.445700168609619, -6.024600028991699, -6.1834001541137695, -6.219699859619141, -6.03849983215332, -6.017199993133545, -5.9654998779296875, -6.107100009918213, -6.152200222015381, -6.128900051116943, -6.0904998779296875, -6.158599853515625, -9.934300422668457, -9.077799797058105, -9.538200378417969, -9.724200248718262, -10.63599967956543, -10.234800338745117, -9.950400352478027, -9.832799911499023, -10.928999900817871, -10.086199760437012, -10.645500183105469, -9.263799667358398, -7.632199764251709, -10.647899627685547, -11.337900161743164, -8.012900352478027, -10.648699760437012, -10.647899627685547, -8.744999885559082, -11.339900016784668, -10.427300453186035, -9.961199760437012, -8.54419994354248, -11.347200393676758, -10.426799774169922, -10.651100158691406, -9.960800170898438, -10.652999877929688, -9.843600273132324, -9.098299980163574, -7.562300205230713, -8.268099784851074, -9.099100112915039, -8.418100357055664, -9.558500289916992, -7.919600009918213, -8.719300270080566, -9.645700454711914, -9.738699913024902, -8.528200149536133, -7.873799800872803, -9.162699699401855, -8.28439998626709, -9.161999702453613, -8.163200378417969, -8.021100044250488, -7.586400032043457, -7.460400104522705, -7.140200138092041, -8.361499786376953, -8.70259952545166, -8.116100311279297, -6.876200199127197, -8.491299629211426, -8.547800064086914, -8.32349967956543, -7.184599876403809, -8.370699882507324, -7.153200149536133, -8.550000190734863, -8.374899864196777, -6.305200099945068, -7.186699867248535, -7.492400169372559, -8.035599708557129, -7.9492998123168945, -7.638400077819824, -7.282400131225586, -5.01140022277832, -6.082600116729736, -7.218400001525879, -7.2027997970581055, -7.309800148010254, -7.612500190734863, -5.739299774169922, -6.94920015335083, -7.284900188446045, -6.289700031280518, -7.010700225830078, -7.307199954986572, -5.273600101470947, -5.934500217437744, -6.8643999099731445, -5.847899913787842, -6.485400199890137, -6.342199802398682, -5.789400100708008, -5.582499980926514, -6.015500068664551, -6.391600131988525, -6.142300128936768, -5.451900005340576, -5.353700160980225, -6.006800174713135, -5.651700019836426, -6.139999866485596, -6.0854997634887695, -5.9405999183654785, -5.782800197601318, -5.627799987792969, -5.982600212097168, -5.794899940490723, -6.232600212097168, -5.827400207519531, -6.394499778747559, -6.101399898529053, -5.678100109100342, -6.011300086975098, -6.1442999839782715, -6.221099853515625, -6.200799942016602, -6.183599948883057, -11.119500160217285, -10.723600387573242, -10.728599548339844, -7.390200138092041, -10.452500343322754, -11.826000213623047, -11.826899528503418, -11.827699661254883, -9.208100318908691, -11.828700065612793, -11.828700065612793, -11.831000328063965, -9.07699966430664, -9.20989990234375, -8.043100357055664, -11.833499908447266, -11.833900451660156, -10.460599899291992, -11.834400177001953, -8.71780014038086, -11.148799896240234, -8.595600128173828, -8.856499671936035, -10.460000038146973, -10.46030044555664, -10.746299743652344, -10.461899757385254, -8.21679973602295, -10.462499618530273, -11.837599754333496, -8.009099960327148, -7.9309000968933105, -8.811100006103516, -8.76930046081543, -9.083700180053711, -7.714399814605713, -9.290599822998047, -7.54640007019043, -7.999000072479248, -9.292499542236328, -8.918600082397461, -9.293499946594238, -7.5879998207092285, -9.658900260925293, -9.296799659729004, -8.652999877929688, -9.659600257873535, -8.612500190734863, -8.172699928283691, -8.328200340270996, -8.47920036315918, -7.97790002822876, -7.559800148010254, -8.277400016784668, -8.785599708557129, -6.7515997886657715, -8.752400398254395, -7.11359977722168, -8.045499801635742, -8.27340030670166, -7.593400001525879, -4.986299991607666, -5.838099956512451, -7.277900218963623, -7.148200035095215, -7.3343000411987305, -7.363500118255615, -7.454400062561035, -7.850599765777588, -5.743000030517578, -6.558599948883057, -7.138500213623047, -6.432499885559082, -7.284999847412109, -6.479400157928467, -5.778900146484375, -7.277599811553955, -7.1168999671936035, -7.267499923706055, -6.11269998550415, -6.702400207519531, -6.323200225830078, -6.701099872589111, -6.513000011444092, -5.48829984664917, -6.162199974060059, -6.505799770355225, -7.043600082397461, -6.319799900054932, -6.120200157165527, -6.235899925231934, -5.601399898529053, -6.062300205230713, -6.245299816131592, -6.194900035858154, -6.70989990234375, -6.19320011138916, -5.697500228881836, -5.717199802398682, -5.917500019073486, -5.6570000648498535, -6.198599815368652, -6.3734002113342285, -5.684800148010254, -5.889400005340576, -6.021200180053711, -6.116000175476074, -6.142300128936768, -6.166900157928467, -6.180600166320801, -6.046500205993652, -5.989699840545654, -6.208499908447266, -6.252799987792969, -6.240300178527832, -11.126700401306152, -8.547100067138672, -9.543499946594238, -9.28439998626709, -7.632800102233887, -11.831999778747559, -11.832099914550781, -9.081100463867188, -8.722200393676758, -10.75160026550293, -10.469499588012695, -10.248299598693848, -7.993000030517578, -11.157099723815918, -11.159000396728516, -11.160300254821777, -8.571200370788574, -10.071999549865723, -10.760199546813965, -9.918399810791016, -10.25469970703125, -9.382100105285645, -11.163999557495117, -10.763199806213379, -10.257100105285645, -8.826700210571289, -9.162400245666504, -9.385000228881836, -7.16349983215332, -10.765399932861328, -7.09250020980835, -7.907599925994873, -6.878200054168701, -7.083399772644043, -8.508500099182129, -8.073599815368652, -9.099599838256836, -7.349800109863281, -7.899899959564209, -7.321800231933594, -8.177900314331055, -8.790499687194824, -6.791100025177002, -8.425600051879883, -6.632599830627441, -8.843799591064453, -7.459700107574463, -8.43280029296875, -8.348400115966797, -7.275199890136719, -6.304599761962891, -8.472900390625, -8.638699531555176, -7.216000080108643, -6.58050012588501, -7.972899913787842, -7.335599899291992, -8.37090015411377, -8.192299842834473, -8.022500038146973, -7.108799934387207, -7.4207000732421875, -6.978499889373779, -6.816100120544434, -7.039000034332275, -5.250100135803223, -7.3572998046875, -6.415500164031982, -5.927700042724609, -5.679100036621094, -4.863500118255615, -6.645199775695801, -7.022799968719482, -6.075399875640869, -5.247399806976318, -5.5777997970581055, -5.441299915313721, -5.932400226593018, -5.564499855041504, -5.654600143432617, -5.738999843597412, -6.313799858093262, -5.581399917602539, -5.813199996948242, -6.131199836730957, -6.639999866485596, -6.607999801635742, -6.099800109863281, -6.102399826049805, -6.101799964904785, -6.138800144195557, -6.144599914550781, -6.261000156402588, -6.064499855041504, -6.223400115966797, -6.368000030517578, -6.355800151824951, -6.285999774932861, -6.343200206756592, -6.3790998458862305], \"loglift\": [30.0, 29.0, 28.0, 27.0, 26.0, 25.0, 24.0, 23.0, 22.0, 21.0, 20.0, 19.0, 18.0, 17.0, 16.0, 15.0, 14.0, 13.0, 12.0, 11.0, 10.0, 9.0, 8.0, 7.0, 6.0, 5.0, 4.0, 3.0, 2.0, 1.0, 1.3366999626159668, 1.3277000188827515, 1.3270000219345093, 1.3246999979019165, 1.3244999647140503, 1.3233000040054321, 1.3223999738693237, 1.3200000524520874, 1.319700002670288, 1.3193000555038452, 1.319200038909912, 1.31850004196167, 1.3181999921798706, 1.3174999952316284, 1.31659996509552, 1.3164000511169434, 1.3163000345230103, 1.3163000345230103, 1.3163000345230103, 1.315600037574768, 1.3150999546051025, 1.315000057220459, 1.3144999742507935, 1.3143999576568604, 1.3142999410629272, 1.313599944114685, 1.3135000467300415, 1.3133000135421753, 1.3133000135421753, 1.313099980354309, 1.309499979019165, 1.3070000410079956, 1.2985999584197998, 1.3107999563217163, 1.3070000410079956, 1.305999994277954, 1.309999942779541, 1.3063000440597534, 1.3014999628067017, 1.3050999641418457, 1.3072999715805054, 1.277999997138977, 1.2897000312805176, 1.3008999824523926, 1.2962000370025635, 1.295699954032898, 1.295699954032898, 1.3006999492645264, 1.2862999439239502, 1.2452000379562378, 1.2759000062942505, 1.2496000528335571, 1.297700047492981, 1.297700047492981, 1.2085000276565552, 1.236199975013733, 1.2089999914169312, 1.2577999830245972, 1.271399974822998, 1.277400016784668, 1.2379000186920166, 1.2552000284194946, 1.1850999593734741, 1.2187999486923218, 1.2093000411987305, 1.1711000204086304, 1.1411000490188599, 1.216599941253662, 1.142699956893921, 1.2336000204086304, 1.2333999872207642, 1.1123000383377075, 1.2264000177383423, 1.235700011253357, 1.2295000553131104, 0.9983000159263611, 0.8974000215530396, 0.9028000235557556, 0.7350999712944031, 0.9958000183105469, 1.108299970626831, 0.5450999736785889, 1.021399974822998, 0.944100022315979, 0.7972000241279602, 0.5306000113487244, 1.072700023651123, 0.25060001015663147, 0.2858999967575073, 0.491100013256073, 0.7487000226974487, 0.34630000591278076, 0.16110000014305115, 0.4943000078201294, 0.44190001487731934, 0.6194000244140625, 0.0723000019788742, 0.555899977684021, 0.3441999852657318, 0.00039999998989515007, 0.2953000068664551, 0.31279999017715454, 0.14740000665187836, 0.47290000319480896, -0.07050000131130219, 0.15309999883174896, 0.2791999876499176, 0.5388000011444092, -0.026100000366568565, 0.21969999372959137, -0.8317000269889832, -0.2079000025987625, -0.32179999351501465, -0.35510000586509705, -0.0706000030040741, -0.475600004196167, -0.18970000743865967, -0.11550000309944153, 1.3937000036239624, 1.3924000263214111, 1.3883999586105347, 1.3873000144958496, 1.3868999481201172, 1.3867000341415405, 1.38510000705719, 1.3848999738693237, 1.3840999603271484, 1.3839999437332153, 1.3837000131607056, 1.3834999799728394, 1.3832999467849731, 1.3832000494003296, 1.3825000524520874, 1.3823000192642212, 1.3823000192642212, 1.3818999528884888, 1.3818999528884888, 1.381700038909912, 1.381600022315979, 1.381600022315979, 1.381500005722046, 1.3812999725341797, 1.381100058555603, 1.38100004196167, 1.38100004196167, 1.3808000087738037, 1.3803000450134277, 1.3803000450134277, 1.3798999786376953, 1.370300054550171, 1.374500036239624, 1.3791999816894531, 1.3665000200271606, 1.367900013923645, 1.3720999956130981, 1.3753999471664429, 1.3758000135421753, 1.3628000020980835, 1.364300012588501, 1.373900055885315, 1.3650000095367432, 1.371399998664856, 1.37090003490448, 1.3779000043869019, 1.3802000284194946, 1.3519999980926514, 1.3521000146865845, 1.3753000497817993, 1.3671000003814697, 1.3348000049591064, 1.3351999521255493, 1.3639999628067017, 1.3552000522613525, 1.3697999715805054, 1.2888000011444092, 1.3036999702453613, 1.3284000158309937, 1.2071000337600708, 1.284500002861023, 1.115399956703186, 0.8938999772071838, 1.076799988746643, 1.1970000267028809, 1.0090999603271484, 0.758400022983551, 0.8130999803543091, 0.887499988079071, 0.748199999332428, 0.9402999877929688, 0.5030999779701233, 0.7728999853134155, 0.6988999843597412, 0.6299999952316284, 0.3158999979496002, 0.35089999437332153, 0.7002999782562256, 0.7009999752044678, 0.023099999874830246, 0.45100000500679016, 0.46399998664855957, 0.07129999995231628, 0.04529999941587448, 0.11020000278949738, 0.33820000290870667, 0.7832000255584717, 0.33880001306533813, 0.5001999735832214, 0.5095000267028809, 0.2176000028848648, 0.15109999477863312, -0.09740000218153, 0.13770000636577606, 0.16259999573230743, 0.07320000231266022, -0.36169999837875366, -0.1152999997138977, 1.629699945449829, 1.625100016593933, 1.621399998664856, 1.6186000108718872, 1.617799997329712, 1.6155999898910522, 1.6139999628067017, 1.6130000352859497, 1.6116000413894653, 1.6105999946594238, 1.6097999811172485, 1.6083999872207642, 1.6080000400543213, 1.6074999570846558, 1.6073999404907227, 1.607200026512146, 1.607200026512146, 1.6069999933242798, 1.6060999631881714, 1.6054999828338623, 1.6050000190734863, 1.6045000553131104, 1.6045000553131104, 1.6044000387191772, 1.6043000221252441, 1.604099988937378, 1.6038999557495117, 1.6038999557495117, 1.6038000583648682, 1.6030999422073364, 1.594599962234497, 1.5952999591827393, 1.6023000478744507, 1.5910999774932861, 1.6024999618530273, 1.5850000381469727, 1.5927000045776367, 1.6019999980926514, 1.6022000312805176, 1.589400053024292, 1.5825999975204468, 1.5944000482559204, 1.5746999979019165, 1.5923000574111938, 1.5708999633789062, 1.5637999773025513, 1.5490000247955322, 1.5444999933242798, 1.5336999893188477, 1.5708999633789062, 1.5784000158309937, 1.5595999956130981, 1.5058000087738037, 1.570199966430664, 1.57260000705719, 1.5612000226974487, 1.5077999830245972, 1.5604000091552734, 1.4824999570846558, 1.5693999528884888, 1.5572999715805054, 1.4092999696731567, 1.4696999788284302, 1.4825999736785889, 1.528499960899353, 1.5146000385284424, 1.4638999700546265, 1.4041999578475952, 0.9700999855995178, 1.1399999856948853, 1.3473999500274658, 1.3346999883651733, 1.3518999814987183, 1.409600019454956, 0.9722999930381775, 1.2374999523162842, 1.3135000467300415, 0.9702000021934509, 1.1966999769210815, 1.2734999656677246, 0.4553000032901764, 0.5888000130653381, 1.0263999700546265, 0.48350000381469727, 0.8098999857902527, 0.6575999855995178, 0.3059000074863434, 0.16369999945163727, 0.4309000074863434, 0.6873000264167786, 0.5020999908447266, -0.022700000554323196, -0.09740000218153, 0.38190001249313354, 0.0982000008225441, 0.45190000534057617, 0.40369999408721924, 0.25130000710487366, 0.08529999852180481, -0.16189999878406525, 0.17139999568462372, -0.0471000000834465, 0.3619000017642975, -0.20430000126361847, 0.517799973487854, 0.06689999997615814, -0.6061999797821045, -0.1324000060558319, 0.13099999725818634, 0.20739999413490295, 0.11400000005960464, 0.01860000006854534, 1.6993000507354736, 1.6953999996185303, 1.6907000541687012, 1.68340003490448, 1.6818000078201294, 1.6818000078201294, 1.680999994277954, 1.6806999444961548, 1.6800999641418457, 1.679800033569336, 1.6796000003814697, 1.6787999868392944, 1.6785000562667847, 1.6770000457763672, 1.6770000457763672, 1.676900029182434, 1.6764999628067017, 1.676200032234192, 1.676200032234192, 1.6761000156402588, 1.6761000156402588, 1.6758999824523926, 1.6758999824523926, 1.6758999824523926, 1.6757999658584595, 1.6749000549316406, 1.6748000383377075, 1.6744999885559082, 1.674299955368042, 1.6741000413894653, 1.670799970626831, 1.6677000522613525, 1.6713999509811401, 1.6687999963760376, 1.6720000505447388, 1.6578999757766724, 1.6729999780654907, 1.6552000045776367, 1.659500002861023, 1.6711000204086304, 1.667099952697754, 1.670699954032898, 1.652999997138977, 1.6721999645233154, 1.667799949645996, 1.6604000329971313, 1.670300006866455, 1.659500002861023, 1.6467000246047974, 1.648900032043457, 1.6514999866485596, 1.6404999494552612, 1.6313999891281128, 1.6446000337600708, 1.655500054359436, 1.5913000106811523, 1.6416000127792358, 1.5155999660491943, 1.5835000276565552, 1.6017999649047852, 1.534500002861023, 1.2756999731063843, 1.3530999422073364, 1.4882999658584595, 1.4723000526428223, 1.4931000471115112, 1.4867000579833984, 1.482200026512146, 1.5374000072479248, 1.1835999488830566, 1.3107999563217163, 1.409500002861023, 1.2645000219345093, 1.4228999614715576, 1.2418999671936035, 1.0734000205993652, 1.409000039100647, 1.3453999757766724, 1.3889000415802002, 1.0116000175476074, 1.2029999494552612, 1.0434999465942383, 1.170799970626831, 1.093500018119812, 0.6657000184059143, 0.9297999739646912, 1.0441999435424805, 1.2906999588012695, 0.8788999915122986, 0.7488999962806702, 0.7645999789237976, 0.26660001277923584, 0.558899998664856, 0.6833000183105469, 0.6351000070571899, 1.0161999464035034, 0.5889999866485596, 0.031300000846385956, 0.02889999933540821, 0.1777999997138977, -0.19110000133514404, 0.38429999351501465, 0.5598999857902527, -0.4284999966621399, -0.14159999787807465, 0.022199999541044235, 0.12880000472068787, 0.17249999940395355, 0.22190000116825104, 0.24690000712871552, -0.29660001397132874, -0.5605999827384949, -0.006399999838322401, 0.19359999895095825, -0.6171000003814697, 1.8698999881744385, 1.8580000400543213, 1.8521000146865845, 1.8502000570297241, 1.8492000102996826, 1.847499966621399, 1.847499966621399, 1.8457000255584717, 1.8425999879837036, 1.8406000137329102, 1.8375999927520752, 1.8375999927520752, 1.8367999792099, 1.8367999792099, 1.8345999717712402, 1.833299994468689, 1.8330999612808228, 1.8325999975204468, 1.8324999809265137, 1.8320000171661377, 1.8308000564575195, 1.8305000066757202, 1.829800009727478, 1.8287999629974365, 1.8286999464035034, 1.8280999660491943, 1.8278000354766846, 1.827299952507019, 1.827299952507019, 1.826799988746643, 1.812000036239624, 1.8202999830245972, 1.8087999820709229, 1.8107999563217163, 1.8241000175476074, 1.8171000480651855, 1.8245999813079834, 1.8056000471115112, 1.8078999519348145, 1.8007999658584595, 1.807800054550171, 1.815500020980835, 1.773300051689148, 1.8056000471115112, 1.7668999433517456, 1.8107000589370728, 1.7824000120162964, 1.8003000020980835, 1.7933000326156616, 1.7282999753952026, 1.6713000535964966, 1.7900999784469604, 1.7998000383377075, 1.6866999864578247, 1.6291999816894531, 1.7454999685287476, 1.6898000240325928, 1.7691999673843384, 1.7374999523162842, 1.6988999843597412, 1.4944000244140625, 1.520900011062622, 1.3447999954223633, 1.2776000499725342, 1.347000002861023, 0.6287999749183655, 1.4172999858856201, 1.0241999626159668, 0.8216000199317932, 0.6531999707221985, 0.20829999446868896, 1.0184999704360962, 1.2175999879837036, 0.6306999921798706, 0.008999999612569809, 0.17010000348091125, 0.024700000882148743, 0.38370001316070557, 0.05860000103712082, 0.09520000219345093, 0.1290999948978424, 0.6531000137329102, -0.15230000019073486, 0.020600000396370888, 0.24300000071525574, 0.9067000150680542, 0.8633000254631042, 0.14499999582767487, 0.0658000037074089, -0.006500000134110451, 0.05310000106692314, -0.10119999945163727, 0.10980000346899033, -0.33570000529289246, -0.021299999207258224, 0.28780001401901245, 0.1145000010728836, -0.304500013589859, -0.08720000088214874, -0.015699999406933784]}, \"token.table\": {\"Topic\": [2, 3, 5, 1, 2, 4, 5, 3, 3, 1, 3, 1, 4, 3, 5, 3, 4, 5, 1, 2, 3, 4, 5, 1, 2, 3, 5, 5, 3, 1, 4, 5, 1, 2, 3, 4, 5, 1, 5, 1, 2, 3, 4, 5, 1, 2, 3, 4, 5, 1, 2, 3, 4, 5, 1, 2, 3, 4, 5, 1, 2, 3, 4, 5, 1, 2, 3, 4, 5, 3, 5, 5, 1, 2, 3, 4, 5, 1, 2, 3, 4, 5, 2, 1, 1, 2, 3, 4, 5, 1, 2, 3, 4, 5, 1, 2, 3, 4, 5, 1, 2, 3, 4, 5, 1, 2, 3, 4, 5, 1, 2, 3, 4, 5, 3, 1, 1, 2, 3, 4, 5, 4, 4, 1, 2, 3, 4, 5, 1, 2, 3, 4, 5, 1, 2, 3, 4, 5, 1, 2, 3, 4, 5, 1, 2, 3, 4, 5, 1, 2, 3, 4, 5, 1, 2, 3, 4, 5, 1, 2, 3, 4, 5, 2, 4, 5, 1, 2, 3, 4, 5, 1, 2, 3, 4, 5, 4, 4, 1, 2, 3, 4, 5, 2, 1, 2, 3, 4, 5, 1, 2, 3, 4, 5, 4, 1, 3, 4, 5, 1, 2, 3, 4, 5, 1, 3, 5, 3, 5, 1, 1, 2, 3, 4, 5, 1, 2, 3, 4, 5, 1, 2, 3, 4, 5, 1, 3, 1, 2, 3, 4, 5, 3, 1, 2, 3, 4, 5, 1, 2, 3, 4, 5, 1, 2, 3, 5, 1, 1, 2, 3, 4, 5, 1, 2, 3, 4, 5, 4, 1, 2, 3, 4, 5, 1, 2, 3, 4, 5, 3, 1, 2, 3, 4, 5, 1, 2, 3, 4, 5, 1, 2, 3, 4, 5, 1, 2, 3, 4, 5, 5, 4, 1, 1, 3, 5, 2, 3, 4, 2, 1, 2, 3, 4, 5, 1, 2, 3, 4, 5, 1, 1, 2, 3, 4, 5, 1, 2, 3, 4, 5, 4, 3, 2, 4, 5, 1, 2, 3, 4, 5, 1, 2, 3, 4, 5, 1, 2, 3, 4, 5, 3, 1, 2, 3, 4, 5, 1, 2, 3, 4, 5, 1, 2, 3, 4, 5, 1, 2, 3, 4, 5, 1, 2, 3, 4, 5, 1, 2, 3, 4, 5, 3, 1, 2, 3, 4, 5, 1, 2, 3, 4, 5, 2, 1, 2, 3, 4, 5, 1, 2, 3, 4, 5, 1, 2, 3, 4, 5, 1, 1, 2, 3, 4, 5, 4, 1, 4, 1, 2, 3, 4, 5, 1, 2, 3, 4, 5, 1, 2, 3, 4, 5, 1, 2, 3, 4, 5, 1, 2, 3, 4, 5, 2, 3, 4, 5, 1, 2, 3, 4, 5, 1, 2, 3, 4, 5, 4, 1, 2, 3, 4, 5, 4, 1, 2, 3, 4, 5, 1, 2, 3, 4, 5, 1, 2, 3, 4, 5, 1, 3, 4, 1, 2, 3, 4, 5, 1, 2, 3, 4, 5, 1, 2, 1, 2, 3, 4, 5, 1, 2, 3, 4, 5, 3, 3, 1, 2, 3, 4, 5, 3, 4, 5, 1, 2, 3, 4, 5, 1, 2, 3, 4, 5, 1, 2, 3, 4, 5, 1, 3, 1, 3, 4, 5, 1, 2, 3, 4, 5, 1, 2, 3, 4, 5, 1, 2, 3, 4, 5, 1, 2, 3, 4, 5, 1, 2, 3, 4, 5, 1, 3, 1, 2, 3, 4, 5, 1, 1, 2, 3, 4, 5, 1, 2, 3, 4, 5, 1, 2, 3, 4, 5, 1, 2, 3, 4, 5, 1, 2, 3, 4, 5, 1, 2, 3, 4, 5, 1, 2, 3, 4, 5, 1, 2, 3, 4, 5, 1, 2, 4, 3, 1, 2, 3, 4, 5, 1, 2, 3, 4, 5, 1, 2, 3, 4, 1, 2, 3, 4, 5, 1, 2, 3, 4, 5, 1, 2, 3, 4, 5, 1, 2, 3, 4, 5, 1, 2, 3, 4, 5, 3, 4, 1, 2, 1, 3, 5, 1, 2, 3, 4, 5, 1, 2, 3, 4, 5, 2, 1, 2, 3, 4, 1, 2, 3, 4, 5, 3, 1, 1, 2, 3, 4, 5, 1, 2, 3, 4, 5, 1, 2, 3, 4, 5, 2, 2, 1, 2, 3, 4, 5, 1, 2, 3, 4, 5, 1, 2, 3, 4, 5, 5, 1, 2, 3, 4, 5, 1, 1, 2, 4, 5, 3, 1, 2, 3, 4, 1, 4, 4, 1, 2, 3, 4, 5, 4, 3, 1, 1, 2, 3, 4, 5, 1, 1, 1, 2, 3, 4, 5, 1, 2, 3, 4, 5, 3, 2, 3, 4, 1, 2, 3, 4, 5, 1, 2, 3, 4, 5, 1, 4, 1, 2, 3, 4, 5, 1, 2, 3, 4, 5, 1, 1, 2, 3, 4, 5, 1, 2, 3, 4, 5, 4, 1, 2, 4, 5, 2, 3, 4, 5, 1, 2, 3, 4, 5, 1, 2, 3, 4, 5, 1, 2, 3, 4, 5, 5, 1, 2, 3, 4, 5, 1, 2, 3, 4, 5, 1, 2, 3, 4, 5, 1, 2, 3, 4, 5, 1, 2, 3, 4, 5, 1, 2, 3, 4, 5, 1, 2, 3, 4, 5, 1, 2, 3, 4, 5, 1, 2, 3, 4, 5, 1, 2, 3, 4, 5, 1, 2, 3, 4, 5, 4, 1, 2, 3, 4, 5, 1, 2, 3, 4, 5, 3, 5, 1, 2, 3, 4, 5, 2, 3, 1, 2, 3, 4, 5, 1, 2, 3, 4, 5, 3, 1, 2, 3, 4, 1, 2, 3, 4, 5, 2, 1, 2, 3, 4, 5, 2, 1, 2, 3, 4, 5, 1, 2, 3, 4, 5, 1, 2, 3, 4, 5, 3, 5, 1, 2, 3, 4, 5, 1, 5, 3, 1, 3, 4, 5, 2, 1, 2, 3, 4, 5, 1, 2, 3, 4, 5, 1, 2, 3, 4, 5, 1, 4, 5, 1, 2, 3, 5, 5, 1, 2, 3, 4, 5, 1, 2, 3, 4, 5, 2, 1, 1, 2, 3, 4, 5, 1, 4, 5, 1, 2, 3, 4, 5, 1, 2, 4, 5, 1, 2, 3, 4, 5, 3, 1, 2, 3, 4, 5, 5, 3, 1, 2, 3, 4, 5, 5, 1, 2, 3, 4, 5, 1, 2, 3, 4, 5, 1, 2, 3, 4, 5, 2, 1, 4, 5, 3, 4, 1, 2, 3, 4, 5, 1, 2, 3, 5, 5, 4, 1, 2, 3, 4, 5, 1, 2, 3, 4, 5, 1, 2, 3, 4, 5, 1, 1, 2, 3, 5, 1, 2, 3, 4, 5, 1, 2, 3, 4, 5, 4, 1, 2, 3, 4, 5, 1, 2, 3, 4, 5, 1, 2, 3, 4, 5, 2, 3, 4, 5, 1, 2, 3, 4, 5, 1, 2, 3, 4, 5, 1, 2, 3, 4, 5, 1, 2, 3, 4, 5, 1, 2, 3, 4, 5, 1, 2, 3, 4, 5, 1, 2, 3, 4, 5, 1, 2, 3, 4, 5, 1, 2, 3, 4, 5, 1, 2, 3, 4, 5, 5, 5, 1, 2, 3, 4, 5, 1, 2, 3, 4, 1, 1, 2, 3, 5, 1, 2, 3, 4, 5, 1, 2, 3, 4, 5, 1, 2, 3, 4, 5, 2, 1, 2, 3, 4, 5, 1, 2, 3, 4, 5, 1, 2, 3, 4, 5, 1, 2, 3, 4, 5, 2, 1, 2, 3, 4, 5, 1, 2, 3, 4, 5, 1, 2, 3, 4, 5, 4, 1, 2, 3, 4, 5, 1, 2, 3, 4, 5, 1, 2, 3, 4, 5, 1, 2, 3, 4, 5, 1, 2, 3, 4, 5, 2, 2, 2, 3, 2, 1, 2, 3, 4, 5, 1, 2, 1, 2, 3, 4, 5, 1, 2, 3, 4, 5, 1, 2, 3, 4, 5, 1, 2, 3, 4, 5, 1, 2, 3, 4, 5, 1, 2, 3, 4, 5, 1, 5, 1, 1, 1, 2, 3, 4, 5, 4, 1, 2, 3, 4, 5, 3, 1, 2, 3, 4, 5, 1, 2, 3, 4, 5, 4, 1, 2, 3, 4, 5, 1, 2, 3, 4, 5, 4, 1, 2, 3, 4, 5, 4, 1, 2, 3, 4, 5, 4, 1, 2, 3, 4, 5, 4, 1, 2, 3, 4, 5, 1, 2, 3, 4, 5, 5, 1, 2, 3, 4, 5, 1, 2, 3, 4, 5, 5, 1, 2, 3, 4, 5, 1, 2, 3, 4, 5, 5, 1, 2, 3, 4, 5, 1, 2, 3, 4, 5, 1, 2, 3, 4, 5, 1, 2, 3, 4, 5, 1, 2, 3, 4, 5, 1, 2, 3, 4, 5, 1, 2, 3, 4, 5, 1, 2, 3, 4, 5, 3, 1, 2, 3, 4, 5, 3, 5, 1, 2, 3, 4, 5, 1, 2, 3, 4, 5, 1, 2, 3, 4, 5, 2, 1, 1, 2, 3, 4, 5, 1, 2, 3, 4, 5, 1, 3, 4, 4, 1, 2, 3, 4, 5, 1, 2, 3, 4, 5, 1, 2, 3, 4, 5, 1, 2, 3, 4, 5, 4, 3, 2, 2, 4, 5, 1, 2, 3, 4, 5, 1, 2, 4, 1, 2, 3, 4, 5, 1, 1, 1, 2, 3, 4, 5, 1, 2, 3, 4, 5, 4, 1, 2, 3, 4, 5, 3, 1, 2, 3, 4, 5, 2, 5, 5, 5, 5, 5, 5, 1, 3, 4, 1, 2, 3, 4, 5, 3, 1, 2, 1, 2, 3, 1, 2, 3, 4, 5, 5, 1, 2, 3, 4, 5, 1, 2, 3, 4, 5, 1, 2, 3, 4, 5, 1, 2, 3, 4, 5, 1, 2, 3, 4, 5, 1, 2, 3, 4, 5, 1, 2, 3, 4, 5, 1, 2, 3, 4, 5, 1, 2, 3, 4, 5, 1, 2, 3, 4, 5, 1, 2, 3, 4, 5, 1, 2, 3, 4, 5, 2, 1, 2, 3, 1, 5, 1, 1, 2, 3, 4, 5, 1, 2, 3, 4, 5, 1, 1, 2, 3, 4, 5], \"Freq\": [0.03357977047562599, 0.03357977047562599, 0.9066537618637085, 0.02011536806821823, 0.9253069162368774, 0.02011536806821823, 0.04023073613643646, 0.9183691143989563, 1.0171297788619995, 0.05373379588127136, 0.9134745001792908, 0.863909125328064, 0.8898537158966064, 1.0142335891723633, 0.8958606719970703, 0.9560971260070801, 0.907965898513794, 0.9589520692825317, 0.016803819686174393, 0.9074062705039978, 0.016803819686174393, 0.033607639372348785, 0.016803819686174393, 0.023243002593517303, 0.023243002593517303, 0.9297201037406921, 0.023243002593517303, 1.0558642148971558, 1.0154507160186768, 0.04141579568386078, 0.9111475348472595, 0.04141579568386078, 0.019346902146935463, 0.019346902146935463, 0.019346902146935463, 0.9286512732505798, 0.019346902146935463, 0.906999945640564, 1.0637660026550293, 0.06018625572323799, 0.7173550724983215, 0.0975993350148201, 0.0390397347509861, 0.08458609133958817, 0.12184569239616394, 0.5303412079811096, 0.13512374460697174, 0.043739479035139084, 0.1687094271183014, 0.43718618154525757, 0.06745899468660355, 0.27891701459884644, 0.1478908807039261, 0.06745899468660355, 0.10495677590370178, 0.13775576651096344, 0.7018983960151672, 0.019679395481944084, 0.03279899060726166, 0.0701494812965393, 0.10021354258060455, 0.7716442942619324, 0.030064063146710396, 0.02004270814359188, 0.01942562498152256, 0.00971281249076128, 0.029138436540961266, 0.00971281249076128, 0.9324299693107605, 0.03992340713739395, 0.9581617712974548, 0.8948711156845093, 0.0673409029841423, 0.022446967661380768, 0.8866552710533142, 0.022446967661380768, 0.011223483830690384, 0.05779193714261055, 0.01926397904753685, 0.9054070115089417, 0.01926397904753685, 0.01926397904753685, 0.9186489582061768, 1.0317484140396118, 0.2949594259262085, 0.24603793025016785, 0.1602107435464859, 0.14418967068195343, 0.1544889360666275, 0.11051701009273529, 0.2252846658229828, 0.21040737628936768, 0.09776504337787628, 0.3570549488067627, 0.009837433695793152, 0.09837433695793152, 0.029512301087379456, 0.009837433695793152, 0.8460193276405334, 0.19473619759082794, 0.12982413172721863, 0.2450990080833435, 0.32903701066970825, 0.10072562098503113, 0.1664823293685913, 0.2768019437789917, 0.2112787812948227, 0.207267165184021, 0.13840097188949585, 0.6157110929489136, 0.10777153074741364, 0.130739226937294, 0.08922068774700165, 0.056535884737968445, 1.018183946609497, 1.0341864824295044, 0.03410223126411438, 0.8525557518005371, 0.05304791405797005, 0.02273482084274292, 0.03789136931300163, 0.8910570740699768, 0.9007675051689148, 0.040650155395269394, 0.05589396506547928, 0.02540634758770466, 0.8587345480918884, 0.020325077697634697, 0.20076440274715424, 0.4734790623188019, 0.11024634540081024, 0.06382683664560318, 0.1508634239435196, 0.35411307215690613, 0.1359468549489975, 0.21246784925460815, 0.1595544070005417, 0.1375749707221985, 0.7884265780448914, 0.03565748408436775, 0.09508661925792694, 0.051505252718925476, 0.031695540994405746, 0.03353263810276985, 0.1341305524110794, 0.04023916646838188, 0.7645441293716431, 0.03353263810276985, 0.1251397728919983, 0.02085663005709648, 0.8203607797622681, 0.02085663005709648, 0.006952209863811731, 0.015558440238237381, 0.8920172452926636, 0.04148917645215988, 0.015558440238237381, 0.03630302846431732, 0.8691998720169067, 0.01473220158368349, 0.04419660568237305, 0.05892880633473396, 0.01473220158368349, 0.9483145475387573, 0.027094701305031776, 0.027094701305031776, 0.007257645484060049, 0.9362362623214722, 0.014515290968120098, 0.02177293598651886, 0.02177293598651886, 0.46705934405326843, 0.11940999329090118, 0.22068175673484802, 0.05290316045284271, 0.1405712515115738, 0.9076734781265259, 0.8897634744644165, 0.13069473206996918, 0.09505071491003036, 0.14257606863975525, 0.09109026938676834, 0.5425812005996704, 0.9191760420799255, 0.06294196099042892, 0.5097064971923828, 0.140693798661232, 0.049366243183612823, 0.23695796728134155, 0.026043182238936424, 0.026043182238936424, 0.026043182238936424, 0.9115113615989685, 0.026043182238936424, 0.9074752926826477, 0.9260390996932983, 0.0370415635406971, 0.0370415635406971, 0.0370415635406971, 0.060499683022499084, 0.020166561007499695, 0.060499683022499084, 0.04033312201499939, 0.8268290162086487, 0.026268962770700455, 0.05253792554140091, 0.919413685798645, 0.033638183027505875, 0.9082309007644653, 1.033673882484436, 0.853919267654419, 0.05889098346233368, 0.01472274586558342, 0.02944549173116684, 0.02944549173116684, 0.8774957656860352, 0.01867012307047844, 0.07468049228191376, 0.01867012307047844, 0.01867012307047844, 0.023899899795651436, 0.023899899795651436, 0.023899899795651436, 0.9320961236953735, 0.023899899795651436, 0.8957069516181946, 0.04714246839284897, 0.014224173501133919, 0.014224173501133919, 0.04267251864075661, 0.9103471040725708, 0.014224173501133919, 0.8918157815933228, 0.6443740725517273, 0.0225530918687582, 0.2351965308189392, 0.061215534806251526, 0.03544057533144951, 0.09246186167001724, 0.19416990876197815, 0.00924618635326624, 0.00924618635326624, 0.693463921546936, 0.9296364188194275, 0.03575524687767029, 0.03575524687767029, 0.03575524687767029, 0.9208810925483704, 0.21199290454387665, 0.04531146213412285, 0.2751052975654602, 0.4207492768764496, 0.046929728239774704, 0.3431774079799652, 0.08617565780878067, 0.28979426622390747, 0.21200737357139587, 0.0686354786157608, 0.908841609954834, 0.8395177125930786, 0.03930852189660072, 0.053347282111644745, 0.04773177579045296, 0.01965426094830036, 0.019894370809197426, 0.019894370809197426, 0.019894370809197426, 0.019894370809197426, 0.9151410460472107, 1.0184626579284668, 0.030943242833018303, 0.015471621416509151, 0.9128256440162659, 0.015471621416509151, 0.015471621416509151, 0.17607629299163818, 0.5017760992050171, 0.12110412120819092, 0.047119006514549255, 0.1537567675113678, 0.10937882214784622, 0.5746728777885437, 0.10281994938850403, 0.027585839852690697, 0.18557746708393097, 0.18013101816177368, 0.5137069821357727, 0.0984049066901207, 0.038361236453056335, 0.16845585405826569, 1.063576102256775, 0.8982849717140198, 1.0337789058685303, 0.03529202938079834, 0.9175927639007568, 0.03529202938079834, 0.034975383430719376, 0.034975383430719376, 0.9093599319458008, 0.9199305772781372, 0.4005148708820343, 0.02153305895626545, 0.3746752142906189, 0.1679578572511673, 0.0358884297311306, 0.05547142028808594, 0.1996971070766449, 0.12080442160367966, 0.5707392692565918, 0.05423872172832489, 1.0320554971694946, 0.03936813399195671, 0.2296474426984787, 0.09513965249061584, 0.5806799530982971, 0.05249084532260895, 0.017747944220900536, 0.9228931069374084, 0.03549588844180107, 0.017747944220900536, 0.017747944220900536, 0.9084820747375488, 0.9166775345802307, 0.9228459000587463, 0.03076152876019478, 0.03076152876019478, 0.5237830877304077, 0.09383108466863632, 0.21465466916561127, 0.11632484197616577, 0.05141429230570793, 0.016185013577342033, 0.9225457906723022, 0.016185013577342033, 0.016185013577342033, 0.016185013577342033, 0.03247391805052757, 0.016236959025263786, 0.925506591796875, 0.016236959025263786, 0.016236959025263786, 0.9359167814254761, 0.039118751883506775, 0.21906502544879913, 0.0704137533903122, 0.04694250598549843, 0.6180763244628906, 0.1591368466615677, 0.14322315156459808, 0.058350175619125366, 0.058350175619125366, 0.578197181224823, 0.42966750264167786, 0.1239425465464592, 0.174896702170372, 0.1611253172159195, 0.10879401862621307, 0.09980422258377075, 0.05613987520337105, 0.07485316693782806, 0.7173428535461426, 0.06237763911485672, 0.16139917075634003, 0.01898813806474209, 0.10443475842475891, 0.6487613916397095, 0.06645847856998444, 0.03567269816994667, 0.017836349084973335, 0.017836349084973335, 0.9274901747703552, 0.017836349084973335, 1.019765019416809, 0.092655710875988, 0.6022620797157288, 0.10589224100112915, 0.09706788510084152, 0.1036861464381218, 0.21499375998973846, 0.29191234707832336, 0.18094782531261444, 0.17401254177093506, 0.13807517290115356, 0.9205024242401123, 0.8801681995391846, 0.050778936594724655, 0.03385262191295624, 0.01692631095647812, 0.01692631095647812, 0.1790047138929367, 0.043208032846450806, 0.7160188555717468, 0.043208032846450806, 0.01851772889494896, 0.8632973432540894, 0.021228622645139694, 0.028304830193519592, 0.014152415096759796, 0.07783828675746918, 0.9604512453079224, 0.08412329852581024, 0.09764311462640762, 0.3079513609409332, 0.48070457577705383, 0.03154623880982399, 0.891801118850708, 0.04786122217774391, 0.9093632102012634, 0.025363348424434662, 0.03170418366789818, 0.03170418366789818, 0.025363348424434662, 0.8877171874046326, 0.09686283022165298, 0.8453483581542969, 0.026417136192321777, 0.017611423507332802, 0.017611423507332802, 0.18178127706050873, 0.21343259513378143, 0.20530590415000916, 0.22797510027885437, 0.17151597142219543, 0.33163681626319885, 0.20782575011253357, 0.2706156373023987, 0.09728013724088669, 0.09197394549846649, 0.024315206333994865, 0.9178990721702576, 0.024315206333994865, 0.01823640614748001, 0.012157603166997433, 0.9223778247833252, 0.0242731012403965, 0.0242731012403965, 0.0242731012403965, 0.013570966199040413, 0.9228256940841675, 0.013570966199040413, 0.027141932398080826, 0.013570966199040413, 0.012532157823443413, 0.9085814952850342, 0.018798237666487694, 0.05012863129377365, 0.012532157823443413, 0.9021985530853271, 0.024644607678055763, 0.024644607678055763, 0.024644607678055763, 0.9118504524230957, 0.024644607678055763, 0.9076886773109436, 0.034661952406167984, 0.034661952406167984, 0.034661952406167984, 0.034661952406167984, 0.9012107849121094, 0.6193118691444397, 0.04857347905635834, 0.22617025673389435, 0.07134229689836502, 0.03339426591992378, 0.8548089861869812, 0.015829795971512794, 0.047489386051893234, 0.07914897799491882, 0.015829795971512794, 0.9245402812957764, 0.03698161244392395, 0.03698161244392395, 0.17455001175403595, 0.2699291408061981, 0.18327751755714417, 0.19886234402656555, 0.17455001175403595, 0.03560471534729004, 0.02373647503554821, 0.02373647503554821, 0.8901178240776062, 0.02373647503554821, 0.9376250505447388, 0.04934868589043617, 0.4331524074077606, 0.08897798508405685, 0.22187700867652893, 0.17984911799430847, 0.07648320496082306, 0.355322003364563, 0.11417253315448761, 0.16325604915618896, 0.314774751663208, 0.05228462070226669, 1.0161577463150024, 0.9686795473098755, 0.07728584110736847, 0.37612441182136536, 0.06182866916060448, 0.06698106229305267, 0.41734352707862854, 0.9025821685791016, 0.046286266297101974, 0.023143133148550987, 0.6959289312362671, 0.07732544094324112, 0.04349555820226669, 0.15948371589183807, 0.024164199829101562, 0.010551037266850471, 0.010551037266850471, 0.021102074533700943, 0.939042329788208, 0.010551037266850471, 0.019701652228832245, 0.009850826114416122, 0.8865743279457092, 0.07880660891532898, 0.009850826114416122, 0.9426605701446533, 0.047133028507232666, 0.015872200950980186, 0.015872200950980186, 0.015872200950980186, 0.9523321390151978, 0.869373083114624, 0.019758479669690132, 0.07903391867876053, 0.009879239834845066, 0.019758479669690132, 0.9291972517967224, 0.03573835641145706, 0.03573835641145706, 0.03573835641145706, 0.03573835641145706, 0.0928306132555008, 0.03375658765435219, 0.08439146727323532, 0.7764015197753906, 0.016878293827176094, 0.030652612447738647, 0.030652612447738647, 0.061305224895477295, 0.030652612447738647, 0.8889257907867432, 0.015387771651148796, 0.9181370139122009, 0.015387771651148796, 0.030775543302297592, 0.020517028868198395, 0.8984376788139343, 0.8723530173301697, 0.007026322651654482, 0.9204482436180115, 0.021078968420624733, 0.042157936841249466, 0.014052645303308964, 0.8877333402633667, 0.8805580735206604, 0.0258987657725811, 0.0647469162940979, 0.01294938288629055, 0.01294938288629055, 0.020107151940464973, 0.0804286077618599, 0.04021430388092995, 0.020107151940464973, 0.8646075129508972, 0.08301625400781631, 0.4967585802078247, 0.1539817601442337, 0.045525044202804565, 0.22093035280704498, 0.056599754840135574, 0.056599754840135574, 0.8702212572097778, 0.007074969355016947, 0.007074969355016947, 0.7591537833213806, 0.04966426640748978, 0.09932853281497955, 0.04966426640748978, 0.042569369077682495, 0.07744942605495453, 0.05280642583966255, 0.028163427487015724, 0.038724713027477264, 0.8026576638221741, 0.07116445899009705, 0.053373344242572784, 0.08006002008914948, 0.026686672121286392, 0.7694657444953918, 0.33151185512542725, 0.06416358053684235, 0.4241925776004791, 0.12654484808444977, 0.05346965417265892, 0.9218806624412537, 0.036875225603580475, 0.036875225603580475, 1.0166033506393433, 0.8418558835983276, 0.05721350759267807, 0.02452007494866848, 0.04086679220199585, 0.03269343078136444, 0.1052350178360939, 0.3915956914424896, 0.20743440091609955, 0.11636564135551453, 0.17910189926624298, 0.9057101011276245, 0.015889650210738182, 0.031779300421476364, 0.047668952494859695, 0.2581821084022522, 0.19606873393058777, 0.18110164999961853, 0.2237578183412552, 0.14069053530693054, 0.018937788903713226, 0.018937788903713226, 0.03787557780742645, 0.9090138673782349, 0.018937788903713226, 0.2538618743419647, 0.19799812138080597, 0.20860517024993896, 0.1718340963125229, 0.1682984083890915, 0.03239137679338455, 0.689473569393158, 0.12031082808971405, 0.03701871633529663, 0.12031082808971405, 0.9143481850624084, 0.02471211366355419, 0.02471211366355419, 0.02471211366355419, 0.02471211366355419, 0.041297122836112976, 0.9085367321968079, 1.031044363975525, 0.9208107590675354, 0.03715914860367775, 0.03715914860367775, 0.928978681564331, 0.2042447030544281, 0.3298797607421875, 0.17195859551429749, 0.14528746902942657, 0.14809495210647583, 0.1328076720237732, 0.4739859998226166, 0.1385321319103241, 0.1350974589586258, 0.1202138364315033, 0.9219663143157959, 0.9042978286743164, 0.05167416110634804, 0.02583708055317402, 0.02583708055317402, 0.11738461256027222, 0.07931392639875412, 0.18718086183071136, 0.5647151470184326, 0.05393347144126892, 1.0164378881454468, 0.8870285153388977, 0.8727354407310486, 0.027853257954120636, 0.037137676030397415, 0.027853257954120636, 0.037137676030397415, 0.07881660759449005, 0.07165145874023438, 0.11464233696460724, 0.7165145874023438, 0.021495437249541283, 0.017325367778539658, 0.9269071817398071, 0.021656708791851997, 0.021656708791851997, 0.012994025833904743, 0.9188292622566223, 0.9185448884963989, 0.11943964660167694, 0.032574448734521866, 0.8143612146377563, 0.021716298535466194, 0.010858149267733097, 0.10516627877950668, 0.028681712225079536, 0.8317696452140808, 0.009560570120811462, 0.019121140241622925, 0.1745913177728653, 0.21247433125972748, 0.33930009603500366, 0.12764930725097656, 0.1449437290430069, 0.9374042749404907, 0.16314847767353058, 0.17906540632247925, 0.36343643069267273, 0.17375975847244263, 0.11937693506479263, 0.9333687424659729, 0.02388739213347435, 0.02388739213347435, 0.02388739213347435, 0.9316083192825317, 1.015067219734192, 0.020140938460826874, 0.020140938460826874, 0.020140938460826874, 0.926483154296875, 0.03950872644782066, 0.9482094645500183, 0.9067686200141907, 0.0249465424567461, 0.0249465424567461, 0.0249465424567461, 0.9105488061904907, 0.01247327122837305, 0.9029106497764587, 1.016668438911438, 1.0304933786392212, 0.1040126383304596, 0.0462983101606369, 0.18455901741981506, 0.6253442764282227, 0.03932185098528862, 0.9283109307289124, 0.8875349760055542, 0.809204638004303, 0.025130579248070717, 0.10052231699228287, 0.050261158496141434, 0.0150783471763134, 0.8471687436103821, 0.00930954609066248, 0.07447636872529984, 0.04654773324728012, 0.01861909218132496, 0.9346888661384583, 0.0431709811091423, 0.0431709811091423, 0.9497615694999695, 0.10947119444608688, 0.7868242263793945, 0.02736779861152172, 0.03078877367079258, 0.04789365082979202, 0.19683994352817535, 0.025398703292012215, 0.7238630056381226, 0.03174837678670883, 0.01904902793467045, 0.9274095296859741, 0.8899598121643066, 0.22349673509597778, 0.21581032872200012, 0.2424170821905136, 0.15904925763607025, 0.15904925763607025, 0.8641113042831421, 0.0606393925845623, 0.03031969629228115, 0.03031969629228115, 0.015159848146140575, 0.9510999917984009, 0.19979090988636017, 0.045114077627658844, 0.6767111420631409, 0.05155894532799721, 0.03222433850169182, 0.23416545987129211, 0.2526836395263672, 0.1917528361082077, 0.17323464155197144, 0.1475481241941452, 0.9066856503486633, 0.027939725667238235, 0.9220109581947327, 0.027939725667238235, 0.027939725667238235, 0.026892656460404396, 0.9143503308296204, 0.026892656460404396, 0.026892656460404396, 0.01759316585958004, 0.01759316585958004, 0.8972514867782593, 0.03518633171916008, 0.03518633171916008, 0.014451757073402405, 0.8815571665763855, 0.043355271220207214, 0.043355271220207214, 0.014451757073402405, 0.20171383023262024, 0.2965286076068878, 0.31140151619911194, 0.07994188368320465, 0.10875814408063889, 0.9280095100402832, 0.5571537017822266, 0.09590350836515427, 0.15222778916358948, 0.11112628877162933, 0.08372528105974197, 0.2360120713710785, 0.17482376098632812, 0.21590733528137207, 0.2561168074607849, 0.11800603568553925, 0.29243654012680054, 0.3295510411262512, 0.15229736268520355, 0.11070355027914047, 0.11454297602176666, 0.33421212434768677, 0.25231361389160156, 0.18420271575450897, 0.09982243180274963, 0.1293279528617859, 0.41051527857780457, 0.11985847353935242, 0.23222579061985016, 0.1685509830713272, 0.06966773420572281, 0.41164642572402954, 0.1672901064157486, 0.14755363762378693, 0.20958255231380463, 0.06390857696533203, 0.05650215223431587, 0.026077916845679283, 0.6476016044616699, 0.04780951514840126, 0.22166229784488678, 0.29089629650115967, 0.07286638766527176, 0.22372259199619293, 0.3398534059524536, 0.07286638766527176, 0.17016826570034027, 0.13962525129318237, 0.13817080855369568, 0.4421465992927551, 0.10908222198486328, 0.11241413652896881, 0.6441508531570435, 0.08743321895599365, 0.03390267491340637, 0.11955153942108154, 0.04124236851930618, 0.06598778814077377, 0.09073320776224136, 0.7753565311431885, 0.02474542148411274, 0.8927432894706726, 0.0681222602725029, 0.065689317882061, 0.31628191471099854, 0.5206486582756042, 0.029195252805948257, 0.05027554929256439, 0.020110219717025757, 0.06033065915107727, 0.05027554929256439, 0.8144639134407043, 0.9064663052558899, 1.0679665803909302, 0.0248397383838892, 0.0496794767677784, 0.0496794767677784, 0.0248397383838892, 0.844551146030426, 0.9194179177284241, 1.0171858072280884, 0.8557286858558655, 0.016778994351625443, 0.016778994351625443, 0.016778994351625443, 0.08389496803283691, 0.8968508839607239, 0.019930019974708557, 0.039860039949417114, 0.019930019974708557, 0.019930019974708557, 0.8915872573852539, 0.04748493805527687, 0.023742469027638435, 0.9022138118743896, 0.023742469027638435, 0.8450005054473877, 0.021125013008713722, 0.042250026017427444, 0.042250026017427444, 0.05281253159046173, 0.9194875955581665, 0.04974605515599251, 0.024873027577996254, 0.8954290151596069, 0.024873027577996254, 0.024873027577996254, 0.9208859205245972, 0.7874603867530823, 0.049629855901002884, 0.09925971180200577, 0.023160599172115326, 0.03970388323068619, 0.1748938411474228, 0.30277320742607117, 0.2378932237625122, 0.08368576318025589, 0.20122194290161133, 0.0792512595653534, 0.0211336687207222, 0.8506301641464233, 0.036983922123909, 0.01585025154054165, 0.9089787006378174, 0.056811168789863586, 0.0221606083214283, 0.01108030416071415, 0.0221606083214283, 0.0332409143447876, 0.9085849523544312, 0.9178454279899597, 0.039906322956085205, 0.8927584290504456, 0.03070324845612049, 0.03070324845612049, 0.03070324845612049, 0.921097457408905, 0.9215448498725891, 0.026729589328169823, 0.008909863419830799, 0.035639453679323196, 0.008909863419830799, 0.9266257882118225, 0.09733423590660095, 0.022902173921465874, 0.143138587474823, 0.6698885560035706, 0.06298097968101501, 0.9135178327560425, 0.015483352355659008, 0.030966704711318016, 0.015483352355659008, 0.015483352355659008, 0.03495661914348602, 0.9438287019729614, 0.03495661914348602, 0.022476406767964363, 0.022476406767964363, 0.022476406767964363, 0.9440091252326965, 0.9231374263763428, 0.20566101372241974, 0.057585082948207855, 0.2029188722372055, 0.4826178550720215, 0.04935864359140396, 0.10895591229200363, 0.020429233089089394, 0.8307888507843018, 0.027238978073000908, 0.013619489036500454, 0.9659655094146729, 0.9159842133522034, 0.1010514348745346, 0.5710014700889587, 0.17897062003612518, 0.018262308090925217, 0.1314886212348938, 0.9278225302696228, 0.8916459679603577, 1.063535451889038, 0.20725886523723602, 0.44169920682907104, 0.14270281791687012, 0.046718187630176544, 0.16223952174186707, 0.019682519137859344, 0.9250784516334534, 0.019682519137859344, 0.03936503827571869, 0.02029724046587944, 0.02029724046587944, 0.02029724046587944, 0.02029724046587944, 0.933673083782196, 1.013543963432312, 0.02144526317715645, 0.9221463203430176, 0.010722631588578224, 0.02144526317715645, 0.010722631588578224, 0.9681977033615112, 0.90642911195755, 0.00887090153992176, 0.9403155446052551, 0.00887090153992176, 0.00887090153992176, 0.026612702757120132, 1.0679327249526978, 0.027493493631482124, 0.7808152437210083, 0.07698178291320801, 0.01099739782512188, 0.10447527468204498, 0.9253644347190857, 0.016234463080763817, 0.016234463080763817, 0.016234463080763817, 0.032468926161527634, 0.12784861028194427, 0.08523240685462952, 0.09588645398616791, 0.6179349422454834, 0.07191484421491623, 0.9224021434783936, 0.036451950669288635, 0.9112987518310547, 0.036451950669288635, 0.9049859642982483, 0.8893820643424988, 0.028898941352963448, 0.043348412960767746, 0.028898941352963448, 0.8091703653335571, 0.08669682592153549, 0.015147920697927475, 0.9391710758209229, 0.03029584139585495, 0.015147920697927475, 0.9400619864463806, 0.9530038833618164, 0.205892875790596, 0.16701799631118774, 0.27644357085227966, 0.21813125908374786, 0.13318245112895966, 0.02780722826719284, 0.00695180706679821, 0.2433132529258728, 0.702132523059845, 0.01390361413359642, 0.13966289162635803, 0.015518100000917912, 0.04655430093407631, 0.7759050130844116, 0.023277150467038155, 0.8871344923973083, 0.041313979774713516, 0.041313979774713516, 0.041313979774713516, 0.9089075922966003, 0.022243818268179893, 0.022243818268179893, 0.022243818268179893, 0.9119965434074402, 0.022243818268179893, 0.012463411316275597, 0.012463411316275597, 0.9472192525863647, 0.012463411316275597, 0.012463411316275597, 0.8984723091125488, 0.8194489479064941, 0.03833679482340813, 0.08146568387746811, 0.019168397411704063, 0.04312889277935028, 0.7622144818305969, 0.06929222494363785, 0.07275684177875519, 0.038110725581645966, 0.05889839306473732, 0.011467584408819675, 0.02293516881763935, 0.9288743138313293, 0.011467584408819675, 0.02293516881763935, 0.03002636320888996, 0.9007909297943115, 0.03002636320888996, 0.03002636320888996, 0.02489892952144146, 0.02489892952144146, 0.8963614702224731, 0.02489892952144146, 0.02489892952144146, 0.024902042001485825, 0.024902042001485825, 0.8964735269546509, 0.024902042001485825, 0.024902042001485825, 0.22589421272277832, 0.015314862132072449, 0.24120907485485077, 0.4958186447620392, 0.021057935431599617, 0.01558772288262844, 0.09352633357048035, 0.8573247194290161, 0.01558772288262844, 0.01558772288262844, 0.20409534871578217, 0.06324081122875214, 0.49730274081230164, 0.12408613413572311, 0.11115051805973053, 0.020422985777258873, 0.020422985777258873, 0.8986114263534546, 0.020422985777258873, 0.020422985777258873, 0.030053524300456047, 0.030053524300456047, 0.9016057252883911, 0.030053524300456047, 0.030053524300456047, 0.02383025735616684, 0.9234224557876587, 0.00595756433904171, 0.02383025735616684, 0.02383025735616684, 0.02866164594888687, 0.03582705929875374, 0.7666990160942078, 0.07881952822208405, 0.09315034747123718, 0.18871134519577026, 0.027957238256931305, 0.7268881797790527, 0.03494654595851898, 0.013978619128465652, 0.8581920266151428, 0.8577997088432312, 0.13566315174102783, 0.08277751505374908, 0.1724531650543213, 0.4966651201248169, 0.11496877670288086, 0.029969315975904465, 0.029969315975904465, 0.9290487766265869, 0.029969315975904465, 1.0336120128631592, 0.028335316106677055, 0.028335316106677055, 0.9067301154136658, 0.028335316106677055, 0.18750376999378204, 0.10668317973613739, 0.5269502401351929, 0.13577859103679657, 0.04525953158736229, 0.035978637635707855, 0.011992879211902618, 0.035978637635707855, 0.9114588499069214, 0.011992879211902618, 0.013392488472163677, 0.9240816831588745, 0.026784976944327354, 0.013392488472163677, 0.026784976944327354, 0.9222323894500732, 0.5309671759605408, 0.024412285536527634, 0.2787069082260132, 0.10782092809677124, 0.05899635702371597, 0.04059009253978729, 0.0744151696562767, 0.06088513880968094, 0.7982718348503113, 0.020295046269893646, 0.06477333605289459, 0.2042851448059082, 0.0996512919664383, 0.05480821058154106, 0.5779774785041809, 0.21899855136871338, 0.10087206214666367, 0.25616195797920227, 0.3756157159805298, 0.04910876601934433, 0.9183588027954102, 0.008893393911421299, 0.08893394470214844, 0.04446697235107422, 0.04446697235107422, 0.8181922435760498, 0.06684286892414093, 0.01114047784358263, 0.1002643033862114, 0.8132548928260803, 0.01114047784358263, 0.16805732250213623, 0.027106018736958504, 0.7725215554237366, 0.024395417422056198, 0.008131805807352066, 0.9055916666984558, 0.10333239287137985, 0.3886854350566864, 0.16515888273715973, 0.06009707972407341, 0.2827589213848114, 0.12246695160865784, 0.3687615990638733, 0.15716591477394104, 0.06123347580432892, 0.28983843326568604, 0.08065344393253326, 0.010753792710602283, 0.010753792710602283, 0.016130689531564713, 0.8818110227584839, 0.10600966960191727, 0.04015517607331276, 0.13331519067287445, 0.6762132048606873, 0.04336759075522423, 0.12442624568939209, 0.029276764020323753, 0.08051110059022903, 0.7245998978614807, 0.03659595549106598, 0.9203815460205078, 0.9213024377822876, 0.9519438743591309, 0.030707865953445435, 0.9214410781860352, 1.033072829246521, 0.9435758590698242, 0.023014046251773834, 0.023014046251773834, 0.023014046251773834, 0.9064950346946716, 0.9171097278594971, 0.11960537731647491, 0.03680165484547615, 0.03680165484547615, 0.7728347182273865, 0.02760124020278454, 0.14040876924991608, 0.47264358401298523, 0.05240608751773834, 0.05141729488968849, 0.28279510140419006, 0.23084285855293274, 0.16158999502658844, 0.2825835049152374, 0.20696255564689636, 0.11780945956707001, 0.2140224426984787, 0.10529445856809616, 0.10071644186973572, 0.510449230670929, 0.06867030262947083, 0.4269171357154846, 0.0747784748673439, 0.30591195821762085, 0.1332416534423828, 0.05914297699928284, 0.2448367029428482, 0.27313151955604553, 0.20152832567691803, 0.11953112483024597, 0.1611071676015854, 0.8889590501785278, 0.9324232935905457, 1.0320672988891602, 0.9626815319061279, 0.24207817018032074, 0.04073430970311165, 0.29095935821533203, 0.3689364492893219, 0.05702803283929825, 0.9079788327217102, 0.018836500123143196, 0.9229884743690491, 0.018836500123143196, 0.018836500123143196, 0.018836500123143196, 0.9463341236114502, 0.9150041341781616, 0.0203334242105484, 0.0203334242105484, 0.0203334242105484, 0.0203334242105484, 0.9038861393928528, 0.02781188115477562, 0.02085890993475914, 0.02781188115477562, 0.02781188115477562, 0.9023687243461609, 0.026454173028469086, 0.017636116594076157, 0.017636116594076157, 0.017636116594076157, 0.9258960485458374, 0.008802962489426136, 0.9331139922142029, 0.035211849957704544, 0.008802962489426136, 0.017605924978852272, 0.9029449820518494, 0.2496330291032791, 0.21258501708507538, 0.2963840961456299, 0.17730119824409485, 0.06527506560087204, 0.9029818177223206, 0.04703940451145172, 0.02351970225572586, 0.02351970225572586, 0.8702290058135986, 0.02351970225572586, 0.8892199993133545, 0.030888056382536888, 0.21415719389915466, 0.2388676404953003, 0.09884177893400192, 0.4200775623321533, 0.8915874361991882, 0.03638501837849617, 0.03638501837849617, 0.018192509189248085, 0.9096254706382751, 0.018192509189248085, 0.9247349500656128, 0.01887214183807373, 0.01887214183807373, 0.01887214183807373, 0.01887214183807373, 0.8581564426422119, 0.11356716603040695, 0.23849104344844818, 0.12492387741804123, 0.17964260280132294, 0.34276634454727173, 0.11294085532426834, 0.16042734682559967, 0.2284485548734665, 0.2091972678899765, 0.2900526523590088, 1.0638370513916016, 0.3281037509441376, 0.08627913892269135, 0.31595176458358765, 0.1628366857767105, 0.10693752020597458, 0.01723085530102253, 0.06892342120409012, 0.8615427613258362, 0.01723085530102253, 0.01723085530102253, 0.9203534126281738, 0.841857373714447, 0.043922994285821915, 0.04758324474096298, 0.03294224664568901, 0.03294224664568901, 0.03036601096391678, 0.03036601096391678, 0.03036601096391678, 0.9109803438186646, 0.03036601096391678, 0.1459786295890808, 0.38766512274742126, 0.16628029942512512, 0.1256769746541977, 0.1749810129404068, 0.1702885776758194, 0.3739253282546997, 0.19228418171405792, 0.07166311144828796, 0.19228418171405792, 0.04607216641306877, 0.8926482200622559, 0.01727706380188465, 0.023036083206534386, 0.023036083206534386, 0.6805922389030457, 0.07027854770421982, 0.11466499418020248, 0.066579669713974, 0.066579669713974, 0.737014651298523, 0.10142403841018677, 0.04733121767640114, 0.06761602312326431, 0.05409282073378563, 0.14208149909973145, 0.2222888022661209, 0.14208149909973145, 0.11916512995958328, 0.3735368549823761, 0.9133935570716858, 0.6791906952857971, 0.043494969606399536, 0.11710184067487717, 0.11041031032800674, 0.046840738505125046, 0.05127260461449623, 0.9229068756103516, 0.1561790257692337, 0.045342300087213516, 0.1158747598528862, 0.6347922086715698, 0.05038033053278923, 0.009425603784620762, 0.9331347942352295, 0.018851207569241524, 0.009425603784620762, 0.018851207569241524, 0.05124347284436226, 0.8638185262680054, 0.01464099157601595, 0.0292819831520319, 0.0292819831520319, 0.9179850220680237, 0.9513590335845947, 0.20775143802165985, 0.178226038813591, 0.2560657262802124, 0.20882509648799896, 0.14977429807186127, 0.25117892026901245, 0.1637314409017563, 0.2973214089870453, 0.1801045835018158, 0.10791391134262085, 0.03640284389257431, 0.9100711345672607, 0.03640284389257431, 0.8929508328437805, 0.17739315330982208, 0.030020378530025482, 0.09551938623189926, 0.6058658361434937, 0.09279026091098785, 0.0919308289885521, 0.01838616654276848, 0.03677233308553696, 0.845763623714447, 0.01838616654276848, 0.034351613372564316, 0.022901076823472977, 0.011450538411736488, 0.011450538411736488, 0.9160430431365967, 0.2134663462638855, 0.19439062476158142, 0.140796959400177, 0.30521145462989807, 0.14624716341495514, 0.8980705738067627, 0.9278943538665771, 0.9218832850456238, 0.9214991331100464, 0.02792421728372574, 0.02792421728372574, 0.3370002210140228, 0.18241968750953674, 0.1714305430650711, 0.1677675098180771, 0.1421261876821518, 0.039515458047389984, 0.039515458047389984, 0.9088555574417114, 0.05932466685771942, 0.013183259405195713, 0.019774889573454857, 0.23729866743087769, 0.6723462343215942, 1.0323337316513062, 0.8877423405647278, 0.02293018251657486, 0.3622969090938568, 0.07796262204647064, 0.02293018251657486, 0.5090500712394714, 0.4023842215538025, 0.0710764154791832, 0.2246931791305542, 0.25679221749305725, 0.04470935836434364, 0.900023341178894, 0.39020076394081116, 0.20753535628318787, 0.21353843808174133, 0.08318565785884857, 0.10462526232004166, 1.0167624950408936, 0.009535713121294975, 0.9488034248352051, 0.004767856560647488, 0.023839281871914864, 0.014303569681942463, 0.9195117354393005, 0.9944539070129395, 1.0707160234451294, 0.9424923658370972, 1.0684177875518799, 1.0676567554473877, 1.0559707880020142, 0.030918573960661888, 0.9275572299957275, 0.030918573960661888, 0.04324013739824295, 0.007206689566373825, 0.8503893613815308, 0.07927358895540237, 0.021620068699121475, 1.013425588607788, 0.9244605302810669, 0.054380033165216446, 0.01822502166032791, 0.01822502166032791, 0.9477011561393738, 0.02150312066078186, 0.02867082692682743, 0.02150312066078186, 0.014335413463413715, 0.9174664616584778, 0.8956209421157837, 0.23410072922706604, 0.2626032531261444, 0.20787841081619263, 0.12997150421142578, 0.16569466888904572, 0.15587742626667023, 0.3337521553039551, 0.1797710508108139, 0.1517055332660675, 0.17863325774669647, 0.042315803468227386, 0.923895001411438, 0.007052633911371231, 0.021157901734113693, 0.014105267822742462, 0.16861805319786072, 0.03549853712320328, 0.6256617307662964, 0.07099707424640656, 0.09762097150087357, 0.26837965846061707, 0.0567726194858551, 0.4971905052661896, 0.1393509805202484, 0.03784841299057007, 0.16007108986377716, 0.10936534404754639, 0.4981094300746918, 0.149134561419487, 0.08351535350084305, 0.15082313120365143, 0.07126807421445847, 0.5900333523750305, 0.12430477887392044, 0.06298109143972397, 0.01557840220630169, 0.9087401032447815, 0.03115680441260338, 0.025964003056287766, 0.020771201699972153, 0.2698523998260498, 0.3224166929721832, 0.15367524325847626, 0.09408005326986313, 0.15970171988010406, 0.3227013945579529, 0.2405761033296585, 0.170978382229805, 0.11367626488208771, 0.15218700468540192, 0.3552384376525879, 0.20947344601154327, 0.12079125642776489, 0.1783837229013443, 0.1360812932252884, 0.024974919855594635, 0.024974919855594635, 0.03746237978339195, 0.024974919855594635, 0.8990970849990845, 0.9189853072166443, 0.9169119596481323, 0.03986573964357376, 0.03986573964357376, 1.035599708557129, 1.0667738914489746, 0.9565771818161011, 0.31234273314476013, 0.1952141970396042, 0.17612658441066742, 0.20041991770267487, 0.11539328098297119, 0.19732974469661713, 0.13155317306518555, 0.22835643589496613, 0.30530261993408203, 0.13651743531227112, 1.0332801342010498, 0.2062816321849823, 0.10746408253908157, 0.2668073773384094, 0.34586140513420105, 0.0753483772277832], \"Term\": [\"-eyfp\", \"-eyfp\", \"-eyfp\", \"-strand\", \"-strand\", \"-strand\", \"-strand\", \"//doi.org/10.1101/2020.02.27.20027557\", \"//doi.org/10.1101/2020.03.30.20048264\", \"//doi.org/10.1101/213579\", \"//doi.org/10.1101/213579\", \"//doi.org/10.1101/774224\", \"//www.who.int/emergencies/diseases/novel-coronavirus-2019/situation-reports/\", \"12/42\", \"24-63\", \"3-wk-old\", \"303600\", \"4\\u00d710\", \"5'-triphosphate\", \"5'-triphosphate\", \"5'-triphosphate\", \"5'-triphosphate\", \"5'-triphosphate\", \"5-ht\", \"5-ht\", \"5-ht\", \"5-ht\", \"5metylisoxale-3-carboxylic\", \"6-day\", \"a/h1n1\", \"a/h1n1\", \"a/h1n1\", \"a/h5n1\", \"a/h5n1\", \"a/h5n1\", \"a/h5n1\", \"a/h5n1\", \"abomasal\", \"actiniform\", \"activation\", \"activation\", \"activation\", \"activation\", \"activation\", \"activity\", \"activity\", \"activity\", \"activity\", \"activity\", \"acute\", \"acute\", \"acute\", \"acute\", \"acute\", \"adjuvant\", \"adjuvant\", \"adjuvant\", \"adjuvant\", \"adjuvant\", \"adjuvants\", \"adjuvants\", \"adjuvants\", \"adjuvants\", \"adjuvants\", \"adp-ribose\", \"adp-ribose\", \"adp-ribose\", \"adp-ribose\", \"adp-ribose\", \"adpr-1\\u2033p\", \"adpr-1\\u2033p\", \"adpribose\", \"advax\", \"advax\", \"advax\", \"advax\", \"advax\", \"advax-adjuvanted\", \"advax-adjuvanted\", \"advax-adjuvanted\", \"advax-adjuvanted\", \"advax-adjuvanted\", \"ah109\", \"allergiques\", \"also\", \"also\", \"also\", \"also\", \"also\", \"amino\", \"amino\", \"amino\", \"amino\", \"amino\", \"amino-acid\", \"amino-acid\", \"amino-acid\", \"amino-acid\", \"amino-acid\", \"among\", \"among\", \"among\", \"among\", \"among\", \"analysis\", \"analysis\", \"analysis\", \"analysis\", \"analysis\", \"animals\", \"animals\", \"animals\", \"animals\", \"animals\", \"anti-coccidioidal\", \"anti-tt\", \"apoptosis\", \"apoptosis\", \"apoptosis\", \"apoptosis\", \"apoptosis\", \"applaud\", \"apsed\", \"articles\", \"articles\", \"articles\", \"articles\", \"articles\", \"assay\", \"assay\", \"assay\", \"assay\", \"assay\", \"associated\", \"associated\", \"associated\", \"associated\", \"associated\", \"asthma\", \"asthma\", \"asthma\", \"asthma\", \"asthma\", \"author\", \"author\", \"author\", \"author\", \"author\", \"author/funder\", \"author/funder\", \"author/funder\", \"author/funder\", \"author/funder\", \"autophagy\", \"autophagy\", \"autophagy\", \"autophagy\", \"autophagy\", \"autopsy\", \"autopsy\", \"autopsy\", \"autopsy\", \"autopsy\", \"avaren\", \"avaren\", \"avaren\", \"avfc\", \"avfc\", \"avfc\", \"avfc\", \"avfc\", \"bacterial\", \"bacterial\", \"bacterial\", \"bacterial\", \"bacterial\", \"bat-origin\", \"bat-sl-covzc45\", \"behavior\", \"behavior\", \"behavior\", \"behavior\", \"behavior\", \"benthamiana\", \"binding\", \"binding\", \"binding\", \"binding\", \"binding\", \"bioaerosols\", \"bioaerosols\", \"bioaerosols\", \"bioaerosols\", \"bioaerosols\", \"bj430\", \"bloat\", \"bloat\", \"bloat\", \"bloat\", \"bold\", \"bold\", \"bold\", \"bold\", \"bold\", \"boldest\", \"boldest\", \"boldest\", \"boldness\", \"boldness\", \"bpco\", \"breeds\", \"breeds\", \"breeds\", \"breeds\", \"breeds\", \"bronchiolitis\", \"bronchiolitis\", \"bronchiolitis\", \"bronchiolitis\", \"bronchiolitis\", \"bsat\", \"bsat\", \"bsat\", \"bsat\", \"bsat\", \"bulls\", \"bulls\", \"burnout\", \"burnout\", \"burnout\", \"burnout\", \"burnout\", \"cake\", \"calves\", \"calves\", \"calves\", \"calves\", \"calves\", \"canyon\", \"canyon\", \"canyon\", \"canyon\", \"canyon\", \"caprine\", \"caprine\", \"caprine\", \"caprine\", \"caps\", \"care\", \"care\", \"care\", \"care\", \"care\", \"cases\", \"cases\", \"cases\", \"cases\", \"cases\", \"casualty\", \"cattle\", \"cattle\", \"cattle\", \"cattle\", \"cattle\", \"cavv\", \"cavv\", \"cavv\", \"cavv\", \"cavv\", \"cc-by-nc\", \"cc-by-nc-nd\", \"cc-by-nc-nd\", \"cc-by-nc-nd\", \"cc-by-nc-nd\", \"cc-by-nc-nd\", \"cell\", \"cell\", \"cell\", \"cell\", \"cell\", \"cells\", \"cells\", \"cells\", \"cells\", \"cells\", \"cellular\", \"cellular\", \"cellular\", \"cellular\", \"cellular\", \"centrifugated\", \"cepi\", \"ceramide\", \"chamomile\", \"chamomile\", \"chamomile\", \"chanteraines\", \"chanteraines\", \"chanteraines\", \"chartreux\", \"children\", \"children\", \"children\", \"children\", \"children\", \"china\", \"china\", \"china\", \"china\", \"china\", \"chine\", \"chinese\", \"chinese\", \"chinese\", \"chinese\", \"chinese\", \"chip\", \"chip\", \"chip\", \"chip\", \"chip\", \"chn2012\", \"cholangiocyte\", \"cip1/waf1\", \"cip1/waf1\", \"cip1/waf1\", \"clinical\", \"clinical\", \"clinical\", \"clinical\", \"clinical\", \"clrs\", \"clrs\", \"clrs\", \"clrs\", \"clrs\", \"cocaine\", \"cocaine\", \"cocaine\", \"cocaine\", \"cocaine\", \"coccidioidal\", \"codon\", \"codon\", \"codon\", \"codon\", \"codon\", \"colonies\", \"colonies\", \"colonies\", \"colonies\", \"colonies\", \"common\", \"common\", \"common\", \"common\", \"common\", \"communication\", \"communication\", \"communication\", \"communication\", \"communication\", \"community\", \"community\", \"community\", \"community\", \"community\", \"competencies\", \"competencies\", \"competencies\", \"competencies\", \"competencies\", \"complacency\", \"compounds\", \"compounds\", \"compounds\", \"compounds\", \"compounds\", \"control\", \"control\", \"control\", \"control\", \"control\", \"copies/reaction\", \"copper\", \"copper\", \"copper\", \"copper\", \"copper\", \"copyright\", \"copyright\", \"copyright\", \"copyright\", \"copyright\", \"corneal\", \"corneal\", \"corneal\", \"corneal\", \"corneal\", \"corneum\", \"countries\", \"countries\", \"countries\", \"countries\", \"countries\", \"cov-zc45\", \"curriculum\", \"curriculum\", \"cyclin\", \"cyclin\", \"cyclin\", \"cyclin\", \"cyclin\", \"cypa\", \"cypa\", \"cypa\", \"cypa\", \"cypa\", \"data\", \"data\", \"data\", \"data\", \"data\", \"days\", \"days\", \"days\", \"days\", \"days\", \"dc-sign\", \"dc-sign\", \"dc-sign\", \"dc-sign\", \"dc-sign\", \"dc838\", \"dc838\", \"dc838\", \"dc838\", \"dectin\", \"dectin\", \"dectin\", \"dectin\", \"dectin\", \"denv-2\", \"denv-2\", \"denv-2\", \"denv-2\", \"denv-2\", \"detention\", \"dfle\", \"dfle\", \"dfle\", \"dfle\", \"dfle\", \"dhhs\", \"dhori\", \"dhori\", \"dhori\", \"dhori\", \"dhori\", \"diagnosis\", \"diagnosis\", \"diagnosis\", \"diagnosis\", \"diagnosis\", \"diarrhoea\", \"diarrhoea\", \"diarrhoea\", \"diarrhoea\", \"diarrhoea\", \"diarrhoeic\", \"diarrhoeic\", \"diarrhoeic\", \"different\", \"different\", \"different\", \"different\", \"different\", \"disability\", \"disability\", \"disability\", \"disability\", \"disability\", \"disc1\", \"disc1\", \"disease\", \"disease\", \"disease\", \"disease\", \"disease\", \"diseases\", \"diseases\", \"diseases\", \"diseases\", \"diseases\", \"diterpenes\", \"dohmh\", \"domain\", \"domain\", \"domain\", \"domain\", \"domain\", \"dsss\", \"dsss\", \"dsss\", \"ducks\", \"ducks\", \"ducks\", \"ducks\", \"ducks\", \"durc\", \"durc\", \"durc\", \"durc\", \"durc\", \"ecmo\", \"ecmo\", \"ecmo\", \"ecmo\", \"ecmo\", \"ecthyma\", \"ecthyma\", \"ectrim13\", \"ectrim13\", \"ectrim13\", \"ectrim13\", \"edema\", \"edema\", \"edema\", \"edema\", \"edema\", \"edim\", \"edim\", \"edim\", \"edim\", \"edim\", \"education\", \"education\", \"education\", \"education\", \"education\", \"emcv\", \"emcv\", \"emcv\", \"emcv\", \"emcv\", \"emtricitabine\", \"emtricitabine\", \"emtricitabine\", \"emtricitabine\", \"emtricitabine\", \"epizootiology\", \"erbil\", \"eri3\", \"eri3\", \"eri3\", \"eri3\", \"eri3\", \"eslide\", \"ewes\", \"ewes\", \"ewes\", \"ewes\", \"ewes\", \"expcm\", \"expcm\", \"expcm\", \"expcm\", \"expcm\", \"expression\", \"expression\", \"expression\", \"expression\", \"expression\", \"fcov\", \"fcov\", \"fcov\", \"fcov\", \"fcov\", \"feed\", \"feed\", \"feed\", \"feed\", \"feed\", \"ferret\", \"ferret\", \"ferret\", \"ferret\", \"ferret\", \"ferrets\", \"ferrets\", \"ferrets\", \"ferrets\", \"ferrets\", \"fever\", \"fever\", \"fever\", \"fever\", \"fever\", \"fhv-1\", \"fhv-1\", \"fhv-1\", \"fibrilar\", \"fidelity\", \"fidelity\", \"fidelity\", \"fidelity\", \"fidelity\", \"figure\", \"figure\", \"figure\", \"figure\", \"figure\", \"filmarray\", \"filmarray\", \"filmarray\", \"filmarray\", \"first\", \"first\", \"first\", \"first\", \"first\", \"forum\", \"forum\", \"forum\", \"forum\", \"forum\", \"found\", \"found\", \"found\", \"found\", \"found\", \"fusion\", \"fusion\", \"fusion\", \"fusion\", \"fusion\", \"g64s\", \"g64s\", \"g64s\", \"g64s\", \"g64s\", \"gain-of-function\", \"gain-of-function\", \"gangnam\", \"gap-repair\", \"gdap2\", \"gdap2\", \"gdap2\", \"gene\", \"gene\", \"gene\", \"gene\", \"gene\", \"genes\", \"genes\", \"genes\", \"genes\", \"genes\", \"gfp-lc3\", \"ginseng\", \"ginseng\", \"ginseng\", \"ginseng\", \"global\", \"global\", \"global\", \"global\", \"global\", \"glycemic\", \"glycerin\", \"goats\", \"goats\", \"goats\", \"goats\", \"goats\", \"government\", \"government\", \"government\", \"government\", \"government\", \"gp120\", \"gp120\", \"gp120\", \"gp120\", \"gp120\", \"gp120-binding\", \"gp120-capture\", \"granted\", \"granted\", \"granted\", \"granted\", \"granted\", \"griffithsin\", \"griffithsin\", \"griffithsin\", \"griffithsin\", \"griffithsin\", \"group\", \"group\", \"group\", \"group\", \"group\", \"grouper\", \"groups\", \"groups\", \"groups\", \"groups\", \"groups\", \"guano\", \"guhmgr\", \"guhmgr\", \"guhmgr\", \"guhmgr\", \"gyeongsangbuk-do\", \"hadv-55\", \"hadv-55\", \"hadv-55\", \"hadv-55\", \"hadv-b14\", \"hadv-b14\", \"hadv-b14p1\", \"hajj\", \"hajj\", \"hajj\", \"hajj\", \"hajj\", \"hajj-associated\", \"hcov-19\", \"head-to-head\", \"health\", \"health\", \"health\", \"health\", \"health\", \"heifers\", \"herald\", \"herd\", \"herd\", \"herd\", \"herd\", \"herd\", \"herds\", \"herds\", \"herds\", \"herds\", \"herds\", \"hev/hrv\", \"hexon\", \"hexon\", \"hexon\", \"hiv-1\", \"hiv-1\", \"hiv-1\", \"hiv-1\", \"hiv-1\", \"holder\", \"holder\", \"holder\", \"holder\", \"holder\", \"hoof\", \"hosts.subsequent\", \"however\", \"however\", \"however\", \"however\", \"however\", \"hpai\", \"hpai\", \"hpai\", \"hpai\", \"hpai\", \"hscrp\", \"https\", \"https\", \"https\", \"https\", \"https\", \"human\", \"human\", \"human\", \"human\", \"human\", \"ibcs\", \"ifit1\", \"ifit1\", \"ifit1\", \"ifit1\", \"ifn-c\", \"ifn-c\", \"ifn-c\", \"ifn-c\", \"il-27\", \"il-27\", \"il-27\", \"il-27\", \"il-27\", \"iltv\", \"iltv\", \"iltv\", \"iltv\", \"iltv\", \"immune\", \"immune\", \"immune\", \"immune\", \"immune\", \"importin\", \"include\", \"include\", \"include\", \"include\", \"include\", \"including\", \"including\", \"including\", \"including\", \"including\", \"infected\", \"infected\", \"infected\", \"infected\", \"infected\", \"infection\", \"infection\", \"infection\", \"infection\", \"infection\", \"infections\", \"infections\", \"infections\", \"infections\", \"infections\", \"infectious\", \"infectious\", \"infectious\", \"infectious\", \"infectious\", \"infl\", \"infl\", \"infl\", \"infl\", \"infl\", \"influenza\", \"influenza\", \"influenza\", \"influenza\", \"influenza\", \"information\", \"information\", \"information\", \"information\", \"information\", \"inhibition\", \"inhibition\", \"inhibition\", \"inhibition\", \"inhibition\", \"institutions\", \"institutions\", \"institutions\", \"institutions\", \"institutions\", \"inter-mediate\", \"international\", \"international\", \"international\", \"international\", \"international\", \"intubation\", \"intubation\", \"intubation\", \"intubation\", \"intubation\", \"in\\u00afammatory\", \"iridovirus\", \"islet\", \"islet\", \"islet\", \"islet\", \"islet\", \"ity9/ity9\", \"jim6nez\", \"keratitis\", \"keratitis\", \"keratitis\", \"keratitis\", \"keratitis\", \"kids\", \"kids\", \"kids\", \"kids\", \"kids\", \"kurdistan\", \"kv/m\", \"kv/m\", \"kv/m\", \"kv/m\", \"lambs\", \"lambs\", \"lambs\", \"lambs\", \"lambs\", \"lasv-infected\", \"lbsap\", \"lbsap\", \"lbsap\", \"lbsap\", \"lbsap\", \"lectibody\", \"lesions\", \"lesions\", \"lesions\", \"lesions\", \"lesions\", \"levels\", \"levels\", \"levels\", \"levels\", \"levels\", \"license\", \"license\", \"license\", \"license\", \"license\", \"licorice\", \"licorice\", \"lncrnas\", \"lncrnas\", \"lncrnas\", \"lncrnas\", \"lncrnas\", \"low-fidelity\", \"low-fidelity\", \"low-risk\", \"luteolin\", \"luteolin\", \"luteolin\", \"luteolin\", \"lymphogenesis\", \"macro\", \"macro\", \"macro\", \"macro\", \"macro\", \"malaria\", \"malaria\", \"malaria\", \"malaria\", \"malaria\", \"mastitis\", \"mastitis\", \"mastitis\", \"mastitis\", \"mastitis\", \"mcis\", \"mcis\", \"mcis\", \"mdo1\", \"mdo1\", \"mdo1\", \"mdo1\", \"mdo2\", \"measures\", \"measures\", \"measures\", \"measures\", \"measures\", \"medrxiv\", \"medrxiv\", \"medrxiv\", \"medrxiv\", \"medrxiv\", \"mefs\", \"megaterium\", \"membrane\", \"membrane\", \"membrane\", \"membrane\", \"membrane\", \"mg/dl\", \"mg772933\", \"mg\\u00b7ml\", \"mice\", \"mice\", \"mice\", \"mice\", \"mice\", \"migcat\", \"migcat\", \"migcat\", \"migcat\", \"miro1\", \"miro1\", \"miro1\", \"miro1\", \"miro1\", \"mmwr\", \"modc\", \"modc\", \"modc\", \"modc\", \"modc\", \"mol\\u00b7l\", \"monounsaturated\", \"mopv\", \"mopv\", \"mopv\", \"mopv\", \"mopv\", \"multi-scanning\", \"nacl\", \"nacl\", \"nacl\", \"nacl\", \"nacl\", \"nano-silver\", \"nano-silver\", \"nano-silver\", \"nano-silver\", \"nano-silver\", \"national\", \"national\", \"national\", \"national\", \"national\", \"ndp52\", \"nextgen\", \"nextgen\", \"nextgen\", \"niacin\", \"none-bats\", \"noninvasive\", \"noninvasive\", \"noninvasive\", \"noninvasive\", \"noninvasive\", \"npro\", \"npro\", \"npro\", \"npro\", \"ns5a-p6\", \"nsabb\", \"number\", \"number\", \"number\", \"number\", \"number\", \"nurses\", \"nurses\", \"nurses\", \"nurses\", \"nurses\", \"nursing\", \"nursing\", \"nursing\", \"nursing\", \"nursing\", \"octyldodecyl\", \"officinalis\", \"officinalis\", \"officinalis\", \"officinalis\", \"oldest-old\", \"oldest-old\", \"oldest-old\", \"oldest-old\", \"oldest-old\", \"olive\", \"olive\", \"olive\", \"olive\", \"olive\", \"operationalized\", \"organism\", \"organism\", \"organism\", \"organism\", \"organism\", \"organisms\", \"organisms\", \"organisms\", \"organisms\", \"organisms\", \"ozone\", \"ozone\", \"ozone\", \"ozone\", \"ozone\", \"p110\", \"p110\", \"p110\", \"p110\", \"p120\", \"p120\", \"p120\", \"p120\", \"p120\", \"p160\", \"p160\", \"p160\", \"p160\", \"p160\", \"pandemic\", \"pandemic\", \"pandemic\", \"pandemic\", \"pandemic\", \"papn\", \"papn\", \"papn\", \"papn\", \"papn\", \"patients\", \"patients\", \"patients\", \"patients\", \"patients\", \"pc22a\", \"pc22a\", \"pc22a\", \"pc22a\", \"pc22a\", \"pcv-2\", \"pcv-2\", \"pcv-2\", \"pcv-2\", \"pcv-2\", \"pcv2\", \"pcv2\", \"pcv2\", \"pcv2\", \"pcv2\", \"pedv\", \"pedv\", \"pedv\", \"pedv\", \"pedv\", \"peer-reviewed\", \"peer-reviewed\", \"peer-reviewed\", \"peer-reviewed\", \"peer-reviewed\", \"pegfp-ectrim13-dr\", \"pegfp-n3\", \"people\", \"people\", \"people\", \"people\", \"people\", \"perpetuity.is\", \"perpetuity.is\", \"perpetuity.is\", \"perpetuity.is\", \"phic\", \"photocatalyst\", \"photocatalyst\", \"photocatalyst\", \"photocatalyst\", \"pigs\", \"pigs\", \"pigs\", \"pigs\", \"pigs\", \"pilgrims\", \"pilgrims\", \"pilgrims\", \"pilgrims\", \"pilgrims\", \"pk-15\", \"pk-15\", \"pk-15\", \"pk-15\", \"pk-15\", \"pk15\", \"pneumonia\", \"pneumonia\", \"pneumonia\", \"pneumonia\", \"pneumonia\", \"policy\", \"policy\", \"policy\", \"policy\", \"policy\", \"poly\", \"poly\", \"poly\", \"poly\", \"poly\", \"population\", \"population\", \"population\", \"population\", \"population\", \"ppc86\", \"preferences\", \"preferences\", \"preferences\", \"preferences\", \"preferences\", \"preparedness\", \"preparedness\", \"preparedness\", \"preparedness\", \"preparedness\", \"preprint\", \"preprint\", \"preprint\", \"preprint\", \"preprint\", \"prison\", \"protein\", \"protein\", \"protein\", \"protein\", \"protein\", \"proteins\", \"proteins\", \"proteins\", \"proteins\", \"proteins\", \"ptx3\", \"ptx3\", \"ptx3\", \"ptx3\", \"ptx3\", \"public\", \"public\", \"public\", \"public\", \"public\", \"quarantine\", \"quarantine\", \"quarantine\", \"quarantine\", \"quarantine\", \"r114h/r114h\", \"rad5m\", \"rad5n\", \"rad5n\", \"rad5z\", \"radiogra\", \"raf1\", \"raf1\", \"raf1\", \"raf1\", \"raman\", \"recognises\", \"regulations\", \"regulations\", \"regulations\", \"regulations\", \"regulations\", \"replication\", \"replication\", \"replication\", \"replication\", \"replication\", \"reported\", \"reported\", \"reported\", \"reported\", \"reported\", \"research\", \"research\", \"research\", \"research\", \"research\", \"respiratory\", \"respiratory\", \"respiratory\", \"respiratory\", \"respiratory\", \"results\", \"results\", \"results\", \"results\", \"results\", \"rftb\", \"rgnnv\", \"ridt\", \"ridts\", \"risk\", \"risk\", \"risk\", \"risk\", \"risk\", \"risk-benefit\", \"rn2-2\", \"rn2-2\", \"rn2-2\", \"rn2-2\", \"rn2-2\", \"rosemary\", \"rumen\", \"rumen\", \"rumen\", \"rumen\", \"rumen\", \"ruminants\", \"ruminants\", \"ruminants\", \"ruminants\", \"ruminants\", \"rumours\", \"rvfv\", \"rvfv\", \"rvfv\", \"rvfv\", \"rvfv\", \"s100a9\", \"s100a9\", \"s100a9\", \"s100a9\", \"s100a9\", \"safeguards\", \"samples\", \"samples\", \"samples\", \"samples\", \"samples\", \"sanctions\", \"sanitary\", \"sanitary\", \"sanitary\", \"sanitary\", \"sanitary\", \"sarbecovirus\", \"sars-cov\", \"sars-cov\", \"sars-cov\", \"sars-cov\", \"sars-cov\", \"sars-cov-tor2\", \"sarscov\", \"sarscov\", \"sarscov\", \"sarscov\", \"sarscov\", \"schizophrenia\", \"schizophrenia\", \"schizophrenia\", \"schizophrenia\", \"schizophrenia\", \"sec14\", \"sequence\", \"sequence\", \"sequence\", \"sequence\", \"sequence\", \"sequences\", \"sequences\", \"sequences\", \"sequences\", \"sequences\", \"serum-starve\", \"severe\", \"severe\", \"severe\", \"severe\", \"severe\", \"sftsv\", \"sftsv\", \"sftsv\", \"sftsv\", \"sftsv\", \"sgiv\", \"sheep\", \"sheep\", \"sheep\", \"sheep\", \"sheep\", \"shorebirds\", \"shorebirds\", \"shorebirds\", \"shorebirds\", \"shorebirds\", \"showed\", \"showed\", \"showed\", \"showed\", \"showed\", \"shown\", \"shown\", \"shown\", \"shown\", \"shown\", \"signalling\", \"signalling\", \"signalling\", \"signalling\", \"signalling\", \"signs\", \"signs\", \"signs\", \"signs\", \"signs\", \"silico\", \"silico\", \"silico\", \"silico\", \"silico\", \"site\", \"site\", \"site\", \"site\", \"site\", \"smbr\", \"specimens\", \"specimens\", \"specimens\", \"specimens\", \"specimens\", \"spiders\", \"spiders\", \"staff\", \"staff\", \"staff\", \"staff\", \"staff\", \"stfr\", \"stfr\", \"stfr\", \"stfr\", \"stfr\", \"sting\", \"sting\", \"sting\", \"sting\", \"sting\", \"sting-tbk1-irf3-irf7\", \"stratum\", \"studies\", \"studies\", \"studies\", \"studies\", \"studies\", \"study\", \"study\", \"study\", \"study\", \"study\", \"sub-lineage\", \"sub-lineage\", \"sub-lineage\", \"subgenus\", \"surveillance\", \"surveillance\", \"surveillance\", \"surveillance\", \"surveillance\", \"sustainability\", \"sustainability\", \"sustainability\", \"sustainability\", \"sustainability\", \"syncrip\", \"syncrip\", \"syncrip\", \"syncrip\", \"syncrip\", \"system\", \"system\", \"system\", \"system\", \"system\", \"system-wide\", \"s~inchez\", \"tax1bp1\", \"tfeb\", \"tfeb\", \"tfeb\", \"time\", \"time\", \"time\", \"time\", \"time\", \"title\", \"title\", \"title\", \"tourism\", \"tourism\", \"tourism\", \"tourism\", \"tourism\", \"toxoid-specific\", \"transcutaneous\", \"transfection\", \"transfection\", \"transfection\", \"transfection\", \"transfection\", \"transmission\", \"transmission\", \"transmission\", \"transmission\", \"transmission\", \"transparently\", \"treatment\", \"treatment\", \"treatment\", \"treatment\", \"treatment\", \"treshold\", \"trex1\", \"trex1\", \"trex1\", \"trex1\", \"trex1\", \"trex1-deficient\", \"trim\", \"trim11\", \"trim13\", \"trim13s\", \"trims\", \"tripeptide\", \"trop2\", \"trop2\", \"trop2\", \"uenza\", \"uenza\", \"uenza\", \"uenza\", \"uenza\", \"uids\", \"urtd\", \"urtd\", \"urti\", \"urti\", \"urti\", \"us11\", \"us11\", \"us11\", \"us11\", \"us11\", \"us11-eyfp\", \"used\", \"used\", \"used\", \"used\", \"used\", \"using\", \"using\", \"using\", \"using\", \"using\", \"usp18\", \"usp18\", \"usp18\", \"usp18\", \"usp18\", \"vaccinated\", \"vaccinated\", \"vaccinated\", \"vaccinated\", \"vaccinated\", \"vaccination\", \"vaccination\", \"vaccination\", \"vaccination\", \"vaccination\", \"vaccine\", \"vaccine\", \"vaccine\", \"vaccine\", \"vaccine\", \"vaccines\", \"vaccines\", \"vaccines\", \"vaccines\", \"vaccines\", \"vanadium\", \"vanadium\", \"vanadium\", \"vanadium\", \"vanadium\", \"viral\", \"viral\", \"viral\", \"viral\", \"viral\", \"virus\", \"virus\", \"virus\", \"virus\", \"virus\", \"viruses\", \"viruses\", \"viruses\", \"viruses\", \"viruses\", \"vlps\", \"vlps\", \"vlps\", \"vlps\", \"vlps\", \"vsv-pegfp\", \"warts\", \"warts\", \"warts\", \"waruhiu\", \"web-server\", \"winthrop-university\", \"within\", \"within\", \"within\", \"within\", \"within\", \"would\", \"would\", \"would\", \"would\", \"would\", \"xrays\", \"years\", \"years\", \"years\", \"years\", \"years\"]}, \"R\": 30, \"lambda.step\": 0.01, \"plot.opts\": {\"xlab\": \"PC1\", \"ylab\": \"PC2\"}, \"topic.order\": [2, 1, 3, 4, 5]};\n",
       "\n",
       "function LDAvis_load_lib(url, callback){\n",
       "  var s = document.createElement('script');\n",
       "  s.src = url;\n",
       "  s.async = true;\n",
       "  s.onreadystatechange = s.onload = callback;\n",
       "  s.onerror = function(){console.warn(\"failed to load library \" + url);};\n",
       "  document.getElementsByTagName(\"head\")[0].appendChild(s);\n",
       "}\n",
       "\n",
       "if(typeof(LDAvis) !== \"undefined\"){\n",
       "   // already loaded: just create the visualization\n",
       "   !function(LDAvis){\n",
       "       new LDAvis(\"#\" + \"ldavis_el242771396682503319841859246244\", ldavis_el242771396682503319841859246244_data);\n",
       "   }(LDAvis);\n",
       "}else if(typeof define === \"function\" && define.amd){\n",
       "   // require.js is available: use it to load d3/LDAvis\n",
       "   require.config({paths: {d3: \"https://cdnjs.cloudflare.com/ajax/libs/d3/3.5.5/d3.min\"}});\n",
       "   require([\"d3\"], function(d3){\n",
       "      window.d3 = d3;\n",
       "      LDAvis_load_lib(\"https://cdn.rawgit.com/bmabey/pyLDAvis/files/ldavis.v1.0.0.js\", function(){\n",
       "        new LDAvis(\"#\" + \"ldavis_el242771396682503319841859246244\", ldavis_el242771396682503319841859246244_data);\n",
       "      });\n",
       "    });\n",
       "}else{\n",
       "    // require.js not available: dynamically load d3 & LDAvis\n",
       "    LDAvis_load_lib(\"https://cdnjs.cloudflare.com/ajax/libs/d3/3.5.5/d3.min.js\", function(){\n",
       "         LDAvis_load_lib(\"https://cdn.rawgit.com/bmabey/pyLDAvis/files/ldavis.v1.0.0.js\", function(){\n",
       "                 new LDAvis(\"#\" + \"ldavis_el242771396682503319841859246244\", ldavis_el242771396682503319841859246244_data);\n",
       "            })\n",
       "         });\n",
       "}\n",
       "</script>"
      ],
      "text/plain": [
       "<IPython.core.display.HTML object>"
      ]
     },
     "execution_count": 32,
     "metadata": {},
     "output_type": "execute_result"
    }
   ],
   "source": [
    "vis = pyLDAvis.gensim.prepare(topic_model=lda_model, corpus=corpus, dictionary=dictionary_LDA)\n",
    "pyLDAvis.enable_notebook()\n",
    "pyLDAvis.display(vis)"
   ]
  },
  {
   "cell_type": "markdown",
   "metadata": {},
   "source": [
    "The exact topics found depend on the hyperparameters but still exploring the particular topics found might help to see where reasearch is currenly going. For instance, the topic 3 found by one of the models probably **detects a topic about virus origins, relation to covid in animals and ways of transmission**: ![alt text](../images/covid_lda.png \"lda\")"
   ]
  },
  {
   "cell_type": "markdown",
   "metadata": {},
   "source": [
    "### Final remarks\n",
    "We have developed a few simple and interpretable tools and demonstrated, with a couple of examples, how they can help with the posed questions."
   ]
  }
 ],
 "metadata": {
  "kernelspec": {
   "display_name": "Python 3",
   "language": "python",
   "name": "python3"
  },
  "language_info": {
   "codemirror_mode": {
    "name": "ipython",
    "version": 3
   },
   "file_extension": ".py",
   "mimetype": "text/x-python",
   "name": "python",
   "nbconvert_exporter": "python",
   "pygments_lexer": "ipython3",
   "version": "3.7.4"
  }
 },
 "nbformat": 4,
 "nbformat_minor": 4
}
