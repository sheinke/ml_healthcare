{
 "cells": [
  {
   "cell_type": "markdown",
   "metadata": {},
   "source": [
    "# ML4H Project 3\n",
    " \n",
    "\n",
    "We analyze a set of 3D prostate magnetic resonance images and segment them into 3 different areas: background (0), peripheral zone (1) and central gland (2). The gif below represents a learning process of our final pipeline for an example from a validation set.\n",
    "<img src=\"animation.gif\" width=\"750\" align=\"center\">"
   ]
  },
  {
   "cell_type": "markdown",
   "metadata": {},
   "source": [
    "## Project organization"
   ]
  },
  {
   "cell_type": "markdown",
   "metadata": {},
   "source": [
    "1.   **Visualize and analyse the dataset:**  \n",
    "`data_exploration.ipynb`  \n",
    "We visualise sliced normal and rotated samples and corresponding labels. We analyse total and per image class distributions.\n",
    "\n",
    "2.   **Experiments and hyperparameter tuning:**  \n",
    "`hyperparameter_tuning.ipynb`  \n",
    "The above notebook is experimental. It contains pieces of code used for hyperparameter tuning and model selection. Different architectures and losses are included. It does not represent the final pipeline but should be used as a reference to see what various approaches were attempted.\n",
    "\n",
    "3.   **Final reproducible U-Net pipeline:**  \n",
    "`UNET_Image_Segmentation.ipynb`  \n",
    "In this notebook we present full data loading, preprocessing, training, training process monitoring and testing pipeline. Please run the notebook to reproduce our results.\n"
   ]
  },
  {
   "cell_type": "markdown",
   "metadata": {},
   "source": [
    "## Report\n",
    "More detailed project summary with OP, PC and IoU scores for the two test sets can be found in `REPORT_project_3.pdf`  "
   ]
  },
  {
   "cell_type": "markdown",
   "metadata": {},
   "source": [
    "## Individual main contributions\n",
    "\n",
    "Simon has performed data exploration, created the first keras implementation of U-Net and training procedure, experimented with many different U-net variants and loss functions.  \n",
    "Anastasia has made extensive search over different architectures and loss functions, analysed the training process and prepared the majority of the final project report.  \n",
    "Alicja has implemented tensorflow data preprocessing pipeline and the training framework with all metrics, first version of weighted loss functions and data visualisations in tensorboard and created this notebook.\n",
    "\n",
    "The above lists only main contributions as we did many of the above tasks together.  \n",
    "The authors share belief that they have all contributed to the project equally :)"
   ]
  }
 ],
 "metadata": {
  "kernelspec": {
   "display_name": "Python 3",
   "language": "python",
   "name": "python3"
  },
  "language_info": {
   "codemirror_mode": {
    "name": "ipython",
    "version": 3
   },
   "file_extension": ".py",
   "mimetype": "text/x-python",
   "name": "python",
   "nbconvert_exporter": "python",
   "pygments_lexer": "ipython3",
   "version": "3.6.6"
  }
 },
 "nbformat": 4,
 "nbformat_minor": 4
}
